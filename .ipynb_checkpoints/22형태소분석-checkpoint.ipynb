{
 "cells": [
  {
   "cell_type": "markdown",
   "id": "2c145e7e-d054-43ff-abfb-af0fe6d51f14",
   "metadata": {},
   "source": [
    "# 0. 환경설정"
   ]
  },
  {
   "cell_type": "code",
   "execution_count": 4,
   "id": "9654e6bf-550b-4d78-b3e1-80d6b00d1f71",
   "metadata": {},
   "outputs": [],
   "source": [
    "import os\n",
    "import pandas as pd\n",
    "import numpy as np\n",
    "\n",
    "import requests\n",
    "from bs4 import BeautifulSoup as bts\n",
    "import json\n",
    "import re\n",
    "import time\n",
    "from tqdm.notebook import tqdm\n",
    "\n",
    "from kiwipiepy import Kiwi\n",
    "from kiwipiepy.utils import Stopwords\n",
    "from sklearn.feature_extraction.text import CountVectorizer\n",
    "from sklearn.feature_extraction.text import TfidfVectorizer"
   ]
  },
  {
   "cell_type": "code",
   "execution_count": 5,
   "id": "9bf31a43-b1f2-414a-9610-3222035eb01d",
   "metadata": {},
   "outputs": [],
   "source": [
    "df22 = pd.read_csv('data/2022_log.csv')\n",
    "df23 = pd.read_csv('data/2023_log.csv')"
   ]
  },
  {
   "cell_type": "code",
   "execution_count": 6,
   "id": "dc3f1bf3-3e89-4949-b2bc-39258bcd1110",
   "metadata": {},
   "outputs": [
    {
     "data": {
      "text/html": [
       "<div>\n",
       "<style scoped>\n",
       "    .dataframe tbody tr th:only-of-type {\n",
       "        vertical-align: middle;\n",
       "    }\n",
       "\n",
       "    .dataframe tbody tr th {\n",
       "        vertical-align: top;\n",
       "    }\n",
       "\n",
       "    .dataframe thead th {\n",
       "        text-align: right;\n",
       "    }\n",
       "</style>\n",
       "<table border=\"1\" class=\"dataframe\">\n",
       "  <thead>\n",
       "    <tr style=\"text-align: right;\">\n",
       "      <th></th>\n",
       "      <th>Press</th>\n",
       "      <th>Headline</th>\n",
       "      <th>Analysis</th>\n",
       "    </tr>\n",
       "  </thead>\n",
       "  <tbody>\n",
       "    <tr>\n",
       "      <th>0</th>\n",
       "      <td>IT동아</td>\n",
       "      <td>잇따르는 전기차 화재, 왜 발생할까?</td>\n",
       "      <td>부정</td>\n",
       "    </tr>\n",
       "    <tr>\n",
       "      <th>1</th>\n",
       "      <td>경향신문</td>\n",
       "      <td>고성능은 기본…전기차, 이제 사이즈로 승부한다</td>\n",
       "      <td>중립</td>\n",
       "    </tr>\n",
       "    <tr>\n",
       "      <th>2</th>\n",
       "      <td>오마이뉴스</td>\n",
       "      <td>\"가장 전기차다운…\" 연비-주행 모든 것 담았다</td>\n",
       "      <td>긍정</td>\n",
       "    </tr>\n",
       "    <tr>\n",
       "      <th>3</th>\n",
       "      <td>MBC</td>\n",
       "      <td>싼타페 너마저..전기차 시대, 베트남 중국 인도가 몰려온다</td>\n",
       "      <td>중립</td>\n",
       "    </tr>\n",
       "    <tr>\n",
       "      <th>4</th>\n",
       "      <td>오토타임즈</td>\n",
       "      <td>[시승]엔트리 고급 전기차의 가치, 아우디 Q4 e-트론 40</td>\n",
       "      <td>중립</td>\n",
       "    </tr>\n",
       "  </tbody>\n",
       "</table>\n",
       "</div>"
      ],
      "text/plain": [
       "   Press                            Headline Analysis\n",
       "0   IT동아                잇따르는 전기차 화재, 왜 발생할까?       부정\n",
       "1   경향신문           고성능은 기본…전기차, 이제 사이즈로 승부한다       중립\n",
       "2  오마이뉴스          \"가장 전기차다운…\" 연비-주행 모든 것 담았다       긍정\n",
       "3    MBC    싼타페 너마저..전기차 시대, 베트남 중국 인도가 몰려온다       중립\n",
       "4  오토타임즈  [시승]엔트리 고급 전기차의 가치, 아우디 Q4 e-트론 40       중립"
      ]
     },
     "execution_count": 6,
     "metadata": {},
     "output_type": "execute_result"
    }
   ],
   "source": [
    "df22.head()"
   ]
  },
  {
   "cell_type": "code",
   "execution_count": 8,
   "id": "297d7471-8d9a-4549-a05b-260ef5b93636",
   "metadata": {},
   "outputs": [],
   "source": [
    "df22['Headline'] = df22['Headline'].str.replace(pat = '<.+?>', repl = '', regex = True)\n",
    "df23['Headline'] = df23['Headline'].str.replace(pat = '<.+?>', repl = '', regex = True)"
   ]
  },
  {
   "cell_type": "code",
   "execution_count": 9,
   "id": "493d74ca-2d73-4307-83b4-2cb763028d8e",
   "metadata": {},
   "outputs": [
    {
     "data": {
      "text/plain": [
       "0                  잇따르는 전기차 화재, 왜 발생할까?\n",
       "1             고성능은 기본…전기차, 이제 사이즈로 승부한다\n",
       "2            \"가장 전기차다운…\" 연비-주행 모든 것 담았다\n",
       "3      싼타페 너마저..전기차 시대, 베트남 중국 인도가 몰려온다\n",
       "4    [시승]엔트리 고급 전기차의 가치, 아우디 Q4 e-트론 40\n",
       "Name: Headline, dtype: object"
      ]
     },
     "execution_count": 9,
     "metadata": {},
     "output_type": "execute_result"
    }
   ],
   "source": [
    "df22['Headline'].head()"
   ]
  },
  {
   "cell_type": "code",
   "execution_count": 10,
   "id": "d4445e02-c7cd-4222-b488-ceb3a0639010",
   "metadata": {},
   "outputs": [
    {
     "data": {
      "text/plain": [
       "'C:\\\\Users\\\\kim jeongah\\\\OneDrive\\\\Desktop\\\\DMF\\\\DBR_Project\\\\DBR_Project\\\\code'"
      ]
     },
     "execution_count": 10,
     "metadata": {},
     "output_type": "execute_result"
    }
   ],
   "source": [
    "os.getcwd()"
   ]
  },
  {
   "cell_type": "code",
   "execution_count": 11,
   "id": "b28a48e6-490e-482c-915f-ab5bad3f5641",
   "metadata": {},
   "outputs": [],
   "source": [
    "pd.to_pickle(obj = df22, filepath_or_buffer = 'df22.pkl')\n",
    "pd.to_pickle(obj = df23, filepath_or_buffer = 'df23.pkl')"
   ]
  },
  {
   "cell_type": "code",
   "execution_count": 12,
   "id": "296af813-cacf-46ba-8145-80898a266a99",
   "metadata": {},
   "outputs": [
    {
     "data": {
      "text/plain": [
       "['.DS_Store',\n",
       " '.gitignore',\n",
       " '.ipynb_checkpoints',\n",
       " '00_Library_Installation.ipynb',\n",
       " '22시각화-Copy1.ipynb',\n",
       " '22시각화.ipynb',\n",
       " '22형태소분석-Copy1.ipynb',\n",
       " '22형태소분석.ipynb',\n",
       " 'A1_Naver_News_Link_Func.ipynb',\n",
       " 'A2_Naver_News_Body_Func.ipynb',\n",
       " 'A3_Naver_News_Reply_Func.ipynb',\n",
       " 'B1_Text_Mining.ipynb',\n",
       " 'B2_Visualization.ipynb',\n",
       " 'B3_Topic_Modeling.ipynb',\n",
       " 'data',\n",
       " 'df22.pkl',\n",
       " 'df23.pkl',\n",
       " 'venv']"
      ]
     },
     "execution_count": 12,
     "metadata": {},
     "output_type": "execute_result"
    }
   ],
   "source": [
    "os.listdir()"
   ]
  },
  {
   "cell_type": "code",
   "execution_count": 13,
   "id": "1016d00b-fa8a-449f-88ae-2f7600e8cab2",
   "metadata": {},
   "outputs": [],
   "source": [
    "os.chdir(path = '../data')"
   ]
  },
  {
   "cell_type": "code",
   "execution_count": 14,
   "id": "efa9cc6a-7189-4d38-820f-00486a0f3243",
   "metadata": {},
   "outputs": [
    {
     "data": {
      "text/plain": [
       "['22_Prep.pkl',\n",
       " '23_Prep.pkl',\n",
       " 'Naver_News_List.pkl',\n",
       " 'Naver_News_Reply.pkl',\n",
       " 'Text_Prep.pkl',\n",
       " 'df22.pkl',\n",
       " 'df23.pkl']"
      ]
     },
     "execution_count": 14,
     "metadata": {},
     "output_type": "execute_result"
    }
   ],
   "source": [
    "sorted(os.listdir())"
   ]
  },
  {
   "cell_type": "code",
   "execution_count": 15,
   "id": "095e0e3f-5ad0-46a9-8641-ea679c839163",
   "metadata": {},
   "outputs": [],
   "source": [
    "df22 = pd.read_pickle(filepath_or_buffer = 'df22.pkl')\n",
    "df23 = pd.read_pickle(filepath_or_buffer = 'df23.pkl')"
   ]
  },
  {
   "cell_type": "code",
   "execution_count": 103,
   "id": "c97e817e-9aec-4bf7-9ab6-73a55d79944e",
   "metadata": {},
   "outputs": [
    {
     "data": {
      "text/html": [
       "<div>\n",
       "<style scoped>\n",
       "    .dataframe tbody tr th:only-of-type {\n",
       "        vertical-align: middle;\n",
       "    }\n",
       "\n",
       "    .dataframe tbody tr th {\n",
       "        vertical-align: top;\n",
       "    }\n",
       "\n",
       "    .dataframe thead th {\n",
       "        text-align: right;\n",
       "    }\n",
       "</style>\n",
       "<table border=\"1\" class=\"dataframe\">\n",
       "  <thead>\n",
       "    <tr style=\"text-align: right;\">\n",
       "      <th></th>\n",
       "      <th>Press</th>\n",
       "      <th>Headline</th>\n",
       "      <th>Analysis</th>\n",
       "    </tr>\n",
       "  </thead>\n",
       "  <tbody>\n",
       "    <tr>\n",
       "      <th>0</th>\n",
       "      <td>연합뉴스</td>\n",
       "      <td>'내년 첫 전기차 출시' 中샤오미 \"테슬라 따라잡을 준비됐다\"</td>\n",
       "      <td>긍정</td>\n",
       "    </tr>\n",
       "    <tr>\n",
       "      <th>1</th>\n",
       "      <td>YTN</td>\n",
       "      <td>'자국 우선주의' 허들 만난 '전기차', 묘수는?</td>\n",
       "      <td>중립</td>\n",
       "    </tr>\n",
       "    <tr>\n",
       "      <th>2</th>\n",
       "      <td>연합뉴스</td>\n",
       "      <td>애플 따라하던 中 샤오미, 전기차는 먼저 치고나가</td>\n",
       "      <td>긍정</td>\n",
       "    </tr>\n",
       "    <tr>\n",
       "      <th>3</th>\n",
       "      <td>연합뉴스</td>\n",
       "      <td>美 전기차 전환, 정부 지원에도 수요 감소로 기대보다 느려</td>\n",
       "      <td>부정</td>\n",
       "    </tr>\n",
       "    <tr>\n",
       "      <th>4</th>\n",
       "      <td>매일경제</td>\n",
       "      <td>주춤한 전기차 … 내년 보급형 몰려온다</td>\n",
       "      <td>중립</td>\n",
       "    </tr>\n",
       "  </tbody>\n",
       "</table>\n",
       "</div>"
      ],
      "text/plain": [
       "  Press                            Headline Analysis\n",
       "0  연합뉴스  '내년 첫 전기차 출시' 中샤오미 \"테슬라 따라잡을 준비됐다\"       긍정\n",
       "1   YTN         '자국 우선주의' 허들 만난 '전기차', 묘수는?       중립\n",
       "2  연합뉴스         애플 따라하던 中 샤오미, 전기차는 먼저 치고나가       긍정\n",
       "3  연합뉴스    美 전기차 전환, 정부 지원에도 수요 감소로 기대보다 느려       부정\n",
       "4  매일경제               주춤한 전기차 … 내년 보급형 몰려온다       중립"
      ]
     },
     "execution_count": 103,
     "metadata": {},
     "output_type": "execute_result"
    }
   ],
   "source": [
    "df23.head()"
   ]
  },
  {
   "cell_type": "code",
   "execution_count": 104,
   "id": "11c3366d-798f-4f74-9f1e-f12bb32e7cf0",
   "metadata": {},
   "outputs": [
    {
     "data": {
      "text/html": [
       "<div>\n",
       "<style scoped>\n",
       "    .dataframe tbody tr th:only-of-type {\n",
       "        vertical-align: middle;\n",
       "    }\n",
       "\n",
       "    .dataframe tbody tr th {\n",
       "        vertical-align: top;\n",
       "    }\n",
       "\n",
       "    .dataframe thead th {\n",
       "        text-align: right;\n",
       "    }\n",
       "</style>\n",
       "<table border=\"1\" class=\"dataframe\">\n",
       "  <thead>\n",
       "    <tr style=\"text-align: right;\">\n",
       "      <th></th>\n",
       "      <th>Press</th>\n",
       "      <th>Headline</th>\n",
       "      <th>Analysis</th>\n",
       "    </tr>\n",
       "  </thead>\n",
       "  <tbody>\n",
       "    <tr>\n",
       "      <th>0</th>\n",
       "      <td>IT동아</td>\n",
       "      <td>잇따르는 전기차 화재, 왜 발생할까?</td>\n",
       "      <td>부정</td>\n",
       "    </tr>\n",
       "    <tr>\n",
       "      <th>1</th>\n",
       "      <td>경향신문</td>\n",
       "      <td>고성능은 기본…전기차, 이제 사이즈로 승부한다</td>\n",
       "      <td>중립</td>\n",
       "    </tr>\n",
       "    <tr>\n",
       "      <th>2</th>\n",
       "      <td>오마이뉴스</td>\n",
       "      <td>\"가장 전기차다운…\" 연비-주행 모든 것 담았다</td>\n",
       "      <td>긍정</td>\n",
       "    </tr>\n",
       "    <tr>\n",
       "      <th>3</th>\n",
       "      <td>MBC</td>\n",
       "      <td>싼타페 너마저..전기차 시대, 베트남 중국 인도가 몰려온다</td>\n",
       "      <td>중립</td>\n",
       "    </tr>\n",
       "    <tr>\n",
       "      <th>4</th>\n",
       "      <td>오토타임즈</td>\n",
       "      <td>[시승]엔트리 고급 전기차의 가치, 아우디 Q4 e-트론 40</td>\n",
       "      <td>중립</td>\n",
       "    </tr>\n",
       "  </tbody>\n",
       "</table>\n",
       "</div>"
      ],
      "text/plain": [
       "   Press                            Headline Analysis\n",
       "0   IT동아                잇따르는 전기차 화재, 왜 발생할까?       부정\n",
       "1   경향신문           고성능은 기본…전기차, 이제 사이즈로 승부한다       중립\n",
       "2  오마이뉴스          \"가장 전기차다운…\" 연비-주행 모든 것 담았다       긍정\n",
       "3    MBC    싼타페 너마저..전기차 시대, 베트남 중국 인도가 몰려온다       중립\n",
       "4  오토타임즈  [시승]엔트리 고급 전기차의 가치, 아우디 Q4 e-트론 40       중립"
      ]
     },
     "execution_count": 104,
     "metadata": {},
     "output_type": "execute_result"
    }
   ],
   "source": [
    "df22.head()"
   ]
  },
  {
   "cell_type": "code",
   "execution_count": 16,
   "id": "a8e97c70-a391-471d-8dd1-cba520487067",
   "metadata": {},
   "outputs": [
    {
     "name": "stdout",
     "output_type": "stream",
     "text": [
      "<class 'pandas.core.frame.DataFrame'>\n",
      "RangeIndex: 782 entries, 0 to 781\n",
      "Data columns (total 3 columns):\n",
      " #   Column    Non-Null Count  Dtype \n",
      "---  ------    --------------  ----- \n",
      " 0   Press     782 non-null    object\n",
      " 1   Headline  782 non-null    object\n",
      " 2   Analysis  782 non-null    object\n",
      "dtypes: object(3)\n",
      "memory usage: 18.5+ KB\n"
     ]
    }
   ],
   "source": [
    "df22.info()"
   ]
  },
  {
   "cell_type": "code",
   "execution_count": 17,
   "id": "56ecda3b-9dd4-4b38-8a3c-08e4789576df",
   "metadata": {},
   "outputs": [],
   "source": [
    "sens = df22['Headline']"
   ]
  },
  {
   "cell_type": "code",
   "execution_count": 18,
   "id": "dc44cd73-5363-4d38-994b-57f0ed5aa630",
   "metadata": {},
   "outputs": [
    {
     "data": {
      "text/plain": [
       "0                     잇따르는 전기차 화재, 왜 발생할까?\n",
       "1                고성능은 기본…전기차, 이제 사이즈로 승부한다\n",
       "2               \"가장 전기차다운…\" 연비-주행 모든 것 담았다\n",
       "3         싼타페 너마저..전기차 시대, 베트남 중국 인도가 몰려온다\n",
       "4       [시승]엔트리 고급 전기차의 가치, 아우디 Q4 e-트론 40\n",
       "                      ...                 \n",
       "95                전기차, '인포테인먼트' 품고 뉴노멀車 될까\n",
       "96     \"내년엔 보조금 폐지, 빨리 사자\"…中, 전기차 불티나게 팔렸다\n",
       "97                 떠오르는 동남아 전기차 시장 한중일 각축전\n",
       "98    [시승기] 맘놓고 오래 달려도 걱정없는 전기차..현대차 아이오닉6\n",
       "99                  [시론] 빠르게 다가오는 '전기차 혁명'\n",
       "Name: Headline, Length: 100, dtype: object"
      ]
     },
     "execution_count": 18,
     "metadata": {},
     "output_type": "execute_result"
    }
   ],
   "source": [
    "sens.head(100)"
   ]
  },
  {
   "cell_type": "code",
   "execution_count": 19,
   "id": "d7c332fa-795f-4d05-a600-93cbe88d7356",
   "metadata": {},
   "outputs": [
    {
     "data": {
      "text/plain": [
       "'고성능은 기본…전기차, 이제 사이즈로 승부한다'"
      ]
     },
     "execution_count": 19,
     "metadata": {},
     "output_type": "execute_result"
    }
   ],
   "source": [
    " i=0\n",
    "sens.iloc[1]"
   ]
  },
  {
   "cell_type": "markdown",
   "id": "cd2c8a87-3553-404a-bde8-968db42bc6e5",
   "metadata": {},
   "source": [
    "# 0.1 빈도수 정확도를 높이기 위한 튜닝"
   ]
  },
  {
   "cell_type": "code",
   "execution_count": 69,
   "id": "7c6788ed-fc94-402b-ad8a-2988b5d8245a",
   "metadata": {},
   "outputs": [],
   "source": [
    "# sens에서 지정한 패턴이 아닌 글자를 공백으로 변경하고 sens에 재할당\n",
    "sens = sens.str.replace(pat = '[^가-힣A-Za-z0-9.]|&.+;', repl = '', regex = True)\n",
    "\n",
    "# 일부 단어를 변경함\n",
    "sens = sens.str.replace(pat = 'e트론', repl = '아우디', regex = True)\n",
    "# sens = sens.str.replace(pat = '전기', repl = '전기차', regex = True)\n",
    "sens = sens.str.replace(pat = '전기', repl = '', regex = True)\n",
    "sens = sens.str.replace(pat = '기차', repl = '', regex = True)\n",
    "sens = sens.str.replace(pat = '차다', repl = '', regex = True)"
   ]
  },
  {
   "cell_type": "markdown",
   "id": "521eb32b-04cd-40d2-bac7-2ab0bf6110b7",
   "metadata": {},
   "source": [
    "# 1. 형태소 분석"
   ]
  },
  {
   "cell_type": "code",
   "execution_count": 70,
   "id": "29fb9af8-53aa-4075-a3a7-ec78f4be409a",
   "metadata": {},
   "outputs": [],
   "source": [
    "kiwistop = Stopwords()"
   ]
  },
  {
   "cell_type": "code",
   "execution_count": 71,
   "id": "5b960ca0-a408-4a08-a3a8-71b87e348d93",
   "metadata": {},
   "outputs": [],
   "source": [
    "kiwi = Kiwi()"
   ]
  },
  {
   "cell_type": "code",
   "execution_count": 72,
   "id": "9437c1db-ae98-4237-9388-03ad6a292323",
   "metadata": {},
   "outputs": [
    {
     "data": {
      "text/plain": [
       "'시승엔트리고급차의가치아우디Q4아우디40'"
      ]
     },
     "execution_count": 72,
     "metadata": {},
     "output_type": "execute_result"
    }
   ],
   "source": [
    "sens[i]"
   ]
  },
  {
   "cell_type": "code",
   "execution_count": 73,
   "id": "bdb69fd7-57ad-46f7-9513-a3f17e752026",
   "metadata": {},
   "outputs": [
    {
     "data": {
      "text/plain": [
       "[Token(form='시승', tag='NNG', start=0, len=2),\n",
       " Token(form='엔트리', tag='NNG', start=2, len=3),\n",
       " Token(form='고급차', tag='NNG', start=5, len=3),\n",
       " Token(form='가치', tag='NNG', start=9, len=2),\n",
       " Token(form='아우디', tag='NNG', start=11, len=3),\n",
       " Token(form='Q', tag='SL', start=14, len=1),\n",
       " Token(form='4', tag='SN', start=15, len=1),\n",
       " Token(form='아우디', tag='NNG', start=16, len=3),\n",
       " Token(form='40', tag='SN', start=19, len=2)]"
      ]
     },
     "execution_count": 73,
     "metadata": {},
     "output_type": "execute_result"
    }
   ],
   "source": [
    "kiwi.tokenize(text = sens[i], stopwords = kiwistop)"
   ]
  },
  {
   "cell_type": "code",
   "execution_count": 74,
   "id": "9ca8c8c5-0f0d-4aeb-9725-eb07e350ef2b",
   "metadata": {},
   "outputs": [],
   "source": [
    "words = ['인도','e트론']"
   ]
  },
  {
   "cell_type": "code",
   "execution_count": 75,
   "id": "d40a5746-f7f4-45fd-9d4c-b66194853219",
   "metadata": {},
   "outputs": [],
   "source": [
    "for word in words:\n",
    "    kiwi.add_user_word(word = word, tag = 'NNP', score = 15)"
   ]
  },
  {
   "cell_type": "code",
   "execution_count": 76,
   "id": "a2ded76a-e36a-49d0-b5d3-45d006d67039",
   "metadata": {},
   "outputs": [
    {
     "data": {
      "text/plain": [
       "[Token(form='시승', tag='NNG', start=0, len=2),\n",
       " Token(form='엔트리', tag='NNG', start=2, len=3),\n",
       " Token(form='고급차', tag='NNG', start=5, len=3),\n",
       " Token(form='가치', tag='NNG', start=9, len=2),\n",
       " Token(form='아우디', tag='NNG', start=11, len=3),\n",
       " Token(form='Q', tag='SL', start=14, len=1),\n",
       " Token(form='4', tag='SN', start=15, len=1),\n",
       " Token(form='아우디', tag='NNG', start=16, len=3),\n",
       " Token(form='40', tag='SN', start=19, len=2)]"
      ]
     },
     "execution_count": 76,
     "metadata": {},
     "output_type": "execute_result"
    }
   ],
   "source": [
    "tokens = kiwi.tokenize(text = sens[i], stopwords = kiwistop)\n",
    "\n",
    "tokens"
   ]
  },
  {
   "cell_type": "code",
   "execution_count": 77,
   "id": "e734ed9e-0850-4473-b5d3-237cda155518",
   "metadata": {},
   "outputs": [
    {
     "name": "stdout",
     "output_type": "stream",
     "text": [
      "형태:Q\n",
      "품사:SL\n"
     ]
    }
   ],
   "source": [
    "print(f'형태:{tokens[5].form}')\n",
    "print(f'품사:{tokens[5].tag}')"
   ]
  },
  {
   "cell_type": "code",
   "execution_count": 78,
   "id": "18357879-28ef-445d-8a3a-98b040260250",
   "metadata": {},
   "outputs": [],
   "source": [
    "pos1, pos2 = ['VV', 'VA'], ['NNG', 'NNP']"
   ]
  },
  {
   "cell_type": "code",
   "execution_count": 79,
   "id": "064b8b8d-db3a-4dac-b5c0-650fd99e0ef0",
   "metadata": {},
   "outputs": [
    {
     "data": {
      "text/plain": [
       "['시승', '엔트리', '고급차', '가치', '아우디', '아우디']"
      ]
     },
     "execution_count": 79,
     "metadata": {},
     "output_type": "execute_result"
    }
   ],
   "source": [
    "# 형태소의 품사가 용언과 체언인 형태소만 선택하고 품사가 용언인 형태소에 \n",
    "# 종결어미 '다'를 결합하여 리스트로 반환\n",
    "\n",
    "tokens = [token.form + '다' if token.tag in pos1 else token.form \n",
    "          for token in tokens if token.tag in pos1 + pos2]\n",
    "\n",
    "tokens"
   ]
  },
  {
   "cell_type": "markdown",
   "id": "c48c0c4d-09a3-49f2-9eea-21d2772b2fab",
   "metadata": {},
   "source": [
    "# 2. 말뭉치 생성"
   ]
  },
  {
   "cell_type": "code",
   "execution_count": 80,
   "id": "1a1c5394-4326-43a0-bc95-c7afa9d18f84",
   "metadata": {},
   "outputs": [],
   "source": [
    "# 말뭉치를 저장할 빈 리스트 생성\n",
    "corpus = list()\n",
    "\n",
    "# sens의 원소(문서)를 형태소 분석하고 일부 품사를 선택하여 말뭉치에 추가\n",
    "for sen in sens:\n",
    "    tokens = kiwi.tokenize(text = sen, stopwords = kiwistop)\n",
    "    tokens = [token.form + '다' if token.tag in pos1 else token.form \n",
    "              for token in tokens if token.tag in pos1 + pos2]\n",
    "    corpus.append(tokens)"
   ]
  },
  {
   "cell_type": "code",
   "execution_count": 81,
   "id": "da9b47cb-f979-4abc-9331-67e59931abd0",
   "metadata": {},
   "outputs": [
    {
     "name": "stdout",
     "output_type": "stream",
     "text": [
      "['잇따르다', '차', '화재', '발생']\n",
      "['성능', '기본', '사이즈', '승부']\n",
      "['운', '연비', '주행', '담다']\n",
      "['싼타페', '차시', '베트남', '중국', '인도', '몰려오다']\n",
      "['시승', '엔트리', '고급차', '가치', '아우디', '아우디']\n"
     ]
    }
   ],
   "source": [
    "# 형태소 분석 결과(corpus)의 처음 5개 원소 확인\n",
    "# [참고] 원본 문서와 결과를 비교하여 사용자 사전에 추가하는 것을 반복해야 함\n",
    "for i in range(5):\n",
    "    print(corpus[i])"
   ]
  },
  {
   "cell_type": "code",
   "execution_count": 82,
   "id": "eab3d716-6933-4733-a461-4e6ed8e1889c",
   "metadata": {},
   "outputs": [
    {
     "name": "stdout",
     "output_type": "stream",
     "text": [
      "잇따르는 전기차 화재, 왜 발생할까? \n",
      "\n",
      "고성능은 기본…전기차, 이제 사이즈로 승부한다 \n",
      "\n",
      "\"가장 전기차다운…\" 연비-주행 모든 것 담았다 \n",
      "\n",
      "싼타페 너마저..전기차 시대, 베트남 중국 인도가 몰려온다 \n",
      "\n",
      "[시승]엔트리 고급 전기차의 가치, 아우디 Q4 e-트론 40 \n",
      "\n"
     ]
    }
   ],
   "source": [
    "for i in range(5):\n",
    "    print(df22['Headline'].iloc[i], '\\n')"
   ]
  },
  {
   "cell_type": "markdown",
   "id": "caa5459d-efe4-4f64-ad40-1a71e2f6fea1",
   "metadata": {},
   "source": [
    "# 3. 문서-단어 행렬 생성"
   ]
  },
  {
   "cell_type": "code",
   "execution_count": 83,
   "id": "adc15791-e148-4a41-b49d-1f881fbbd252",
   "metadata": {},
   "outputs": [
    {
     "data": {
      "text/plain": [
       "['잇따르다 차 화재 발생',\n",
       " '성능 기본 사이즈 승부',\n",
       " '운 연비 주행 담다',\n",
       " '싼타페 차시 베트남 중국 인도 몰려오다',\n",
       " '시승 엔트리 고급차 가치 아우디 아우디']"
      ]
     },
     "execution_count": 83,
     "metadata": {},
     "output_type": "execute_result"
    }
   ],
   "source": [
    "# corpus의 각 원소(리스트)를 하나의 문자열로 결합하여 corpus에 재할당\n",
    "# [참고] 문서-단어 행렬 생성하려면 corpus 원소가 문자열이어야 함\n",
    "corpus = [' '.join(i) for i in corpus]\n",
    "\n",
    "# corpus의 처음 5개 확인\n",
    "corpus[0:5]"
   ]
  },
  {
   "cell_type": "code",
   "execution_count": 84,
   "id": "85ba1281-2767-4217-a69c-12ae42293343",
   "metadata": {},
   "outputs": [],
   "source": [
    "# 문서별 단어의 tf를 계산하는 객체 생성\n",
    "# [참고] TfidfVectorizer()는 단어의 tf-idf를 반환\n",
    "cv = CountVectorizer()"
   ]
  },
  {
   "cell_type": "code",
   "execution_count": 85,
   "id": "887ae3dc-0ef7-427a-aa92-843425f3dfef",
   "metadata": {},
   "outputs": [
    {
     "data": {
      "text/plain": [
       "array([[0, 0, 0, ..., 0, 0, 0],\n",
       "       [0, 0, 0, ..., 0, 0, 0],\n",
       "       [0, 0, 0, ..., 0, 0, 0],\n",
       "       ...,\n",
       "       [0, 0, 0, ..., 0, 0, 0],\n",
       "       [0, 0, 0, ..., 0, 0, 0],\n",
       "       [0, 0, 0, ..., 0, 0, 0]], dtype=int64)"
      ]
     },
     "execution_count": 85,
     "metadata": {},
     "output_type": "execute_result"
    }
   ],
   "source": [
    "# 단어의 tf를 성분으로 갖는 문서-단어 행렬 생성\n",
    "dtm = cv.fit_transform(raw_documents = corpus).toarray()\n",
    "\n",
    "# dtm 확인\n",
    "# [참고] dtm은 2차원 행렬임\n",
    "dtm"
   ]
  },
  {
   "cell_type": "code",
   "execution_count": 86,
   "id": "0a19957e-0764-4632-8775-bbafef1be806",
   "metadata": {},
   "outputs": [
    {
     "data": {
      "text/plain": [
       "array(['1위비야디', 'gm포드차', 'k차', ..., '흔들리다', '희비', '히터'], dtype=object)"
      ]
     },
     "execution_count": 86,
     "metadata": {},
     "output_type": "execute_result"
    }
   ],
   "source": [
    "# cv 객체에 저장된 단어 목록 확인\n",
    "# [참고] 알파벳이 모두 소문자로 바뀌었음\n",
    "cv.get_feature_names_out()"
   ]
  },
  {
   "cell_type": "code",
   "execution_count": 87,
   "id": "2719ef69-0e40-43ad-86c3-e78f5d01faf9",
   "metadata": {},
   "outputs": [],
   "source": [
    "# dtm을 데이터프레임으로 변환\n",
    "dtm = pd.DataFrame(data = dtm, columns = cv.get_feature_names_out())"
   ]
  },
  {
   "cell_type": "code",
   "execution_count": 88,
   "id": "6fbe8b45-be24-44be-b152-51e43befd117",
   "metadata": {},
   "outputs": [],
   "source": [
    "# dtm의 열이름에서 알파벳을 대문자로 변경\n",
    "dtm.columns = dtm.columns.str.upper()"
   ]
  },
  {
   "cell_type": "code",
   "execution_count": 89,
   "id": "4a6640b5-7406-43fa-8d65-d1ac37296c64",
   "metadata": {},
   "outputs": [
    {
     "data": {
      "text/html": [
       "<div>\n",
       "<style scoped>\n",
       "    .dataframe tbody tr th:only-of-type {\n",
       "        vertical-align: middle;\n",
       "    }\n",
       "\n",
       "    .dataframe tbody tr th {\n",
       "        vertical-align: top;\n",
       "    }\n",
       "\n",
       "    .dataframe thead th {\n",
       "        text-align: right;\n",
       "    }\n",
       "</style>\n",
       "<table border=\"1\" class=\"dataframe\">\n",
       "  <thead>\n",
       "    <tr style=\"text-align: right;\">\n",
       "      <th></th>\n",
       "      <th>1위비야디</th>\n",
       "      <th>GM포드차</th>\n",
       "      <th>K차</th>\n",
       "      <th>LG유플러스</th>\n",
       "      <th>가격</th>\n",
       "      <th>가능</th>\n",
       "      <th>가다</th>\n",
       "      <th>가동</th>\n",
       "      <th>가로등</th>\n",
       "      <th>가로막다</th>\n",
       "      <th>...</th>\n",
       "      <th>휘발유</th>\n",
       "      <th>휠체어</th>\n",
       "      <th>휴가철</th>\n",
       "      <th>휴게소</th>\n",
       "      <th>휴일</th>\n",
       "      <th>흉내</th>\n",
       "      <th>흑자</th>\n",
       "      <th>흔들리다</th>\n",
       "      <th>희비</th>\n",
       "      <th>히터</th>\n",
       "    </tr>\n",
       "  </thead>\n",
       "  <tbody>\n",
       "    <tr>\n",
       "      <th>0</th>\n",
       "      <td>0</td>\n",
       "      <td>0</td>\n",
       "      <td>0</td>\n",
       "      <td>0</td>\n",
       "      <td>0</td>\n",
       "      <td>0</td>\n",
       "      <td>0</td>\n",
       "      <td>0</td>\n",
       "      <td>0</td>\n",
       "      <td>0</td>\n",
       "      <td>...</td>\n",
       "      <td>0</td>\n",
       "      <td>0</td>\n",
       "      <td>0</td>\n",
       "      <td>0</td>\n",
       "      <td>0</td>\n",
       "      <td>0</td>\n",
       "      <td>0</td>\n",
       "      <td>0</td>\n",
       "      <td>0</td>\n",
       "      <td>0</td>\n",
       "    </tr>\n",
       "    <tr>\n",
       "      <th>1</th>\n",
       "      <td>0</td>\n",
       "      <td>0</td>\n",
       "      <td>0</td>\n",
       "      <td>0</td>\n",
       "      <td>0</td>\n",
       "      <td>0</td>\n",
       "      <td>0</td>\n",
       "      <td>0</td>\n",
       "      <td>0</td>\n",
       "      <td>0</td>\n",
       "      <td>...</td>\n",
       "      <td>0</td>\n",
       "      <td>0</td>\n",
       "      <td>0</td>\n",
       "      <td>0</td>\n",
       "      <td>0</td>\n",
       "      <td>0</td>\n",
       "      <td>0</td>\n",
       "      <td>0</td>\n",
       "      <td>0</td>\n",
       "      <td>0</td>\n",
       "    </tr>\n",
       "    <tr>\n",
       "      <th>2</th>\n",
       "      <td>0</td>\n",
       "      <td>0</td>\n",
       "      <td>0</td>\n",
       "      <td>0</td>\n",
       "      <td>0</td>\n",
       "      <td>0</td>\n",
       "      <td>0</td>\n",
       "      <td>0</td>\n",
       "      <td>0</td>\n",
       "      <td>0</td>\n",
       "      <td>...</td>\n",
       "      <td>0</td>\n",
       "      <td>0</td>\n",
       "      <td>0</td>\n",
       "      <td>0</td>\n",
       "      <td>0</td>\n",
       "      <td>0</td>\n",
       "      <td>0</td>\n",
       "      <td>0</td>\n",
       "      <td>0</td>\n",
       "      <td>0</td>\n",
       "    </tr>\n",
       "    <tr>\n",
       "      <th>3</th>\n",
       "      <td>0</td>\n",
       "      <td>0</td>\n",
       "      <td>0</td>\n",
       "      <td>0</td>\n",
       "      <td>0</td>\n",
       "      <td>0</td>\n",
       "      <td>0</td>\n",
       "      <td>0</td>\n",
       "      <td>0</td>\n",
       "      <td>0</td>\n",
       "      <td>...</td>\n",
       "      <td>0</td>\n",
       "      <td>0</td>\n",
       "      <td>0</td>\n",
       "      <td>0</td>\n",
       "      <td>0</td>\n",
       "      <td>0</td>\n",
       "      <td>0</td>\n",
       "      <td>0</td>\n",
       "      <td>0</td>\n",
       "      <td>0</td>\n",
       "    </tr>\n",
       "    <tr>\n",
       "      <th>4</th>\n",
       "      <td>0</td>\n",
       "      <td>0</td>\n",
       "      <td>0</td>\n",
       "      <td>0</td>\n",
       "      <td>0</td>\n",
       "      <td>0</td>\n",
       "      <td>0</td>\n",
       "      <td>0</td>\n",
       "      <td>0</td>\n",
       "      <td>0</td>\n",
       "      <td>...</td>\n",
       "      <td>0</td>\n",
       "      <td>0</td>\n",
       "      <td>0</td>\n",
       "      <td>0</td>\n",
       "      <td>0</td>\n",
       "      <td>0</td>\n",
       "      <td>0</td>\n",
       "      <td>0</td>\n",
       "      <td>0</td>\n",
       "      <td>0</td>\n",
       "    </tr>\n",
       "  </tbody>\n",
       "</table>\n",
       "<p>5 rows × 1705 columns</p>\n",
       "</div>"
      ],
      "text/plain": [
       "   1위비야디  GM포드차  K차  LG유플러스  가격  가능  가다  가동  가로등  가로막다  ...  휘발유  휠체어  휴가철  \\\n",
       "0      0      0   0       0   0   0   0   0    0     0  ...    0    0    0   \n",
       "1      0      0   0       0   0   0   0   0    0     0  ...    0    0    0   \n",
       "2      0      0   0       0   0   0   0   0    0     0  ...    0    0    0   \n",
       "3      0      0   0       0   0   0   0   0    0     0  ...    0    0    0   \n",
       "4      0      0   0       0   0   0   0   0    0     0  ...    0    0    0   \n",
       "\n",
       "   휴게소  휴일  흉내  흑자  흔들리다  희비  히터  \n",
       "0    0   0   0   0     0   0   0  \n",
       "1    0   0   0   0     0   0   0  \n",
       "2    0   0   0   0     0   0   0  \n",
       "3    0   0   0   0     0   0   0  \n",
       "4    0   0   0   0     0   0   0  \n",
       "\n",
       "[5 rows x 1705 columns]"
      ]
     },
     "execution_count": 89,
     "metadata": {},
     "output_type": "execute_result"
    }
   ],
   "source": [
    "dtm.head()"
   ]
  },
  {
   "cell_type": "code",
   "execution_count": 90,
   "id": "379964bc-e625-4528-b32f-ab62a41e1392",
   "metadata": {},
   "outputs": [
    {
     "data": {
      "text/plain": [
       "(782, 1705)"
      ]
     },
     "execution_count": 90,
     "metadata": {},
     "output_type": "execute_result"
    }
   ],
   "source": [
    "dtm.shape"
   ]
  },
  {
   "cell_type": "code",
   "execution_count": 91,
   "id": "9c805aa9-37d6-4fc0-9e03-19373eb4b044",
   "metadata": {},
   "outputs": [],
   "source": [
    "tfs = dtm.sum().sort_values(ascending = False)"
   ]
  },
  {
   "cell_type": "code",
   "execution_count": 92,
   "id": "557845d5-68e9-4acc-b07b-6d7800be0eea",
   "metadata": {},
   "outputs": [
    {
     "data": {
      "text/plain": [
       "보조금    108\n",
       "한국      59\n",
       "배터리     56\n",
       "충전      51\n",
       "테슬라     47\n",
       "시장      45\n",
       "중국      43\n",
       "미국      35\n",
       "차별      33\n",
       "차다      31\n",
       "dtype: int64"
      ]
     },
     "metadata": {},
     "output_type": "display_data"
    },
    {
     "data": {
      "text/plain": [
       "사이즈     1\n",
       "사각지대    1\n",
       "사운드     1\n",
       "사용자     1\n",
       "사수      1\n",
       "사상      1\n",
       "사물      1\n",
       "사무소     1\n",
       "사례      1\n",
       "히터      1\n",
       "dtype: int64"
      ]
     },
     "metadata": {},
     "output_type": "display_data"
    }
   ],
   "source": [
    "# tfs의 상위 10개 및 하위 10개 확인\n",
    "display(tfs.head(n = 10))\n",
    "display(tfs.tail(n = 10))"
   ]
  },
  {
   "cell_type": "code",
   "execution_count": 93,
   "id": "09b53429-daef-4bdc-b7bb-2dbdade4ce6c",
   "metadata": {},
   "outputs": [],
   "source": [
    "# tfs가 20 이하인 인덱스(단어)를 dtm에서 제거\n",
    "# [참고] 단어 빈도수를 높일수록 dtm의 열(차원) 개수가 감소함\n",
    "threshold = 20\n",
    "dtm = dtm.drop(columns = tfs.loc[tfs.le(threshold)].index)"
   ]
  },
  {
   "cell_type": "code",
   "execution_count": 94,
   "id": "dbf2ac5b-7e52-4bef-b2ed-996343359135",
   "metadata": {},
   "outputs": [
    {
     "data": {
      "text/plain": [
       "(782, 20)"
      ]
     },
     "execution_count": 94,
     "metadata": {},
     "output_type": "execute_result"
    }
   ],
   "source": [
    "# dtm의 행 개수와 열 개수 확인\n",
    "# [참고] 단어 빈도수가 매우 작은 일부 단어를 삭제함으로써 차원(열) 축소 가능\n",
    "# [참고] dtm의 차원을 축소하면 행렬곱 연산을 빠르게 실행할 수 있음\n",
    "dtm.shape"
   ]
  },
  {
   "cell_type": "code",
   "execution_count": 95,
   "id": "5bbc4bc5-8aca-4cdd-b2b2-2ca2736f03db",
   "metadata": {},
   "outputs": [
    {
     "data": {
      "text/plain": [
       "'C:\\\\Users\\\\kim jeongah\\\\OneDrive\\\\Desktop\\\\DMF\\\\DBR_Project\\\\DBR_Project\\\\data'"
      ]
     },
     "execution_count": 95,
     "metadata": {},
     "output_type": "execute_result"
    }
   ],
   "source": [
    "# 현재 작업 경로 확인\n",
    "os.getcwd()"
   ]
  },
  {
   "cell_type": "code",
   "execution_count": 96,
   "id": "f770fe6a-f85d-4067-ba83-d015690e3e8b",
   "metadata": {},
   "outputs": [],
   "source": [
    "# corpus, tfs 및 dtm을 하나의 pkl 파일로 저장\n",
    "pd.to_pickle(obj = [corpus, tfs, dtm], filepath_or_buffer = '22_Prep.pkl')"
   ]
  },
  {
   "cell_type": "code",
   "execution_count": 149,
   "id": "c7986849-7520-486c-9fbc-4a389d6f6ccc",
   "metadata": {},
   "outputs": [
    {
     "data": {
      "text/plain": [
       "['22_Prep.pkl',\n",
       " 'df22.pkl',\n",
       " 'df23.pkl',\n",
       " 'Naver_News_List.pkl',\n",
       " 'Naver_News_Reply.pkl',\n",
       " 'Text_Prep.pkl']"
      ]
     },
     "execution_count": 149,
     "metadata": {},
     "output_type": "execute_result"
    }
   ],
   "source": [
    "# 현재 작업 경로에 있는 폴더명과 파일명 확인\n",
    "os.listdir()"
   ]
  },
  {
   "cell_type": "code",
   "execution_count": 97,
   "id": "b48471f2-a640-4e48-b972-7ff257648413",
   "metadata": {},
   "outputs": [
    {
     "data": {
      "text/html": [
       "<div>\n",
       "<style scoped>\n",
       "    .dataframe tbody tr th:only-of-type {\n",
       "        vertical-align: middle;\n",
       "    }\n",
       "\n",
       "    .dataframe tbody tr th {\n",
       "        vertical-align: top;\n",
       "    }\n",
       "\n",
       "    .dataframe thead th {\n",
       "        text-align: right;\n",
       "    }\n",
       "</style>\n",
       "<table border=\"1\" class=\"dataframe\">\n",
       "  <thead>\n",
       "    <tr style=\"text-align: right;\">\n",
       "      <th></th>\n",
       "      <th>Press</th>\n",
       "      <th>Headline</th>\n",
       "      <th>Analysis</th>\n",
       "    </tr>\n",
       "  </thead>\n",
       "  <tbody>\n",
       "    <tr>\n",
       "      <th>0</th>\n",
       "      <td>IT동아</td>\n",
       "      <td>잇따르는 전기차 화재, 왜 발생할까?</td>\n",
       "      <td>부정</td>\n",
       "    </tr>\n",
       "    <tr>\n",
       "      <th>1</th>\n",
       "      <td>경향신문</td>\n",
       "      <td>고성능은 기본…전기차, 이제 사이즈로 승부한다</td>\n",
       "      <td>중립</td>\n",
       "    </tr>\n",
       "    <tr>\n",
       "      <th>2</th>\n",
       "      <td>오마이뉴스</td>\n",
       "      <td>\"가장 전기차다운…\" 연비-주행 모든 것 담았다</td>\n",
       "      <td>긍정</td>\n",
       "    </tr>\n",
       "    <tr>\n",
       "      <th>3</th>\n",
       "      <td>MBC</td>\n",
       "      <td>싼타페 너마저..전기차 시대, 베트남 중국 인도가 몰려온다</td>\n",
       "      <td>중립</td>\n",
       "    </tr>\n",
       "    <tr>\n",
       "      <th>4</th>\n",
       "      <td>오토타임즈</td>\n",
       "      <td>[시승]엔트리 고급 전기차의 가치, 아우디 Q4 e-트론 40</td>\n",
       "      <td>중립</td>\n",
       "    </tr>\n",
       "  </tbody>\n",
       "</table>\n",
       "</div>"
      ],
      "text/plain": [
       "   Press                            Headline Analysis\n",
       "0   IT동아                잇따르는 전기차 화재, 왜 발생할까?       부정\n",
       "1   경향신문           고성능은 기본…전기차, 이제 사이즈로 승부한다       중립\n",
       "2  오마이뉴스          \"가장 전기차다운…\" 연비-주행 모든 것 담았다       긍정\n",
       "3    MBC    싼타페 너마저..전기차 시대, 베트남 중국 인도가 몰려온다       중립\n",
       "4  오토타임즈  [시승]엔트리 고급 전기차의 가치, 아우디 Q4 e-트론 40       중립"
      ]
     },
     "execution_count": 97,
     "metadata": {},
     "output_type": "execute_result"
    }
   ],
   "source": [
    "df22.head()"
   ]
  },
  {
   "cell_type": "code",
   "execution_count": 100,
   "id": "17a60e53-5c07-4f8d-b1af-73863e19790b",
   "metadata": {},
   "outputs": [
    {
     "data": {
      "text/plain": [
       "Analysis\n",
       "중립    0.367008\n",
       "부정    0.356777\n",
       "긍정    0.276215\n",
       "Name: proportion, dtype: float64"
      ]
     },
     "execution_count": 100,
     "metadata": {},
     "output_type": "execute_result"
    }
   ],
   "source": [
    "df22['Analysis'].value_counts(normalize=True)"
   ]
  },
  {
   "cell_type": "code",
   "execution_count": null,
   "id": "2dff8bc0-8a8a-43a4-b79f-6b4127e9179f",
   "metadata": {},
   "outputs": [],
   "source": []
  },
  {
   "cell_type": "code",
   "execution_count": null,
   "id": "c3bf1a32-14bc-46ca-8409-359ecb485f20",
   "metadata": {},
   "outputs": [],
   "source": []
  }
 ],
 "metadata": {
  "kernelspec": {
   "display_name": "Python 3 (ipykernel)",
   "language": "python",
   "name": "python3"
  },
  "language_info": {
   "codemirror_mode": {
    "name": "ipython",
    "version": 3
   },
   "file_extension": ".py",
   "mimetype": "text/x-python",
   "name": "python",
   "nbconvert_exporter": "python",
   "pygments_lexer": "ipython3",
   "version": "3.12.4"
  }
 },
 "nbformat": 4,
 "nbformat_minor": 5
}
