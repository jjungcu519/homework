{
 "cells": [
  {
   "cell_type": "code",
   "execution_count": 20,
   "id": "e11edf04-5c90-4db4-8ad8-7d1967a22234",
   "metadata": {},
   "outputs": [],
   "source": [
    "import pandas as pd\n",
    "import numpy as np\n",
    "import matplotlib.pyplot as plt"
   ]
  },
  {
   "cell_type": "code",
   "execution_count": 12,
   "id": "76683241-50fe-4d79-8157-04f386c6e2a8",
   "metadata": {},
   "outputs": [],
   "source": [
    "df = pd.read_csv('data/a_gender_age_prepro.csv', encoding='UTF-8')"
   ]
  },
  {
   "cell_type": "code",
   "execution_count": 13,
   "id": "ce8b4939-2702-4dc3-abb8-76e2dc7f23ec",
   "metadata": {},
   "outputs": [
    {
     "data": {
      "text/html": [
       "<div>\n",
       "<style scoped>\n",
       "    .dataframe tbody tr th:only-of-type {\n",
       "        vertical-align: middle;\n",
       "    }\n",
       "\n",
       "    .dataframe tbody tr th {\n",
       "        vertical-align: top;\n",
       "    }\n",
       "\n",
       "    .dataframe thead th {\n",
       "        text-align: right;\n",
       "    }\n",
       "</style>\n",
       "<table border=\"1\" class=\"dataframe\">\n",
       "  <thead>\n",
       "    <tr style=\"text-align: right;\">\n",
       "      <th></th>\n",
       "      <th>년월</th>\n",
       "      <th>10대 남자_시청률 (%)</th>\n",
       "      <th>10대 여자_시청률 (%)</th>\n",
       "      <th>20대 남자_시청률 (%)</th>\n",
       "      <th>20대 여자_시청률 (%)</th>\n",
       "      <th>30대 남자_시청률 (%)</th>\n",
       "      <th>30대 여자_시청률 (%)</th>\n",
       "      <th>40대 남자_시청률 (%)</th>\n",
       "      <th>40대 여자_시청률 (%)</th>\n",
       "      <th>50대 남자_시청률 (%)</th>\n",
       "      <th>50대 여자_시청률 (%)</th>\n",
       "      <th>60세 이상 남자_시청률 (%)</th>\n",
       "      <th>60세 이상 여자_시청률 (%)</th>\n",
       "    </tr>\n",
       "  </thead>\n",
       "  <tbody>\n",
       "    <tr>\n",
       "      <th>0</th>\n",
       "      <td>23.07</td>\n",
       "      <td>0.151</td>\n",
       "      <td>0.115</td>\n",
       "      <td>0.177</td>\n",
       "      <td>0.095</td>\n",
       "      <td>0.245</td>\n",
       "      <td>0.219</td>\n",
       "      <td>0.281</td>\n",
       "      <td>0.267</td>\n",
       "      <td>0.193</td>\n",
       "      <td>0.586</td>\n",
       "      <td>0.430</td>\n",
       "      <td>0.644</td>\n",
       "    </tr>\n",
       "    <tr>\n",
       "      <th>1</th>\n",
       "      <td>23.01</td>\n",
       "      <td>0.224</td>\n",
       "      <td>0.170</td>\n",
       "      <td>0.164</td>\n",
       "      <td>0.150</td>\n",
       "      <td>0.323</td>\n",
       "      <td>0.421</td>\n",
       "      <td>0.302</td>\n",
       "      <td>0.458</td>\n",
       "      <td>0.326</td>\n",
       "      <td>0.654</td>\n",
       "      <td>0.647</td>\n",
       "      <td>0.849</td>\n",
       "    </tr>\n",
       "    <tr>\n",
       "      <th>2</th>\n",
       "      <td>22.02</td>\n",
       "      <td>0.108</td>\n",
       "      <td>0.171</td>\n",
       "      <td>0.112</td>\n",
       "      <td>0.128</td>\n",
       "      <td>0.322</td>\n",
       "      <td>0.396</td>\n",
       "      <td>0.205</td>\n",
       "      <td>0.418</td>\n",
       "      <td>0.288</td>\n",
       "      <td>0.622</td>\n",
       "      <td>0.600</td>\n",
       "      <td>0.753</td>\n",
       "    </tr>\n",
       "    <tr>\n",
       "      <th>3</th>\n",
       "      <td>21.07</td>\n",
       "      <td>0.258</td>\n",
       "      <td>0.234</td>\n",
       "      <td>0.205</td>\n",
       "      <td>0.193</td>\n",
       "      <td>0.283</td>\n",
       "      <td>0.496</td>\n",
       "      <td>0.440</td>\n",
       "      <td>0.575</td>\n",
       "      <td>0.382</td>\n",
       "      <td>0.666</td>\n",
       "      <td>0.700</td>\n",
       "      <td>0.751</td>\n",
       "    </tr>\n",
       "  </tbody>\n",
       "</table>\n",
       "</div>"
      ],
      "text/plain": [
       "      년월  10대 남자_시청률 (%)  10대 여자_시청률 (%)  20대 남자_시청률 (%)  20대 여자_시청률 (%)  \\\n",
       "0  23.07           0.151           0.115           0.177           0.095   \n",
       "1  23.01           0.224           0.170           0.164           0.150   \n",
       "2  22.02           0.108           0.171           0.112           0.128   \n",
       "3  21.07           0.258           0.234           0.205           0.193   \n",
       "\n",
       "   30대 남자_시청률 (%)  30대 여자_시청률 (%)  40대 남자_시청률 (%)  40대 여자_시청률 (%)  \\\n",
       "0           0.245           0.219           0.281           0.267   \n",
       "1           0.323           0.421           0.302           0.458   \n",
       "2           0.322           0.396           0.205           0.418   \n",
       "3           0.283           0.496           0.440           0.575   \n",
       "\n",
       "   50대 남자_시청률 (%)  50대 여자_시청률 (%)  60세 이상 남자_시청률 (%)  60세 이상 여자_시청률 (%)  \n",
       "0           0.193           0.586              0.430              0.644  \n",
       "1           0.326           0.654              0.647              0.849  \n",
       "2           0.288           0.622              0.600              0.753  \n",
       "3           0.382           0.666              0.700              0.751  "
      ]
     },
     "execution_count": 13,
     "metadata": {},
     "output_type": "execute_result"
    }
   ],
   "source": [
    "df.head()"
   ]
  },
  {
   "cell_type": "code",
   "execution_count": 14,
   "id": "651d0367-e180-4ec8-ae20-848e505b30c8",
   "metadata": {},
   "outputs": [],
   "source": [
    "# 연령대와 성별별 시청률을 각각 나누기\n",
    "age_groups = ['10대', '20대', '30대', '40대', '50대', '60세 이상']\n",
    "men_ratings = ['10대 남자_시청률 (%)', '20대 남자_시청률 (%)', '30대 남자_시청률 (%)', \n",
    "               '40대 남자_시청률 (%)', '50대 남자_시청률 (%)', '60세 이상 남자_시청률 (%)']\n",
    "women_ratings = ['10대 여자_시청률 (%)', '20대 여자_시청률 (%)', '30대 여자_시청률 (%)', \n",
    "                 '40대 여자_시청률 (%)', '50대 여자_시청률 (%)', '60세 이상 여자_시청률 (%)']"
   ]
  },
  {
   "cell_type": "code",
   "execution_count": 17,
   "id": "b35f880f-22e4-4b6b-a372-6cf2a09212e4",
   "metadata": {},
   "outputs": [],
   "source": [
    "# 4행만 추출하여 평균을 계산\n",
    "# 4행만 사용하기 위해 슬라이싱 (앞서 제공한 데이터가 4개의 행이므로 [:4] 사용)\n",
    "average_df = df.iloc[:4].mean()"
   ]
  },
  {
   "cell_type": "code",
   "execution_count": 18,
   "id": "2ff2a2e6-bf52-42e2-88b1-96e6bc33e3d3",
   "metadata": {},
   "outputs": [],
   "source": [
    "# 남자와 여자 시청률의 평균 값을 각각 추출\n",
    "men_values = average_df[men_ratings].values\n",
    "women_values = average_df[women_ratings].values"
   ]
  },
  {
   "cell_type": "code",
   "execution_count": 23,
   "id": "55d9a5b9-8a7d-468c-a4f4-2ae51cd08bc5",
   "metadata": {},
   "outputs": [
    {
     "data": {
      "image/png": "[encoded data removed]",
      "text/plain": [
       "<Figure size 1000x600 with 1 Axes>"
      ]
     },
     "metadata": {},
     "output_type": "display_data"
    }
   ],
   "source": [
    "# 그래프를 그리기 위한 인덱스 설정\n",
    "x = np.arange(len(age_groups))  # x축 위치 (0, 1, 2, ..., 연령대 수)\n",
    "\n",
    "# 막대의 너비\n",
    "bar_width = 0.35\n",
    "\n",
    "# 그래프 크기 설정\n",
    "plt.figure(figsize=(10, 6))\n",
    "\n",
    "# 글꼴 설정\n",
    "plt.rcParams['font.family'] ='Malgun Gothic'\n",
    "plt.rcParams['axes.unicode_minus'] =False\n",
    "\n",
    "\n",
    "# 남자 시청률에 대한 막대 그래프 (파란색)\n",
    "plt.bar(x - bar_width/2, men_values, bar_width, label='남자', color='blue')\n",
    "\n",
    "# 여자 시청률에 대한 막대 그래프 (빨간색)\n",
    "plt.bar(x + bar_width/2, women_values, bar_width, label='여자', color='red')\n",
    "\n",
    "# 그래프에 제목과 축 레이블 추가\n",
    "plt.title('성별, 연령대별 금쪽같은 내새끼 시청률 비교', fontsize=16)\n",
    "plt.ylabel('시청률 (%)', fontsize=14)\n",
    "plt.xticks(x, age_groups)  # x축에 연령대 표시\n",
    "\n",
    "# 범례 추가\n",
    "plt.legend()\n",
    "\n",
    "# 그래프 보여주기\n",
    "plt.tight_layout()\n",
    "plt.show()"
   ]
  },
  {
   "cell_type": "code",
   "execution_count": null,
   "id": "d854610e-4b85-4935-993f-99502fed5376",
   "metadata": {},
   "outputs": [],
   "source": []
  },
  {
   "cell_type": "code",
   "execution_count": null,
   "id": "77f9b165-3d44-49ad-9ab2-b0f4631038d8",
   "metadata": {},
   "outputs": [],
   "source": []
  }
 ],
 "metadata": {
  "kernelspec": {
   "display_name": "Python 3 (ipykernel)",
   "language": "python",
   "name": "python3"
  },
  "language_info": {
   "codemirror_mode": {
    "name": "ipython",
    "version": 3
   },
   "file_extension": ".py",
   "mimetype": "text/x-python",
   "name": "python",
   "nbconvert_exporter": "python",
   "pygments_lexer": "ipython3",
   "version": "3.12.4"
  }
 },
 "nbformat": 4,
 "nbformat_minor": 5
}
