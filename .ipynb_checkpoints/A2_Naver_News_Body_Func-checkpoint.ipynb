{
 "cells": [
  {
   "cell_type": "markdown",
   "id": "bb985250",
   "metadata": {},
   "source": [
    "## 네이버 뉴스 본문 수집 함수 생성\n",
    "\n",
    "- 네이버뉴스 링크의 도메인에 따라 본문 수집 코드를 다르게 작성해야 함\n",
    "  - `https://n.news`로 시작하는 뉴스 본문은 nlink로 HTTP 요청 실행\n",
    "  - `https://m.sports`로 시작하는 뉴스 본문은 `https://api-gw.sports`로 변경해야 함\n",
    "  - `https://m.entertain`으로 시작하는 뉴스 본문은 `https://api-gw.entertain`으로 변경해야 함"
   ]
  },
  {
   "cell_type": "code",
   "execution_count": 1,
   "id": "d2ae27c4",
   "metadata": {},
   "outputs": [],
   "source": [
    "# 라이브러리 호출\n",
    "import os\n",
    "import pandas as pd\n",
    "import numpy as np\n",
    "import requests\n",
    "from bs4 import BeautifulSoup as bts\n",
    "import json\n",
    "import re\n",
    "import time\n",
    "from tqdm.notebook import tqdm"
   ]
  },
  {
   "cell_type": "code",
   "execution_count": 2,
   "id": "ece8c702",
   "metadata": {},
   "outputs": [
    {
     "data": {
      "text/plain": [
       "'/Users/seonghona/Documents/Lectures/Customer/DBR/code'"
      ]
     },
     "execution_count": 2,
     "metadata": {},
     "output_type": "execute_result"
    }
   ],
   "source": [
    "# 현재 작업 경로 확인\n",
    "os.getcwd()"
   ]
  },
  {
   "cell_type": "code",
   "execution_count": 3,
   "id": "0d419f61",
   "metadata": {},
   "outputs": [],
   "source": [
    "# data 폴더로 작업 경로 변경\n",
    "os.chdir(path = '../data')"
   ]
  },
  {
   "cell_type": "code",
   "execution_count": 4,
   "id": "416ec308",
   "metadata": {},
   "outputs": [
    {
     "data": {
      "text/plain": [
       "['Naver_News_List.pkl']"
      ]
     },
     "execution_count": 4,
     "metadata": {},
     "output_type": "execute_result"
    }
   ],
   "source": [
    "# 현재 작업 경로에 있는 폴더명과 파일명 확인\n",
    "os.listdir()"
   ]
  },
  {
   "cell_type": "code",
   "execution_count": 5,
   "id": "03b4fb1c",
   "metadata": {},
   "outputs": [],
   "source": [
    "# pkl 파일을 읽고 newsList 생성\n",
    "newsList = pd.read_pickle(filepath_or_buffer = 'Naver_News_List.pkl')"
   ]
  },
  {
   "cell_type": "code",
   "execution_count": 6,
   "id": "bfc13c4a",
   "metadata": {},
   "outputs": [
    {
     "data": {
      "text/html": [
       "<div>\n",
       "<style scoped>\n",
       "    .dataframe tbody tr th:only-of-type {\n",
       "        vertical-align: middle;\n",
       "    }\n",
       "\n",
       "    .dataframe tbody tr th {\n",
       "        vertical-align: top;\n",
       "    }\n",
       "\n",
       "    .dataframe thead th {\n",
       "        text-align: right;\n",
       "    }\n",
       "</style>\n",
       "<table border=\"1\" class=\"dataframe\">\n",
       "  <thead>\n",
       "    <tr style=\"text-align: right;\">\n",
       "      <th></th>\n",
       "      <th>press</th>\n",
       "      <th>title</th>\n",
       "      <th>nlink</th>\n",
       "    </tr>\n",
       "  </thead>\n",
       "  <tbody>\n",
       "    <tr>\n",
       "      <th>0</th>\n",
       "      <td>뉴시스</td>\n",
       "      <td>올림픽 축구 탈락했는데 파리간 정몽규…\"냄비받침 선물하러 갔나\"</td>\n",
       "      <td>https://n.news.naver.com/mnews/article/003/001...</td>\n",
       "    </tr>\n",
       "    <tr>\n",
       "      <th>1</th>\n",
       "      <td>서울신문</td>\n",
       "      <td>올림픽 축구 탈락했는데…정몽규, 파리서 FIFA 회장 만났다</td>\n",
       "      <td>https://n.news.naver.com/mnews/article/081/000...</td>\n",
       "    </tr>\n",
       "    <tr>\n",
       "      <th>2</th>\n",
       "      <td>SBS Biz</td>\n",
       "      <td>'국민욕받이'라는 정몽규 회장…의문의 1패 [CEO 업앤다운]</td>\n",
       "      <td>https://n.news.naver.com/mnews/article/374/000...</td>\n",
       "    </tr>\n",
       "    <tr>\n",
       "      <th>3</th>\n",
       "      <td>조선비즈</td>\n",
       "      <td>“축구협회장도 맡아주세요” 정의선 비교에 씁쓸한 정몽규</td>\n",
       "      <td>https://n.news.naver.com/mnews/article/366/000...</td>\n",
       "    </tr>\n",
       "    <tr>\n",
       "      <th>4</th>\n",
       "      <td>노컷뉴스</td>\n",
       "      <td>정몽규는 헛발질, 정의선은 백발백중[파리올림픽]</td>\n",
       "      <td>https://n.news.naver.com/mnews/article/079/000...</td>\n",
       "    </tr>\n",
       "  </tbody>\n",
       "</table>\n",
       "</div>"
      ],
      "text/plain": [
       "     press                                title  \\\n",
       "0      뉴시스  올림픽 축구 탈락했는데 파리간 정몽규…\"냄비받침 선물하러 갔나\"   \n",
       "1     서울신문    올림픽 축구 탈락했는데…정몽규, 파리서 FIFA 회장 만났다   \n",
       "2  SBS Biz   '국민욕받이'라는 정몽규 회장…의문의 1패 [CEO 업앤다운]   \n",
       "3     조선비즈       “축구협회장도 맡아주세요” 정의선 비교에 씁쓸한 정몽규   \n",
       "4     노컷뉴스           정몽규는 헛발질, 정의선은 백발백중[파리올림픽]   \n",
       "\n",
       "                                               nlink  \n",
       "0  https://n.news.naver.com/mnews/article/003/001...  \n",
       "1  https://n.news.naver.com/mnews/article/081/000...  \n",
       "2  https://n.news.naver.com/mnews/article/374/000...  \n",
       "3  https://n.news.naver.com/mnews/article/366/000...  \n",
       "4  https://n.news.naver.com/mnews/article/079/000...  "
      ]
     },
     "execution_count": 6,
     "metadata": {},
     "output_type": "execute_result"
    }
   ],
   "source": [
    "# newsList의 처음 5행 확인\n",
    "newsList.head()"
   ]
  },
  {
   "cell_type": "code",
   "execution_count": 7,
   "id": "8cf41fe2",
   "metadata": {},
   "outputs": [
    {
     "name": "stdout",
     "output_type": "stream",
     "text": [
      "<class 'pandas.core.frame.DataFrame'>\n",
      "RangeIndex: 77 entries, 0 to 76\n",
      "Data columns (total 3 columns):\n",
      " #   Column  Non-Null Count  Dtype \n",
      "---  ------  --------------  ----- \n",
      " 0   press   77 non-null     object\n",
      " 1   title   77 non-null     object\n",
      " 2   nlink   77 non-null     object\n",
      "dtypes: object(3)\n",
      "memory usage: 1.9+ KB\n"
     ]
    }
   ],
   "source": [
    "# newsList의 정보 확인\n",
    "newsList.info()"
   ]
  },
  {
   "cell_type": "code",
   "execution_count": 8,
   "id": "1742c0d7",
   "metadata": {},
   "outputs": [],
   "source": [
    "# 네이버뉴스 링크로 HTTP 요청을 실행하고 뉴스 본문을 반환하는 함수 생성\n",
    "def NaverNewsBody(nlink):\n",
    "    \n",
    "    # nlink에 따라 HTTP 요청 실행 및 응답 바디 문자열 처리 코드 분기\n",
    "    if 'https://n.news' in nlink:\n",
    "        \n",
    "        # 네이버뉴스 링크로 HTTP 요청 실행\n",
    "        res = requests.get(url = nlink)\n",
    "        \n",
    "        # HTTP 응답 바디 문자열을 bs4.BeautifulSoup 객체로 변환\n",
    "        soup = bts(markup = res.text, features = 'html.parser')\n",
    "        \n",
    "        # soup에서 뉴스 본문을 포함하는 HTML 요소 선택\n",
    "        item = soup.select_one(selector = '#dic_area, div._article_content')\n",
    "        \n",
    "        # item의 텍스트 반환\n",
    "        # [참고] strip()은 문자열 양 옆에 있는 공백을 모두 제거함\n",
    "        return item.text.strip()\n",
    "    \n",
    "    elif 'https://m' in nlink:\n",
    "        \n",
    "        # 'https://m'으로 시작하는 nlink의 일부 문자열 변경한 url 생성\n",
    "        url = re.sub(pattern = 'https://m.(sports|entertain).naver.com(.+)?(?=/article)', \n",
    "                     repl = r'https://api-gw.\\1.naver.com/news', \n",
    "                     string = newsList['nlink'].iloc[i])\n",
    "        \n",
    "        # url로 HTTP 요청 실행\n",
    "        res = requests.get(url = url)\n",
    "        \n",
    "        # JSON 형태의 문자열을 딕셔너리로 변환\n",
    "        dic = json.loads(s = res.text)\n",
    "        \n",
    "        # 뉴스 본문 반환\n",
    "        return dic['result']['articleInfo']['article']['content']"
   ]
  },
  {
   "cell_type": "code",
   "execution_count": 9,
   "id": "274648f3",
   "metadata": {},
   "outputs": [],
   "source": [
    "# 인덱스 설정: 첫 번째 원소\n",
    "# [참고] 반복문으로 실행할 코드에 인덱스를 추가하면 편리함\n",
    "i = 0"
   ]
  },
  {
   "cell_type": "code",
   "execution_count": 10,
   "id": "ccd2988f",
   "metadata": {},
   "outputs": [
    {
     "name": "stdout",
     "output_type": "stream",
     "text": [
      "https://n.news.naver.com/mnews/article/003/0012717267\n"
     ]
    }
   ],
   "source": [
    "# 해당 인덱스의 nlink 확인\n",
    "print(newsList['nlink'].iloc[i])"
   ]
  },
  {
   "cell_type": "code",
   "execution_count": 11,
   "id": "be7f5328",
   "metadata": {
    "scrolled": true
   },
   "outputs": [
    {
     "data": {
      "text/plain": [
       "'인판티노 FIFA 회장, SNS에 사진 공개정몽규 회장, FIFA 회장에 친필서명 담긴 자서전 선물\\n\\n\\n\\n[서울=뉴시스] 잔니 인판티노 국제축구연맹(FIFA) 회장이 7일(한국시각) 자신의 사회관계망서비스(SNS)에 정몽규 대한축구협회 회장과 만난 사진을 게시했다. (사진=잔니 인판티노 FIFA 회장 SNS 캡처) 2024.08.07. *재판매 및 DB 금지[서울=뉴시스] 최윤서 인턴 기자 = 대한민국 축구 대표팀이 충격의 예선 탈락으로 40년 만에 올림픽 출전이 좌절된 가운데, 파리올림픽이 열리고 있는 프랑스 파리를 방문해 잔니 인판티노 국제축구연맹(FIFA·피파) 회장을 만난 정몽규 대한축구협회 회장의 행보가 누리꾼들의 빈축을 사고 있다.두 사람의 만남은 7일(한국시각) 인판티노 회장이 자신의 사회관계망서비스(SNS)에 정몽규 회장과 함께 찍은 여러 장의 사진을 게시하면서 알려졌다.인판티노 회장은 SNS 게시글에 \"나의 오랜 친구인 정몽규 회장을 프랑스 파리의 FIFA 사무소에서 만나게 돼 매우 기쁘다\"며 반가운 마음을 드러냈다.그러면서 인판티노 회장은 \"정 회장이 자신의 친필 서명이 담긴 자서전 \\'축구의 시대\\' 한 권을 선물해 줬다. 감사하다. 직접 쓴 글을 읽게 돼 영광\"이라며 \"정 회장에 대해, 그리고 그의 경험에 대해 더 많이 알 수 있길 기대한다\"고 말했다.정 회장이 직접 서명한 자서전을 같이 들고 미소 지으며 촬영한 기념사진도 함께 올렸다.이 같은 소식이 알려지자 국내 축구 팬들과 축구계는 강하게 반발했다. \\n\\n\\n\\n정몽규 대한축구협회장(왼쪽)이 잔니 인판티노 국제축구연맹(FIFA‧피파) 회장에게 자서전을 선물한 뒤 같이 읽어보고 있다. (사진=FIFA 제공) *재판매 및 DB 금지대한축구협회는 위르겐 클린스만 전 감독 경질 이후 U-23 대표팀을 이끌고 있던 황선홍 감독을 A대표팀 사령탑을 겸직하게 하며 2026 북중미 월드컵 지역 2차 예선을 치르게 했다.황 감독은 파리 올림픽 예선을 겸한 U-23 아시안컵 8강전에서 신태용 감독이 이끄는 인도네시아에 패해 한국 남자 축구는 무려 40년 만에 올림픽 진출에 실패했다. 홍명보 대표팀 감독의 선임 후폭풍도 아직 가시지 않은 상태다.한국 축구의 발전을 위해 고심해도 시간이 모자랄 정 회장이 개인의 치적을 자랑하기 위해 인판티노 회장에게 책을 선물한 것이 아니냐는 지적이 나온다. 심지어 정 회장의 자서전은 한글로 발간돼 인판티노 회장은 읽을 수도 없다는 누리꾼들의 조롱 섞인 비판까지 나왔다.축구팬들과 누리꾼들은 \"초고가 냄비받침 선물하러 파리행\" \"선수들은 아무도 못 간 파리를 정작 본인만 갔네\" \"이 정도면 진짜 어디 아픈 건 아닌지 병원을 데려가라\" \"분위기 파악 못 하는 건 세계 1위\" \"공감 능력이 0에 수렴\" \"철판이 볶음밥 해 먹어도 되겠다\" \"같은 현대가인데 누구랑 너무 비교된다\" \"벌거벗은 임금님\" 등의 비난을 쏟아내고 있다．'"
      ]
     },
     "execution_count": 11,
     "metadata": {},
     "output_type": "execute_result"
    }
   ],
   "source": [
    "# 함수 테스트\n",
    "NaverNewsBody(nlink = newsList['nlink'].iloc[i])"
   ]
  },
  {
   "cell_type": "code",
   "execution_count": 12,
   "id": "aaea8913",
   "metadata": {},
   "outputs": [],
   "source": [
    "# 경고를 출력하지 않도록 설정\n",
    "import warnings\n",
    "warnings.filterwarnings('ignore')"
   ]
  },
  {
   "cell_type": "code",
   "execution_count": 13,
   "id": "f77ca627",
   "metadata": {},
   "outputs": [
    {
     "name": "stdout",
     "output_type": "stream",
     "text": [
      "77\n"
     ]
    }
   ],
   "source": [
    "# 반복 실행할 횟수 생성\n",
    "n = len(newsList)\n",
    "print(n)"
   ]
  },
  {
   "cell_type": "code",
   "execution_count": 14,
   "id": "ad387724",
   "metadata": {},
   "outputs": [
    {
     "data": {
      "application/vnd.jupyter.widget-view+json": {
       "model_id": "6fc06d20d31b4f498831a8ffd7cf6b68",
       "version_major": 2,
       "version_minor": 0
      },
      "text/plain": [
       "  0%|          | 0/77 [00:00<?, ?it/s]"
      ]
     },
     "metadata": {},
     "output_type": "display_data"
    }
   ],
   "source": [
    "# newsList에 뉴스 본문을 저장할 열 추가\n",
    "newsList['body'] = np.nan\n",
    "\n",
    "# 반복문으로 네이버뉴스 본문 수집\n",
    "for i in tqdm(range(n)):\n",
    "    \n",
    "    # 네이버뉴스 링크로 뉴스 본문 수집\n",
    "    newsList['body'].iloc[i] = NaverNewsBody(nlink = newsList['nlink'].iloc[i])\n",
    "    \n",
    "    # 1초간 멈춤\n",
    "    time.sleep(1)"
   ]
  },
  {
   "cell_type": "code",
   "execution_count": 15,
   "id": "a15c3b59",
   "metadata": {},
   "outputs": [
    {
     "data": {
      "text/html": [
       "<div>\n",
       "<style scoped>\n",
       "    .dataframe tbody tr th:only-of-type {\n",
       "        vertical-align: middle;\n",
       "    }\n",
       "\n",
       "    .dataframe tbody tr th {\n",
       "        vertical-align: top;\n",
       "    }\n",
       "\n",
       "    .dataframe thead th {\n",
       "        text-align: right;\n",
       "    }\n",
       "</style>\n",
       "<table border=\"1\" class=\"dataframe\">\n",
       "  <thead>\n",
       "    <tr style=\"text-align: right;\">\n",
       "      <th></th>\n",
       "      <th>press</th>\n",
       "      <th>title</th>\n",
       "      <th>nlink</th>\n",
       "      <th>body</th>\n",
       "    </tr>\n",
       "  </thead>\n",
       "  <tbody>\n",
       "    <tr>\n",
       "      <th>0</th>\n",
       "      <td>뉴시스</td>\n",
       "      <td>올림픽 축구 탈락했는데 파리간 정몽규…\"냄비받침 선물하러 갔나\"</td>\n",
       "      <td>https://n.news.naver.com/mnews/article/003/001...</td>\n",
       "      <td>인판티노 FIFA 회장, SNS에 사진 공개정몽규 회장, FIFA 회장에 친필서명 ...</td>\n",
       "    </tr>\n",
       "    <tr>\n",
       "      <th>1</th>\n",
       "      <td>서울신문</td>\n",
       "      <td>올림픽 축구 탈락했는데…정몽규, 파리서 FIFA 회장 만났다</td>\n",
       "      <td>https://n.news.naver.com/mnews/article/081/000...</td>\n",
       "      <td>인판티노 FIFA 회장, SNS에 사진 공개“친구 만나 반가워”…정 회장, 에세이 ...</td>\n",
       "    </tr>\n",
       "    <tr>\n",
       "      <th>2</th>\n",
       "      <td>SBS Biz</td>\n",
       "      <td>'국민욕받이'라는 정몽규 회장…의문의 1패 [CEO 업앤다운]</td>\n",
       "      <td>https://n.news.naver.com/mnews/article/374/000...</td>\n",
       "      <td>정몽규 HDC그룹 회장, 요즘 난감한 상황이 이어지고 있습니다. 당장 5촌 조카 정...</td>\n",
       "    </tr>\n",
       "    <tr>\n",
       "      <th>3</th>\n",
       "      <td>조선비즈</td>\n",
       "      <td>“축구협회장도 맡아주세요” 정의선 비교에 씁쓸한 정몽규</td>\n",
       "      <td>https://n.news.naver.com/mnews/article/366/000...</td>\n",
       "      <td>40년 만에 올림픽 출전 불발, 깜깜이 감독 선발 등으로 논란을 겪고 있는 정몽규 ...</td>\n",
       "    </tr>\n",
       "    <tr>\n",
       "      <th>4</th>\n",
       "      <td>노컷뉴스</td>\n",
       "      <td>정몽규는 헛발질, 정의선은 백발백중[파리올림픽]</td>\n",
       "      <td>https://n.news.naver.com/mnews/article/079/000...</td>\n",
       "      <td>정몽규 대한축구협회장이 2월 16일 오후 서울 종로구 축구회관에서 브리핑을 갖고 클...</td>\n",
       "    </tr>\n",
       "  </tbody>\n",
       "</table>\n",
       "</div>"
      ],
      "text/plain": [
       "     press                                title  \\\n",
       "0      뉴시스  올림픽 축구 탈락했는데 파리간 정몽규…\"냄비받침 선물하러 갔나\"   \n",
       "1     서울신문    올림픽 축구 탈락했는데…정몽규, 파리서 FIFA 회장 만났다   \n",
       "2  SBS Biz   '국민욕받이'라는 정몽규 회장…의문의 1패 [CEO 업앤다운]   \n",
       "3     조선비즈       “축구협회장도 맡아주세요” 정의선 비교에 씁쓸한 정몽규   \n",
       "4     노컷뉴스           정몽규는 헛발질, 정의선은 백발백중[파리올림픽]   \n",
       "\n",
       "                                               nlink  \\\n",
       "0  https://n.news.naver.com/mnews/article/003/001...   \n",
       "1  https://n.news.naver.com/mnews/article/081/000...   \n",
       "2  https://n.news.naver.com/mnews/article/374/000...   \n",
       "3  https://n.news.naver.com/mnews/article/366/000...   \n",
       "4  https://n.news.naver.com/mnews/article/079/000...   \n",
       "\n",
       "                                                body  \n",
       "0  인판티노 FIFA 회장, SNS에 사진 공개정몽규 회장, FIFA 회장에 친필서명 ...  \n",
       "1  인판티노 FIFA 회장, SNS에 사진 공개“친구 만나 반가워”…정 회장, 에세이 ...  \n",
       "2  정몽규 HDC그룹 회장, 요즘 난감한 상황이 이어지고 있습니다. 당장 5촌 조카 정...  \n",
       "3  40년 만에 올림픽 출전 불발, 깜깜이 감독 선발 등으로 논란을 겪고 있는 정몽규 ...  \n",
       "4  정몽규 대한축구협회장이 2월 16일 오후 서울 종로구 축구회관에서 브리핑을 갖고 클...  "
      ]
     },
     "execution_count": 15,
     "metadata": {},
     "output_type": "execute_result"
    }
   ],
   "source": [
    "# newsList의 처음 5행 확인\n",
    "newsList.head()"
   ]
  },
  {
   "cell_type": "code",
   "execution_count": 16,
   "id": "384a8a1a",
   "metadata": {},
   "outputs": [],
   "source": [
    "# body에서 HTML 요소 문자열 삭제\n",
    "newsList['body'] = newsList['body'].str.replace(pat = '<.+?>', repl = '', regex = True)"
   ]
  },
  {
   "cell_type": "code",
   "execution_count": 17,
   "id": "deda3ee0",
   "metadata": {},
   "outputs": [
    {
     "data": {
      "text/plain": [
       "0    인판티노 FIFA 회장, SNS에 사진 공개정몽규 회장, FIFA 회장에 친필서명 ...\n",
       "1    인판티노 FIFA 회장, SNS에 사진 공개“친구 만나 반가워”…정 회장, 에세이 ...\n",
       "2    정몽규 HDC그룹 회장, 요즘 난감한 상황이 이어지고 있습니다. 당장 5촌 조카 정...\n",
       "3    40년 만에 올림픽 출전 불발, 깜깜이 감독 선발 등으로 논란을 겪고 있는 정몽규 ...\n",
       "4    정몽규 대한축구협회장이 2월 16일 오후 서울 종로구 축구회관에서 브리핑을 갖고 클...\n",
       "Name: body, dtype: object"
      ]
     },
     "execution_count": 17,
     "metadata": {},
     "output_type": "execute_result"
    }
   ],
   "source": [
    "# body의 처음 5개 확인\n",
    "newsList['body'].head()"
   ]
  },
  {
   "cell_type": "code",
   "execution_count": 18,
   "id": "8cd65a70",
   "metadata": {},
   "outputs": [
    {
     "data": {
      "text/plain": [
       "'/Users/seonghona/Documents/Lectures/Customer/DBR/data'"
      ]
     },
     "execution_count": 18,
     "metadata": {},
     "output_type": "execute_result"
    }
   ],
   "source": [
    "# 현재 작업 경로 확인\n",
    "os.getcwd()"
   ]
  },
  {
   "cell_type": "code",
   "execution_count": 19,
   "id": "425e6730",
   "metadata": {},
   "outputs": [],
   "source": [
    "# newsList를 pkl 파일로 저장\n",
    "pd.to_pickle(obj = newsList, filepath_or_buffer = 'Naver_News_List.pkl')"
   ]
  },
  {
   "cell_type": "code",
   "execution_count": 20,
   "id": "eac9c0a5",
   "metadata": {},
   "outputs": [
    {
     "data": {
      "text/plain": [
       "['Naver_News_List.pkl']"
      ]
     },
     "execution_count": 20,
     "metadata": {},
     "output_type": "execute_result"
    }
   ],
   "source": [
    "# 현재 작업 경로에 있는 폴더명과 파일명 확인\n",
    "os.listdir()"
   ]
  },
  {
   "cell_type": "markdown",
   "id": "fbd83b39",
   "metadata": {},
   "source": [
    "## End of Document"
   ]
  }
 ],
 "metadata": {
  "kernelspec": {
   "display_name": "Python 3 (ipykernel)",
   "language": "python",
   "name": "python3"
  },
  "language_info": {
   "codemirror_mode": {
    "name": "ipython",
    "version": 3
   },
   "file_extension": ".py",
   "mimetype": "text/x-python",
   "name": "python",
   "nbconvert_exporter": "python",
   "pygments_lexer": "ipython3",
   "version": "3.12.2"
  }
 },
 "nbformat": 4,
 "nbformat_minor": 5
}
