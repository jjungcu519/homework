{
 "cells": [
  {
   "cell_type": "markdown",
   "id": "departmental-construction",
   "metadata": {},
   "source": [
    "## 텍스트 전처리"
   ]
  },
  {
   "cell_type": "code",
   "execution_count": 1,
   "id": "e7ab87c5",
   "metadata": {},
   "outputs": [],
   "source": [
    "# 라이브러리 호출\n",
    "import os\n",
    "import numpy as np\n",
    "import pandas as pd\n",
    "from kiwipiepy import Kiwi\n",
    "from kiwipiepy.utils import Stopwords\n",
    "from sklearn.feature_extraction.text import CountVectorizer\n",
    "from sklearn.feature_extraction.text import TfidfVectorizer"
   ]
  },
  {
   "cell_type": "code",
   "execution_count": 2,
   "id": "059e6d5b",
   "metadata": {},
   "outputs": [
    {
     "data": {
      "text/plain": [
       "'/Users/seonghona/Documents/Lectures/Customer/DBR/code'"
      ]
     },
     "execution_count": 2,
     "metadata": {},
     "output_type": "execute_result"
    }
   ],
   "source": [
    "# 현재 작업 경로 확인\n",
    "os.getcwd()"
   ]
  },
  {
   "cell_type": "code",
   "execution_count": 3,
   "id": "6414e346",
   "metadata": {},
   "outputs": [],
   "source": [
    "# data 폴더로 작업 경로 변경\n",
    "os.chdir(path = '../data')"
   ]
  },
  {
   "cell_type": "code",
   "execution_count": 4,
   "id": "intimate-guinea",
   "metadata": {},
   "outputs": [
    {
     "data": {
      "text/plain": [
       "['Naver_News_List.pkl', 'Naver_News_Reply.pkl']"
      ]
     },
     "execution_count": 4,
     "metadata": {},
     "output_type": "execute_result"
    }
   ],
   "source": [
    "# 현재 작업 경로에 있는 폴더명과 파일명 확인\n",
    "sorted(os.listdir())"
   ]
  },
  {
   "cell_type": "code",
   "execution_count": 5,
   "id": "violent-treaty",
   "metadata": {},
   "outputs": [],
   "source": [
    "# pkl 파일을 읽고 newsReply 생성\n",
    "newsReply = pd.read_pickle(filepath_or_buffer = 'Naver_News_Reply.pkl')"
   ]
  },
  {
   "cell_type": "code",
   "execution_count": 6,
   "id": "8b3e15cb",
   "metadata": {},
   "outputs": [
    {
     "data": {
      "text/html": [
       "<div>\n",
       "<style scoped>\n",
       "    .dataframe tbody tr th:only-of-type {\n",
       "        vertical-align: middle;\n",
       "    }\n",
       "\n",
       "    .dataframe tbody tr th {\n",
       "        vertical-align: top;\n",
       "    }\n",
       "\n",
       "    .dataframe thead th {\n",
       "        text-align: right;\n",
       "    }\n",
       "</style>\n",
       "<table border=\"1\" class=\"dataframe\">\n",
       "  <thead>\n",
       "    <tr style=\"text-align: right;\">\n",
       "      <th></th>\n",
       "      <th>objectId</th>\n",
       "      <th>commentNo</th>\n",
       "      <th>parentCommentNo</th>\n",
       "      <th>replyAllCount</th>\n",
       "      <th>contents</th>\n",
       "      <th>userName</th>\n",
       "      <th>modTime</th>\n",
       "      <th>regTime</th>\n",
       "      <th>sympathyCount</th>\n",
       "      <th>antipathyCount</th>\n",
       "      <th>hiddenByCleanbot</th>\n",
       "      <th>deleted</th>\n",
       "    </tr>\n",
       "  </thead>\n",
       "  <tbody>\n",
       "    <tr>\n",
       "      <th>0</th>\n",
       "      <td>news003,0012717267</td>\n",
       "      <td>833652862377525492</td>\n",
       "      <td>833652862377525492</td>\n",
       "      <td>5</td>\n",
       "      <td>고작 본인 책 홍보하고 사진 몇장 찍자고 파리까지 간거냐??? 축협회장이 아니라 정...</td>\n",
       "      <td>sdw8****</td>\n",
       "      <td>2024-08-08T11:35:30+0900</td>\n",
       "      <td>2024-08-08T11:35:30+0900</td>\n",
       "      <td>381</td>\n",
       "      <td>2</td>\n",
       "      <td>False</td>\n",
       "      <td>False</td>\n",
       "    </tr>\n",
       "    <tr>\n",
       "      <th>1</th>\n",
       "      <td>news003,0012717267</td>\n",
       "      <td>833653336652644737</td>\n",
       "      <td>833653336652644737</td>\n",
       "      <td>3</td>\n",
       "      <td>FIFA 회장 만난다고 우리가 정몽규 지를 무슨 우러러 보고\\n월드컵 못나갈까봐 전...</td>\n",
       "      <td>twin****</td>\n",
       "      <td>2024-08-08T11:42:51+0900</td>\n",
       "      <td>2024-08-08T11:42:51+0900</td>\n",
       "      <td>162</td>\n",
       "      <td>1</td>\n",
       "      <td>False</td>\n",
       "      <td>False</td>\n",
       "    </tr>\n",
       "    <tr>\n",
       "      <th>2</th>\n",
       "      <td>news003,0012717267</td>\n",
       "      <td>833654375934067221</td>\n",
       "      <td>833654375934067221</td>\n",
       "      <td>1</td>\n",
       "      <td>클린스만 위약금 본인이 꼭 충당해라</td>\n",
       "      <td>boi2****</td>\n",
       "      <td>2024-08-08T11:58:59+0900</td>\n",
       "      <td>2024-08-08T11:58:59+0900</td>\n",
       "      <td>103</td>\n",
       "      <td>1</td>\n",
       "      <td>False</td>\n",
       "      <td>False</td>\n",
       "    </tr>\n",
       "    <tr>\n",
       "      <th>3</th>\n",
       "      <td>news003,0012717267</td>\n",
       "      <td>833653269342454167</td>\n",
       "      <td>833653269342454167</td>\n",
       "      <td>3</td>\n",
       "      <td>몽규 비행기 호텔값은 자비로 간거니? 아님?</td>\n",
       "      <td>jjan****</td>\n",
       "      <td>2024-08-08T11:41:49+0900</td>\n",
       "      <td>2024-08-08T11:41:49+0900</td>\n",
       "      <td>54</td>\n",
       "      <td>1</td>\n",
       "      <td>False</td>\n",
       "      <td>False</td>\n",
       "    </tr>\n",
       "    <tr>\n",
       "      <th>4</th>\n",
       "      <td>news003,0012717267</td>\n",
       "      <td>833653347641720850</td>\n",
       "      <td>833653347641720850</td>\n",
       "      <td>1</td>\n",
       "      <td>헤헤~~굽신굽신. 피파에 자리 좀 없슈?</td>\n",
       "      <td>lljh****</td>\n",
       "      <td>2024-08-08T11:43:02+0900</td>\n",
       "      <td>2024-08-08T11:43:02+0900</td>\n",
       "      <td>26</td>\n",
       "      <td>1</td>\n",
       "      <td>False</td>\n",
       "      <td>False</td>\n",
       "    </tr>\n",
       "  </tbody>\n",
       "</table>\n",
       "</div>"
      ],
      "text/plain": [
       "             objectId           commentNo     parentCommentNo  replyAllCount  \\\n",
       "0  news003,0012717267  833652862377525492  833652862377525492              5   \n",
       "1  news003,0012717267  833653336652644737  833653336652644737              3   \n",
       "2  news003,0012717267  833654375934067221  833654375934067221              1   \n",
       "3  news003,0012717267  833653269342454167  833653269342454167              3   \n",
       "4  news003,0012717267  833653347641720850  833653347641720850              1   \n",
       "\n",
       "                                            contents  userName  \\\n",
       "0  고작 본인 책 홍보하고 사진 몇장 찍자고 파리까지 간거냐??? 축협회장이 아니라 정...  sdw8****   \n",
       "1  FIFA 회장 만난다고 우리가 정몽규 지를 무슨 우러러 보고\\n월드컵 못나갈까봐 전...  twin****   \n",
       "2                                클린스만 위약금 본인이 꼭 충당해라  boi2****   \n",
       "3                           몽규 비행기 호텔값은 자비로 간거니? 아님?  jjan****   \n",
       "4                             헤헤~~굽신굽신. 피파에 자리 좀 없슈?  lljh****   \n",
       "\n",
       "                    modTime                   regTime  sympathyCount  \\\n",
       "0  2024-08-08T11:35:30+0900  2024-08-08T11:35:30+0900            381   \n",
       "1  2024-08-08T11:42:51+0900  2024-08-08T11:42:51+0900            162   \n",
       "2  2024-08-08T11:58:59+0900  2024-08-08T11:58:59+0900            103   \n",
       "3  2024-08-08T11:41:49+0900  2024-08-08T11:41:49+0900             54   \n",
       "4  2024-08-08T11:43:02+0900  2024-08-08T11:43:02+0900             26   \n",
       "\n",
       "   antipathyCount  hiddenByCleanbot  deleted  \n",
       "0               2             False    False  \n",
       "1               1             False    False  \n",
       "2               1             False    False  \n",
       "3               1             False    False  \n",
       "4               1             False    False  "
      ]
     },
     "execution_count": 6,
     "metadata": {},
     "output_type": "execute_result"
    }
   ],
   "source": [
    "# newsReply의 처음 5행 확인\n",
    "newsReply.head()"
   ]
  },
  {
   "cell_type": "code",
   "execution_count": 7,
   "id": "3d2fdf5b",
   "metadata": {},
   "outputs": [
    {
     "name": "stdout",
     "output_type": "stream",
     "text": [
      "<class 'pandas.core.frame.DataFrame'>\n",
      "RangeIndex: 4032 entries, 0 to 4031\n",
      "Data columns (total 12 columns):\n",
      " #   Column            Non-Null Count  Dtype \n",
      "---  ------            --------------  ----- \n",
      " 0   objectId          4032 non-null   object\n",
      " 1   commentNo         4032 non-null   object\n",
      " 2   parentCommentNo   4032 non-null   object\n",
      " 3   replyAllCount     4032 non-null   int64 \n",
      " 4   contents          4032 non-null   object\n",
      " 5   userName          4032 non-null   object\n",
      " 6   modTime           4032 non-null   object\n",
      " 7   regTime           4032 non-null   object\n",
      " 8   sympathyCount     4032 non-null   int64 \n",
      " 9   antipathyCount    4032 non-null   int64 \n",
      " 10  hiddenByCleanbot  4032 non-null   bool  \n",
      " 11  deleted           4032 non-null   bool  \n",
      "dtypes: bool(2), int64(3), object(7)\n",
      "memory usage: 323.0+ KB\n"
     ]
    }
   ],
   "source": [
    "# newsReply의 정보 확인\n",
    "newsReply.info()"
   ]
  },
  {
   "cell_type": "code",
   "execution_count": 8,
   "id": "ca1ab840",
   "metadata": {},
   "outputs": [],
   "source": [
    "# newsReply의 contents를 sens에 할당\n",
    "sens = newsReply['contents']"
   ]
  },
  {
   "cell_type": "code",
   "execution_count": 9,
   "id": "460571fe",
   "metadata": {},
   "outputs": [],
   "source": [
    "# 인덱스 설정: 첫 번째 원소\n",
    "# [참고] 반복문으로 실행할 코드에 인덱스를 추가하면 편리함\n",
    "i = 0"
   ]
  },
  {
   "cell_type": "code",
   "execution_count": 10,
   "id": "c8415fe6",
   "metadata": {},
   "outputs": [
    {
     "data": {
      "text/plain": [
       "'고작 본인 책 홍보하고 사진 몇장 찍자고 파리까지 간거냐??? 축협회장이 아니라 정치인같다.ㅉㅉㅉ'"
      ]
     },
     "execution_count": 10,
     "metadata": {},
     "output_type": "execute_result"
    }
   ],
   "source": [
    "# 원본 문서의 첫 번째 원소 확인\n",
    "sens.iloc[i]"
   ]
  },
  {
   "cell_type": "code",
   "execution_count": 11,
   "id": "ab7bf671",
   "metadata": {},
   "outputs": [],
   "source": [
    "# sens에서 지정한 패턴이 아닌 글자를 공백으로 변경하고 sens에 재할당\n",
    "sens = sens.str.replace(pat = '[^가-힣A-Za-z0-9.]|&.+;', repl = '', regex = True)\n",
    "\n",
    "# 일부 단어를 변경함\n",
    "sens = sens.str.replace(pat = '축협', repl = '축구협회', regex = True)"
   ]
  },
  {
   "cell_type": "code",
   "execution_count": 12,
   "id": "2f84c34d",
   "metadata": {},
   "outputs": [
    {
     "data": {
      "text/plain": [
       "'고작본인책홍보하고사진몇장찍자고파리까지간거냐축구협회회장이아니라정치인같다.'"
      ]
     },
     "execution_count": 12,
     "metadata": {},
     "output_type": "execute_result"
    }
   ],
   "source": [
    "# sens의 첫 번째 원소와 비교\n",
    "sens[i]"
   ]
  },
  {
   "cell_type": "markdown",
   "id": "4512468d",
   "metadata": {},
   "source": [
    "### 형태소 분석"
   ]
  },
  {
   "cell_type": "code",
   "execution_count": 13,
   "id": "484ffde5",
   "metadata": {},
   "outputs": [],
   "source": [
    "# 내장 불용어 객체 생성\n",
    "# [참고] 내장 불용어 객체의 stopwords 속성으로 불용어 목록 확인 가능\n",
    "kiwistop = Stopwords()"
   ]
  },
  {
   "cell_type": "code",
   "execution_count": 14,
   "id": "75db5a16",
   "metadata": {},
   "outputs": [],
   "source": [
    "# 한글 형태소 분석기 설정\n",
    "# [참고] typos 매개변수에 'basic'을 지정하면 내장된 오타 정보로 문장 교정\n",
    "kiwi = Kiwi()"
   ]
  },
  {
   "cell_type": "code",
   "execution_count": 15,
   "id": "2e7a3f27",
   "metadata": {},
   "outputs": [
    {
     "data": {
      "text/plain": [
       "'고작본인책홍보하고사진몇장찍자고파리까지간거냐축구협회회장이아니라정치인같다.'"
      ]
     },
     "execution_count": 15,
     "metadata": {},
     "output_type": "execute_result"
    }
   ],
   "source": [
    "# sens의 첫 번째 원소 확인\n",
    "sens[i]"
   ]
  },
  {
   "cell_type": "code",
   "execution_count": 16,
   "id": "e5347f32",
   "metadata": {},
   "outputs": [
    {
     "data": {
      "text/plain": [
       "[Token(form='고작', tag='MAG', start=0, len=2),\n",
       " Token(form='인책', tag='NNG', start=3, len=2),\n",
       " Token(form='홍보', tag='NNG', start=5, len=2),\n",
       " Token(form='사진', tag='NNG', start=9, len=2),\n",
       " Token(form='몇', tag='MM', start=11, len=1),\n",
       " Token(form='장', tag='NNB', start=12, len=1),\n",
       " Token(form='찍', tag='VV', start=13, len=1),\n",
       " Token(form='자고', tag='EC', start=14, len=2),\n",
       " Token(form='파리', tag='NNG', start=16, len=2),\n",
       " Token(form='가', tag='VV', start=20, len=1),\n",
       " Token(form='거', tag='NNB', start=21, len=1),\n",
       " Token(form='냐', tag='EC', start=22, len=1),\n",
       " Token(form='축구', tag='NNG', start=23, len=2),\n",
       " Token(form='협회', tag='NNG', start=25, len=2),\n",
       " Token(form='회장', tag='NNG', start=27, len=2),\n",
       " Token(form='정치인', tag='NNG', start=33, len=3)]"
      ]
     },
     "execution_count": 16,
     "metadata": {},
     "output_type": "execute_result"
    }
   ],
   "source": [
    "# sens의 첫 번째 원소로 형태소 분석\n",
    "# [참고] 형태소 분석 결과에서 불용어 제거\n",
    "kiwi.tokenize(text = sens[i], stopwords = kiwistop)"
   ]
  },
  {
   "cell_type": "code",
   "execution_count": 17,
   "id": "3262f457",
   "metadata": {},
   "outputs": [],
   "source": [
    "# 사용자 사전에 추가할 단어를 리스트로 생성\n",
    "words = ['본인', '축구협회']"
   ]
  },
  {
   "cell_type": "code",
   "execution_count": 18,
   "id": "c1f6dcf8",
   "metadata": {},
   "outputs": [],
   "source": [
    "# 반복문으로 사용자 사전에 단어를 추가\n",
    "# [참고] score 매개변수에 전달하는 인수의 값이 클수록 하나의 형태소로 처리(기본값: 0)\n",
    "for word in words:\n",
    "    kiwi.add_user_word(word = word, tag = 'NNP', score = 15)"
   ]
  },
  {
   "cell_type": "code",
   "execution_count": 19,
   "id": "67778711",
   "metadata": {},
   "outputs": [
    {
     "data": {
      "text/plain": [
       "[Token(form='고작', tag='MAG', start=0, len=2),\n",
       " Token(form='본인', tag='NNP', start=2, len=2),\n",
       " Token(form='책', tag='NNG', start=4, len=1),\n",
       " Token(form='홍보', tag='NNG', start=5, len=2),\n",
       " Token(form='사진', tag='NNG', start=9, len=2),\n",
       " Token(form='몇', tag='MM', start=11, len=1),\n",
       " Token(form='장', tag='NNB', start=12, len=1),\n",
       " Token(form='찍', tag='VV', start=13, len=1),\n",
       " Token(form='자고', tag='EC', start=14, len=2),\n",
       " Token(form='파리', tag='NNG', start=16, len=2),\n",
       " Token(form='가', tag='VV', start=20, len=1),\n",
       " Token(form='거', tag='NNB', start=21, len=1),\n",
       " Token(form='냐', tag='EF', start=22, len=1),\n",
       " Token(form='축구협회', tag='NNP', start=23, len=4),\n",
       " Token(form='회장', tag='NNG', start=27, len=2),\n",
       " Token(form='정치인', tag='NNG', start=33, len=3)]"
      ]
     },
     "execution_count": 19,
     "metadata": {},
     "output_type": "execute_result"
    }
   ],
   "source": [
    "# sens의 첫 번째 원소로 형태소 분석 결과를 tokens에 할당\n",
    "# [참고] 사용자 사전에 추가한 단어 반영 여부 확인\n",
    "tokens = kiwi.tokenize(text = sens[i], stopwords = kiwistop)\n",
    "\n",
    "# tokens 확인\n",
    "tokens"
   ]
  },
  {
   "cell_type": "code",
   "execution_count": 20,
   "id": "3ed24b9c",
   "metadata": {},
   "outputs": [
    {
     "name": "stdout",
     "output_type": "stream",
     "text": [
      "형태: 고작\n",
      "품사: MAG\n"
     ]
    }
   ],
   "source": [
    "# tokens의 첫 번째 원소에서 형태소의 형태와 품사 확인\n",
    "print(f'형태: {tokens[0].form}')\n",
    "print(f'품사: {tokens[0].tag}')"
   ]
  },
  {
   "cell_type": "code",
   "execution_count": 21,
   "id": "09a56c47",
   "metadata": {},
   "outputs": [],
   "source": [
    "# 텍스트 분석에 사용할 품사(용언과 체언) 목록을 리스트로 생성\n",
    "pos1, pos2 = ['VV', 'VA'], ['NNG', 'NNP']"
   ]
  },
  {
   "cell_type": "code",
   "execution_count": 22,
   "id": "f46cd557",
   "metadata": {
    "scrolled": true
   },
   "outputs": [
    {
     "data": {
      "text/plain": [
       "['본인', '책', '홍보', '사진', '찍다', '파리', '가다', '축구협회', '회장', '정치인']"
      ]
     },
     "execution_count": 22,
     "metadata": {},
     "output_type": "execute_result"
    }
   ],
   "source": [
    "# 형태소의 품사가 용언과 체언인 형태소만 선택하고 품사가 용언인 형태소에 \n",
    "# 종결어미 '다'를 결합하여 리스트로 반환\n",
    "tokens = [token.form + '다' if token.tag in pos1 else token.form \n",
    "          for token in tokens if token.tag in pos1 + pos2]\n",
    "\n",
    "# tokens 확인\n",
    "tokens"
   ]
  },
  {
   "cell_type": "markdown",
   "id": "ec5f7ff6",
   "metadata": {},
   "source": [
    "### 말뭉치 생성"
   ]
  },
  {
   "cell_type": "code",
   "execution_count": 23,
   "id": "sapphire-behalf",
   "metadata": {
    "scrolled": true
   },
   "outputs": [],
   "source": [
    "# 말뭉치를 저장할 빈 리스트 생성\n",
    "corpus = list()\n",
    "\n",
    "# sens의 원소(문서)를 형태소 분석하고 일부 품사를 선택하여 말뭉치에 추가\n",
    "for sen in sens:\n",
    "    tokens = kiwi.tokenize(text = sen, stopwords = kiwistop)\n",
    "    tokens = [token.form + '다' if token.tag in pos1 else token.form \n",
    "              for token in tokens if token.tag in pos1 + pos2]\n",
    "    corpus.append(tokens)"
   ]
  },
  {
   "cell_type": "code",
   "execution_count": 24,
   "id": "interstate-broadway",
   "metadata": {
    "scrolled": true
   },
   "outputs": [
    {
     "name": "stdout",
     "output_type": "stream",
     "text": [
      "['본인', '책', '홍보', '사진', '찍다', '파리', '가다', '축구협회', '회장', '정치인']\n",
      "['회장', '만나다', '정몽규', '우러러보다', '월드컵', '나가다', '전전긍긍', '알다', '택', '소리', '축구협회', '자체', '썩다', '빠지다', '국민', '모두', '분노', '넘치다', '이러다', '피파', '징계', '먹다', '말다', '이번', '월드컵', '포기', '지금', '협회', '조지다', '만들다', '그러다', '올해', '국회', '국정', '감사', '눈', '불', '켜다', '기다리다', '축구협회', '배드민턴', '협회', '박살나다', '저러다', '문체부', '포함', '야당', '여당', '국회의원', '조지다', '조지다', '어설프다', '질문', '협회', '질타', '이상', '질타', '순간', '순간', '뭇매', '맞다']\n",
      "['크다', '린스', '위약금', '본인', '충당']\n",
      "['몽규', '비행기', '호텔', '값', '자비', '가다']\n",
      "['피파에자리좀없슈']\n"
     ]
    }
   ],
   "source": [
    "# 형태소 분석 결과(corpus)의 처음 5개 원소 확인\n",
    "# [참고] 원본 문서와 결과를 비교하여 사용자 사전에 추가하는 것을 반복해야 함\n",
    "for i in range(5):\n",
    "    print(corpus[i])"
   ]
  },
  {
   "cell_type": "code",
   "execution_count": 25,
   "id": "c787e5a2",
   "metadata": {
    "scrolled": true
   },
   "outputs": [
    {
     "name": "stdout",
     "output_type": "stream",
     "text": [
      "고작 본인 책 홍보하고 사진 몇장 찍자고 파리까지 간거냐??? 축협회장이 아니라 정치인같다.ㅉㅉㅉ \n",
      "\n",
      "FIFA 회장 만난다고 우리가 정몽규 지를 무슨 우러러 보고\n",
      "월드컵 못나갈까봐 전전긍긍할줄아나 택도없는소리다\n",
      "이미 축구협회 자체가 썩어빠졌고 국민들 모두가 분노가\n",
      "넘쳐서 이럴꺼면 피파에서 징계먹든말든 이번 월드컵 포기하고 지금의 협회부터 조지고 새로만들자고 그러고있는데\n",
      "다들 지금 올해 국회 국정감사 눈에 불을켜고 기다리고있다\n",
      "축구협회뿐만 아니라 배드민턴협회도 박살나서 저러고있고\n",
      "문체부 포함 야당 여당 국회의원 당신들 조질꺼면 제대로 조져라 되도않는 어설픈 질문들고와서 협회들한테 질타같지않은 이상한 질타하는순간 순간 되려 뭇매맞는다 \n",
      "\n",
      "클린스만 위약금 본인이 꼭 충당해라 \n",
      "\n",
      "몽규 비행기 호텔값은 자비로 간거니? 아님? \n",
      "\n",
      "헤헤~~굽신굽신. 피파에 자리 좀 없슈? \n",
      "\n"
     ]
    }
   ],
   "source": [
    "# 반복문으로 원본 문서의 처음 5행을 출력\n",
    "for i in range(5):\n",
    "    print(newsReply['contents'].iloc[i], '\\n')"
   ]
  },
  {
   "cell_type": "markdown",
   "id": "e75d02df",
   "metadata": {},
   "source": [
    "### 문서-단어 행렬 생성"
   ]
  },
  {
   "cell_type": "code",
   "execution_count": 26,
   "id": "559c82be",
   "metadata": {
    "scrolled": true
   },
   "outputs": [
    {
     "data": {
      "text/plain": [
       "['본인 책 홍보 사진 찍다 파리 가다 축구협회 회장 정치인',\n",
       " '회장 만나다 정몽규 우러러보다 월드컵 나가다 전전긍긍 알다 택 소리 축구협회 자체 썩다 빠지다 국민 모두 분노 넘치다 이러다 피파 징계 먹다 말다 이번 월드컵 포기 지금 협회 조지다 만들다 그러다 올해 국회 국정 감사 눈 불 켜다 기다리다 축구협회 배드민턴 협회 박살나다 저러다 문체부 포함 야당 여당 국회의원 조지다 조지다 어설프다 질문 협회 질타 이상 질타 순간 순간 뭇매 맞다',\n",
       " '크다 린스 위약금 본인 충당',\n",
       " '몽규 비행기 호텔 값 자비 가다',\n",
       " '피파에자리좀없슈']"
      ]
     },
     "execution_count": 26,
     "metadata": {},
     "output_type": "execute_result"
    }
   ],
   "source": [
    "# corpus의 각 원소(리스트)를 하나의 문자열로 결합하여 corpus에 재할당\n",
    "# [참고] 문서-단어 행렬 생성하려면 corpus 원소가 문자열이어야 함\n",
    "corpus = [' '.join(i) for i in corpus]\n",
    "\n",
    "# corpus의 처음 5개 확인\n",
    "corpus[0:5]"
   ]
  },
  {
   "cell_type": "code",
   "execution_count": 27,
   "id": "1672dc5e",
   "metadata": {},
   "outputs": [],
   "source": [
    "# 문서별 단어의 tf를 계산하는 객체 생성\n",
    "# [참고] TfidfVectorizer()는 단어의 tf-idf를 반환\n",
    "cv = CountVectorizer()"
   ]
  },
  {
   "cell_type": "code",
   "execution_count": 28,
   "id": "c74a30de",
   "metadata": {},
   "outputs": [
    {
     "data": {
      "text/plain": [
       "array([[0, 0, 0, ..., 0, 0, 0],\n",
       "       [0, 0, 0, ..., 0, 0, 0],\n",
       "       [0, 0, 0, ..., 0, 0, 0],\n",
       "       ...,\n",
       "       [0, 0, 0, ..., 0, 0, 0],\n",
       "       [0, 0, 0, ..., 0, 0, 0],\n",
       "       [0, 0, 0, ..., 0, 0, 0]])"
      ]
     },
     "execution_count": 28,
     "metadata": {},
     "output_type": "execute_result"
    }
   ],
   "source": [
    "# 단어의 tf를 성분으로 갖는 문서-단어 행렬 생성\n",
    "dtm = cv.fit_transform(raw_documents = corpus).toarray()\n",
    "\n",
    "# dtm 확인\n",
    "# [참고] dtm은 2차원 행렬임\n",
    "dtm"
   ]
  },
  {
   "cell_type": "code",
   "execution_count": 29,
   "id": "a9607754",
   "metadata": {},
   "outputs": [
    {
     "data": {
      "text/plain": [
       "array(['2류', '2부', '3관왕', ..., '힘들이다', '힘주다', '힘줄'], dtype=object)"
      ]
     },
     "execution_count": 29,
     "metadata": {},
     "output_type": "execute_result"
    }
   ],
   "source": [
    "# cv 객체에 저장된 단어 목록 확인\n",
    "# [참고] 알파벳이 모두 소문자로 바뀌었음\n",
    "cv.get_feature_names_out()"
   ]
  },
  {
   "cell_type": "code",
   "execution_count": 30,
   "id": "e262c73a",
   "metadata": {},
   "outputs": [],
   "source": [
    "# dtm을 데이터프레임으로 변환\n",
    "dtm = pd.DataFrame(data = dtm, columns = cv.get_feature_names_out())"
   ]
  },
  {
   "cell_type": "code",
   "execution_count": 31,
   "id": "9aab7060",
   "metadata": {},
   "outputs": [],
   "source": [
    "# dtm의 열이름에서 알파벳을 대문자로 변경\n",
    "dtm.columns = dtm.columns.str.upper()"
   ]
  },
  {
   "cell_type": "code",
   "execution_count": 32,
   "id": "9b0f43e6",
   "metadata": {},
   "outputs": [
    {
     "data": {
      "text/html": [
       "<div>\n",
       "<style scoped>\n",
       "    .dataframe tbody tr th:only-of-type {\n",
       "        vertical-align: middle;\n",
       "    }\n",
       "\n",
       "    .dataframe tbody tr th {\n",
       "        vertical-align: top;\n",
       "    }\n",
       "\n",
       "    .dataframe thead th {\n",
       "        text-align: right;\n",
       "    }\n",
       "</style>\n",
       "<table border=\"1\" class=\"dataframe\">\n",
       "  <thead>\n",
       "    <tr style=\"text-align: right;\">\n",
       "      <th></th>\n",
       "      <th>2류</th>\n",
       "      <th>2부</th>\n",
       "      <th>3관왕</th>\n",
       "      <th>3루타</th>\n",
       "      <th>50퍼</th>\n",
       "      <th>X가리에뭐</th>\n",
       "      <th>가격</th>\n",
       "      <th>가관</th>\n",
       "      <th>가난</th>\n",
       "      <th>가누다</th>\n",
       "      <th>...</th>\n",
       "      <th>희생</th>\n",
       "      <th>희한하다</th>\n",
       "      <th>히딩크</th>\n",
       "      <th>히룡</th>\n",
       "      <th>히트</th>\n",
       "      <th>히틀러</th>\n",
       "      <th>힘들다</th>\n",
       "      <th>힘들이다</th>\n",
       "      <th>힘주다</th>\n",
       "      <th>힘줄</th>\n",
       "    </tr>\n",
       "  </thead>\n",
       "  <tbody>\n",
       "    <tr>\n",
       "      <th>0</th>\n",
       "      <td>0</td>\n",
       "      <td>0</td>\n",
       "      <td>0</td>\n",
       "      <td>0</td>\n",
       "      <td>0</td>\n",
       "      <td>0</td>\n",
       "      <td>0</td>\n",
       "      <td>0</td>\n",
       "      <td>0</td>\n",
       "      <td>0</td>\n",
       "      <td>...</td>\n",
       "      <td>0</td>\n",
       "      <td>0</td>\n",
       "      <td>0</td>\n",
       "      <td>0</td>\n",
       "      <td>0</td>\n",
       "      <td>0</td>\n",
       "      <td>0</td>\n",
       "      <td>0</td>\n",
       "      <td>0</td>\n",
       "      <td>0</td>\n",
       "    </tr>\n",
       "    <tr>\n",
       "      <th>1</th>\n",
       "      <td>0</td>\n",
       "      <td>0</td>\n",
       "      <td>0</td>\n",
       "      <td>0</td>\n",
       "      <td>0</td>\n",
       "      <td>0</td>\n",
       "      <td>0</td>\n",
       "      <td>0</td>\n",
       "      <td>0</td>\n",
       "      <td>0</td>\n",
       "      <td>...</td>\n",
       "      <td>0</td>\n",
       "      <td>0</td>\n",
       "      <td>0</td>\n",
       "      <td>0</td>\n",
       "      <td>0</td>\n",
       "      <td>0</td>\n",
       "      <td>0</td>\n",
       "      <td>0</td>\n",
       "      <td>0</td>\n",
       "      <td>0</td>\n",
       "    </tr>\n",
       "    <tr>\n",
       "      <th>2</th>\n",
       "      <td>0</td>\n",
       "      <td>0</td>\n",
       "      <td>0</td>\n",
       "      <td>0</td>\n",
       "      <td>0</td>\n",
       "      <td>0</td>\n",
       "      <td>0</td>\n",
       "      <td>0</td>\n",
       "      <td>0</td>\n",
       "      <td>0</td>\n",
       "      <td>...</td>\n",
       "      <td>0</td>\n",
       "      <td>0</td>\n",
       "      <td>0</td>\n",
       "      <td>0</td>\n",
       "      <td>0</td>\n",
       "      <td>0</td>\n",
       "      <td>0</td>\n",
       "      <td>0</td>\n",
       "      <td>0</td>\n",
       "      <td>0</td>\n",
       "    </tr>\n",
       "    <tr>\n",
       "      <th>3</th>\n",
       "      <td>0</td>\n",
       "      <td>0</td>\n",
       "      <td>0</td>\n",
       "      <td>0</td>\n",
       "      <td>0</td>\n",
       "      <td>0</td>\n",
       "      <td>0</td>\n",
       "      <td>0</td>\n",
       "      <td>0</td>\n",
       "      <td>0</td>\n",
       "      <td>...</td>\n",
       "      <td>0</td>\n",
       "      <td>0</td>\n",
       "      <td>0</td>\n",
       "      <td>0</td>\n",
       "      <td>0</td>\n",
       "      <td>0</td>\n",
       "      <td>0</td>\n",
       "      <td>0</td>\n",
       "      <td>0</td>\n",
       "      <td>0</td>\n",
       "    </tr>\n",
       "    <tr>\n",
       "      <th>4</th>\n",
       "      <td>0</td>\n",
       "      <td>0</td>\n",
       "      <td>0</td>\n",
       "      <td>0</td>\n",
       "      <td>0</td>\n",
       "      <td>0</td>\n",
       "      <td>0</td>\n",
       "      <td>0</td>\n",
       "      <td>0</td>\n",
       "      <td>0</td>\n",
       "      <td>...</td>\n",
       "      <td>0</td>\n",
       "      <td>0</td>\n",
       "      <td>0</td>\n",
       "      <td>0</td>\n",
       "      <td>0</td>\n",
       "      <td>0</td>\n",
       "      <td>0</td>\n",
       "      <td>0</td>\n",
       "      <td>0</td>\n",
       "      <td>0</td>\n",
       "    </tr>\n",
       "  </tbody>\n",
       "</table>\n",
       "<p>5 rows × 4792 columns</p>\n",
       "</div>"
      ],
      "text/plain": [
       "   2류  2부  3관왕  3루타  50퍼  X가리에뭐  가격  가관  가난  가누다  ...  희생  희한하다  히딩크  히룡  히트  \\\n",
       "0   0   0    0    0    0      0   0   0   0    0  ...   0     0    0   0   0   \n",
       "1   0   0    0    0    0      0   0   0   0    0  ...   0     0    0   0   0   \n",
       "2   0   0    0    0    0      0   0   0   0    0  ...   0     0    0   0   0   \n",
       "3   0   0    0    0    0      0   0   0   0    0  ...   0     0    0   0   0   \n",
       "4   0   0    0    0    0      0   0   0   0    0  ...   0     0    0   0   0   \n",
       "\n",
       "   히틀러  힘들다  힘들이다  힘주다  힘줄  \n",
       "0    0    0     0    0   0  \n",
       "1    0    0     0    0   0  \n",
       "2    0    0     0    0   0  \n",
       "3    0    0     0    0   0  \n",
       "4    0    0     0    0   0  \n",
       "\n",
       "[5 rows x 4792 columns]"
      ]
     },
     "execution_count": 32,
     "metadata": {},
     "output_type": "execute_result"
    }
   ],
   "source": [
    "# dtm의 처음 5행 확인\n",
    "dtm.head()"
   ]
  },
  {
   "cell_type": "code",
   "execution_count": 33,
   "id": "2fec8afc",
   "metadata": {},
   "outputs": [
    {
     "data": {
      "text/plain": [
       "(4032, 4792)"
      ]
     },
     "execution_count": 33,
     "metadata": {},
     "output_type": "execute_result"
    }
   ],
   "source": [
    "# dtm의 행 개수와 열 개수 확인\n",
    "dtm.shape"
   ]
  },
  {
   "cell_type": "code",
   "execution_count": 34,
   "id": "d162e998",
   "metadata": {},
   "outputs": [],
   "source": [
    "# dtm의 단어별 tf 합계를 내림차순 정렬하고 tfs에 할당\n",
    "tfs = dtm.sum().sort_values(ascending = False)"
   ]
  },
  {
   "cell_type": "code",
   "execution_count": 35,
   "id": "d6de9a6c",
   "metadata": {},
   "outputs": [
    {
     "data": {
      "text/plain": [
       "축구      663\n",
       "축구협회    601\n",
       "정몽규     501\n",
       "회장      448\n",
       "감독      369\n",
       "홍명보     288\n",
       "국민      253\n",
       "가다      243\n",
       "사퇴      218\n",
       "협회      217\n",
       "dtype: int64"
      ]
     },
     "metadata": {},
     "output_type": "display_data"
    },
    {
     "data": {
      "text/plain": [
       "사악           1\n",
       "사약           1\n",
       "사업이나똑봐로해라    1\n",
       "사업체          1\n",
       "사욕           1\n",
       "사우디          1\n",
       "사이사이         1\n",
       "사이언스         1\n",
       "사이좋다         1\n",
       "힘줄           1\n",
       "dtype: int64"
      ]
     },
     "metadata": {},
     "output_type": "display_data"
    }
   ],
   "source": [
    "# tfs의 상위 10개 및 하위 10개 확인\n",
    "display(tfs.head(n = 10))\n",
    "display(tfs.tail(n = 10))"
   ]
  },
  {
   "cell_type": "code",
   "execution_count": 36,
   "id": "fdbafd54",
   "metadata": {},
   "outputs": [],
   "source": [
    "# tfs가 20 이하인 인덱스(단어)를 dtm에서 제거\n",
    "# [참고] 단어 빈도수를 높일수록 dtm의 열(차원) 개수가 감소함\n",
    "threshold = 20\n",
    "dtm = dtm.drop(columns = tfs.loc[tfs.le(threshold)].index)"
   ]
  },
  {
   "cell_type": "code",
   "execution_count": 37,
   "id": "506e37e2",
   "metadata": {},
   "outputs": [
    {
     "data": {
      "text/plain": [
       "(4032, 224)"
      ]
     },
     "execution_count": 37,
     "metadata": {},
     "output_type": "execute_result"
    }
   ],
   "source": [
    "# dtm의 행 개수와 열 개수 확인\n",
    "# [참고] 단어 빈도수가 매우 작은 일부 단어를 삭제함으로써 차원(열) 축소 가능\n",
    "# [참고] dtm의 차원을 축소하면 행렬곱 연산을 빠르게 실행할 수 있음\n",
    "dtm.shape"
   ]
  },
  {
   "cell_type": "code",
   "execution_count": 38,
   "id": "ef3c3d28",
   "metadata": {},
   "outputs": [
    {
     "data": {
      "text/plain": [
       "'/Users/seonghona/Documents/Lectures/Customer/DBR/data'"
      ]
     },
     "execution_count": 38,
     "metadata": {},
     "output_type": "execute_result"
    }
   ],
   "source": [
    "# 현재 작업 경로 확인\n",
    "os.getcwd()"
   ]
  },
  {
   "cell_type": "code",
   "execution_count": 39,
   "id": "6642d74f",
   "metadata": {},
   "outputs": [],
   "source": [
    "# corpus, tfs 및 dtm을 하나의 pkl 파일로 저장\n",
    "pd.to_pickle(obj = [corpus, tfs, dtm], filepath_or_buffer = 'Text_Prep.pkl')"
   ]
  },
  {
   "cell_type": "code",
   "execution_count": 40,
   "id": "05b2f591",
   "metadata": {},
   "outputs": [
    {
     "data": {
      "text/plain": [
       "['Text_Prep.pkl', 'Naver_News_Reply.pkl', 'Naver_News_List.pkl']"
      ]
     },
     "execution_count": 40,
     "metadata": {},
     "output_type": "execute_result"
    }
   ],
   "source": [
    "# 현재 작업 경로에 있는 폴더명과 파일명 확인\n",
    "os.listdir()"
   ]
  },
  {
   "cell_type": "markdown",
   "id": "7ba299d6",
   "metadata": {},
   "source": [
    "## End of Document"
   ]
  }
 ],
 "metadata": {
  "kernelspec": {
   "display_name": "Python 3 (ipykernel)",
   "language": "python",
   "name": "python3"
  },
  "language_info": {
   "codemirror_mode": {
    "name": "ipython",
    "version": 3
   },
   "file_extension": ".py",
   "mimetype": "text/x-python",
   "name": "python",
   "nbconvert_exporter": "python",
   "pygments_lexer": "ipython3",
   "version": "3.12.2"
  },
  "toc": {
   "base_numbering": 1,
   "nav_menu": {},
   "number_sections": true,
   "sideBar": true,
   "skip_h1_title": false,
   "title_cell": "Table of Contents",
   "title_sidebar": "Contents",
   "toc_cell": false,
   "toc_position": {},
   "toc_section_display": true,
   "toc_window_display": false
  },
  "varInspector": {
   "cols": {
    "lenName": 16,
    "lenType": 16,
    "lenVar": 40
   },
   "kernels_config": {
    "python": {
     "delete_cmd_postfix": "",
     "delete_cmd_prefix": "del ",
     "library": "var_list.py",
     "varRefreshCmd": "print(var_dic_list())"
    },
    "r": {
     "delete_cmd_postfix": ") ",
     "delete_cmd_prefix": "rm(",
     "library": "var_list.r",
     "varRefreshCmd": "cat(var_dic_list()) "
    }
   },
   "types_to_exclude": [
    "module",
    "function",
    "builtin_function_or_method",
    "instance",
    "_Feature"
   ],
   "window_display": false
  }
 },
 "nbformat": 4,
 "nbformat_minor": 5
}
