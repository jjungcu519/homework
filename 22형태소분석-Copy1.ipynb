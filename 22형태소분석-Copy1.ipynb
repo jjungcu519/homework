{
 "cells": [
  {
   "cell_type": "markdown",
   "id": "2c145e7e-d054-43ff-abfb-af0fe6d51f14",
   "metadata": {},
   "source": [
    "# 0. 환경설정"
   ]
  },
  {
   "cell_type": "code",
   "execution_count": 66,
   "id": "9654e6bf-550b-4d78-b3e1-80d6b00d1f71",
   "metadata": {},
   "outputs": [],
   "source": [
    "import os\n",
    "import pandas as pd\n",
    "import numpy as np\n",
    "\n",
    "import requests\n",
    "from bs4 import BeautifulSoup as bts\n",
    "import json\n",
    "import re\n",
    "import time\n",
    "from tqdm.notebook import tqdm\n",
    "\n",
    "from kiwipiepy import Kiwi\n",
    "from kiwipiepy.utils import Stopwords\n",
    "from sklearn.feature_extraction.text import CountVectorizer\n",
    "from sklearn.feature_extraction.text import TfidfVectorizer"
   ]
  },
  {
   "cell_type": "code",
   "execution_count": 72,
   "id": "c9267746-4ea3-4233-ab3b-ee6e6c1a8a1e",
   "metadata": {},
   "outputs": [],
   "source": [
    "os.chdir(path = 'code')"
   ]
  },
  {
   "cell_type": "code",
   "execution_count": 73,
   "id": "0ad24cf6-f2c1-44fe-9cc8-d2ffd8e9a038",
   "metadata": {},
   "outputs": [
    {
     "data": {
      "text/plain": [
       "['.DS_Store',\n",
       " '.gitignore',\n",
       " '.ipynb_checkpoints',\n",
       " '00_Library_Installation.ipynb',\n",
       " '22시각화-Copy1.ipynb',\n",
       " '22시각화.ipynb',\n",
       " '22형태소분석-Copy1.ipynb',\n",
       " '22형태소분석.ipynb',\n",
       " 'A1_Naver_News_Link_Func.ipynb',\n",
       " 'A2_Naver_News_Body_Func.ipynb',\n",
       " 'A3_Naver_News_Reply_Func.ipynb',\n",
       " 'B1_Text_Mining.ipynb',\n",
       " 'B2_Visualization.ipynb',\n",
       " 'B3_Topic_Modeling.ipynb',\n",
       " 'data',\n",
       " 'df22.pkl',\n",
       " 'df23.pkl',\n",
       " 'venv']"
      ]
     },
     "execution_count": 73,
     "metadata": {},
     "output_type": "execute_result"
    }
   ],
   "source": [
    "os.listdir()"
   ]
  },
  {
   "cell_type": "code",
   "execution_count": 74,
   "id": "9bf31a43-b1f2-414a-9610-3222035eb01d",
   "metadata": {},
   "outputs": [],
   "source": [
    "df23 = pd.read_csv('data/2023_log.csv')\n",
    "df24 = pd.read_csv('data/2024_log.csv')"
   ]
  },
  {
   "cell_type": "code",
   "execution_count": 75,
   "id": "dc3f1bf3-3e89-4949-b2bc-39258bcd1110",
   "metadata": {},
   "outputs": [
    {
     "data": {
      "text/html": [
       "<div>\n",
       "<style scoped>\n",
       "    .dataframe tbody tr th:only-of-type {\n",
       "        vertical-align: middle;\n",
       "    }\n",
       "\n",
       "    .dataframe tbody tr th {\n",
       "        vertical-align: top;\n",
       "    }\n",
       "\n",
       "    .dataframe thead th {\n",
       "        text-align: right;\n",
       "    }\n",
       "</style>\n",
       "<table border=\"1\" class=\"dataframe\">\n",
       "  <thead>\n",
       "    <tr style=\"text-align: right;\">\n",
       "      <th></th>\n",
       "      <th>Press</th>\n",
       "      <th>Headline</th>\n",
       "      <th>Analysis</th>\n",
       "    </tr>\n",
       "  </thead>\n",
       "  <tbody>\n",
       "    <tr>\n",
       "      <th>0</th>\n",
       "      <td>연합뉴스</td>\n",
       "      <td>'내년 첫 전기차 출시' 中샤오미 \"테슬라 따라잡을 준비됐다\"</td>\n",
       "      <td>긍정</td>\n",
       "    </tr>\n",
       "    <tr>\n",
       "      <th>1</th>\n",
       "      <td>YTN</td>\n",
       "      <td>'자국 우선주의' 허들 만난 '전기차', 묘수는?</td>\n",
       "      <td>중립</td>\n",
       "    </tr>\n",
       "    <tr>\n",
       "      <th>2</th>\n",
       "      <td>연합뉴스</td>\n",
       "      <td>애플 따라하던 中 샤오미, 전기차는 먼저 치고나가</td>\n",
       "      <td>긍정</td>\n",
       "    </tr>\n",
       "    <tr>\n",
       "      <th>3</th>\n",
       "      <td>연합뉴스</td>\n",
       "      <td>美 전기차 전환, 정부 지원에도 수요 감소로 기대보다 느려</td>\n",
       "      <td>부정</td>\n",
       "    </tr>\n",
       "    <tr>\n",
       "      <th>4</th>\n",
       "      <td>매일경제</td>\n",
       "      <td>주춤한 전기차 … 내년 보급형 몰려온다</td>\n",
       "      <td>중립</td>\n",
       "    </tr>\n",
       "  </tbody>\n",
       "</table>\n",
       "</div>"
      ],
      "text/plain": [
       "  Press                            Headline Analysis\n",
       "0  연합뉴스  '내년 첫 전기차 출시' 中샤오미 \"테슬라 따라잡을 준비됐다\"       긍정\n",
       "1   YTN         '자국 우선주의' 허들 만난 '전기차', 묘수는?       중립\n",
       "2  연합뉴스         애플 따라하던 中 샤오미, 전기차는 먼저 치고나가       긍정\n",
       "3  연합뉴스    美 전기차 전환, 정부 지원에도 수요 감소로 기대보다 느려       부정\n",
       "4  매일경제               주춤한 전기차 … 내년 보급형 몰려온다       중립"
      ]
     },
     "execution_count": 75,
     "metadata": {},
     "output_type": "execute_result"
    }
   ],
   "source": [
    "df23.head()"
   ]
  },
  {
   "cell_type": "code",
   "execution_count": 5,
   "id": "297d7471-8d9a-4549-a05b-260ef5b93636",
   "metadata": {},
   "outputs": [],
   "source": [
    "df23['Headline'] = df23['Headline'].str.replace(pat = '<.+?>', repl = '', regex = True)"
   ]
  },
  {
   "cell_type": "code",
   "execution_count": 6,
   "id": "493d74ca-2d73-4307-83b4-2cb763028d8e",
   "metadata": {},
   "outputs": [
    {
     "data": {
      "text/plain": [
       "0    '내년 첫 전기차 출시' 中샤오미 \"테슬라 따라잡을 준비됐다\"\n",
       "1           '자국 우선주의' 허들 만난 '전기차', 묘수는?\n",
       "2           애플 따라하던 中 샤오미, 전기차는 먼저 치고나가\n",
       "3      美 전기차 전환, 정부 지원에도 수요 감소로 기대보다 느려\n",
       "4                 주춤한 전기차 … 내년 보급형 몰려온다\n",
       "Name: Headline, dtype: object"
      ]
     },
     "execution_count": 6,
     "metadata": {},
     "output_type": "execute_result"
    }
   ],
   "source": [
    "df23['Headline'].head()"
   ]
  },
  {
   "cell_type": "code",
   "execution_count": 7,
   "id": "d4445e02-c7cd-4222-b488-ceb3a0639010",
   "metadata": {},
   "outputs": [
    {
     "data": {
      "text/plain": [
       "'C:\\\\Users\\\\kim jeongah\\\\OneDrive\\\\Desktop\\\\DMF\\\\DBR_Project\\\\DBR_Project\\\\code'"
      ]
     },
     "execution_count": 7,
     "metadata": {},
     "output_type": "execute_result"
    }
   ],
   "source": [
    "os.getcwd()"
   ]
  },
  {
   "cell_type": "code",
   "execution_count": 8,
   "id": "b28a48e6-490e-482c-915f-ab5bad3f5641",
   "metadata": {},
   "outputs": [],
   "source": [
    "pd.to_pickle(obj = df23, filepath_or_buffer = 'df23.pkl')"
   ]
  },
  {
   "cell_type": "code",
   "execution_count": 9,
   "id": "296af813-cacf-46ba-8145-80898a266a99",
   "metadata": {},
   "outputs": [
    {
     "data": {
      "text/plain": [
       "['.DS_Store',\n",
       " '.gitignore',\n",
       " '.ipynb_checkpoints',\n",
       " '00_Library_Installation.ipynb',\n",
       " '22시각화-Copy1.ipynb',\n",
       " '22시각화.ipynb',\n",
       " '22형태소분석-Copy1.ipynb',\n",
       " '22형태소분석.ipynb',\n",
       " 'A1_Naver_News_Link_Func.ipynb',\n",
       " 'A2_Naver_News_Body_Func.ipynb',\n",
       " 'A3_Naver_News_Reply_Func.ipynb',\n",
       " 'B1_Text_Mining.ipynb',\n",
       " 'B2_Visualization.ipynb',\n",
       " 'B3_Topic_Modeling.ipynb',\n",
       " 'data',\n",
       " 'df22.pkl',\n",
       " 'df23.pkl',\n",
       " 'venv']"
      ]
     },
     "execution_count": 9,
     "metadata": {},
     "output_type": "execute_result"
    }
   ],
   "source": [
    "os.listdir()"
   ]
  },
  {
   "cell_type": "code",
   "execution_count": 10,
   "id": "1016d00b-fa8a-449f-88ae-2f7600e8cab2",
   "metadata": {},
   "outputs": [],
   "source": [
    "os.chdir(path = '../data')"
   ]
  },
  {
   "cell_type": "code",
   "execution_count": 11,
   "id": "efa9cc6a-7189-4d38-820f-00486a0f3243",
   "metadata": {},
   "outputs": [
    {
     "data": {
      "text/plain": [
       "['22_Prep.pkl',\n",
       " '23_Prep.pkl',\n",
       " 'Naver_News_List.pkl',\n",
       " 'Naver_News_Reply.pkl',\n",
       " 'Text_Prep.pkl',\n",
       " 'df22.pkl',\n",
       " 'df23.pkl']"
      ]
     },
     "execution_count": 11,
     "metadata": {},
     "output_type": "execute_result"
    }
   ],
   "source": [
    "sorted(os.listdir())"
   ]
  },
  {
   "cell_type": "code",
   "execution_count": 12,
   "id": "095e0e3f-5ad0-46a9-8641-ea679c839163",
   "metadata": {},
   "outputs": [],
   "source": [
    "df23 = pd.read_pickle(filepath_or_buffer = 'df23.pkl')"
   ]
  },
  {
   "cell_type": "code",
   "execution_count": 13,
   "id": "c97e817e-9aec-4bf7-9ab6-73a55d79944e",
   "metadata": {},
   "outputs": [
    {
     "data": {
      "text/html": [
       "<div>\n",
       "<style scoped>\n",
       "    .dataframe tbody tr th:only-of-type {\n",
       "        vertical-align: middle;\n",
       "    }\n",
       "\n",
       "    .dataframe tbody tr th {\n",
       "        vertical-align: top;\n",
       "    }\n",
       "\n",
       "    .dataframe thead th {\n",
       "        text-align: right;\n",
       "    }\n",
       "</style>\n",
       "<table border=\"1\" class=\"dataframe\">\n",
       "  <thead>\n",
       "    <tr style=\"text-align: right;\">\n",
       "      <th></th>\n",
       "      <th>Press</th>\n",
       "      <th>Headline</th>\n",
       "      <th>Analysis</th>\n",
       "    </tr>\n",
       "  </thead>\n",
       "  <tbody>\n",
       "    <tr>\n",
       "      <th>0</th>\n",
       "      <td>연합뉴스</td>\n",
       "      <td>'내년 첫 전기차 출시' 中샤오미 \"테슬라 따라잡을 준비됐다\"</td>\n",
       "      <td>긍정</td>\n",
       "    </tr>\n",
       "    <tr>\n",
       "      <th>1</th>\n",
       "      <td>YTN</td>\n",
       "      <td>'자국 우선주의' 허들 만난 '전기차', 묘수는?</td>\n",
       "      <td>중립</td>\n",
       "    </tr>\n",
       "    <tr>\n",
       "      <th>2</th>\n",
       "      <td>연합뉴스</td>\n",
       "      <td>애플 따라하던 中 샤오미, 전기차는 먼저 치고나가</td>\n",
       "      <td>긍정</td>\n",
       "    </tr>\n",
       "    <tr>\n",
       "      <th>3</th>\n",
       "      <td>연합뉴스</td>\n",
       "      <td>美 전기차 전환, 정부 지원에도 수요 감소로 기대보다 느려</td>\n",
       "      <td>부정</td>\n",
       "    </tr>\n",
       "    <tr>\n",
       "      <th>4</th>\n",
       "      <td>매일경제</td>\n",
       "      <td>주춤한 전기차 … 내년 보급형 몰려온다</td>\n",
       "      <td>중립</td>\n",
       "    </tr>\n",
       "  </tbody>\n",
       "</table>\n",
       "</div>"
      ],
      "text/plain": [
       "  Press                            Headline Analysis\n",
       "0  연합뉴스  '내년 첫 전기차 출시' 中샤오미 \"테슬라 따라잡을 준비됐다\"       긍정\n",
       "1   YTN         '자국 우선주의' 허들 만난 '전기차', 묘수는?       중립\n",
       "2  연합뉴스         애플 따라하던 中 샤오미, 전기차는 먼저 치고나가       긍정\n",
       "3  연합뉴스    美 전기차 전환, 정부 지원에도 수요 감소로 기대보다 느려       부정\n",
       "4  매일경제               주춤한 전기차 … 내년 보급형 몰려온다       중립"
      ]
     },
     "execution_count": 13,
     "metadata": {},
     "output_type": "execute_result"
    }
   ],
   "source": [
    "df23.head()"
   ]
  },
  {
   "cell_type": "code",
   "execution_count": 14,
   "id": "a8e97c70-a391-471d-8dd1-cba520487067",
   "metadata": {},
   "outputs": [
    {
     "name": "stdout",
     "output_type": "stream",
     "text": [
      "<class 'pandas.core.frame.DataFrame'>\n",
      "RangeIndex: 781 entries, 0 to 780\n",
      "Data columns (total 3 columns):\n",
      " #   Column    Non-Null Count  Dtype \n",
      "---  ------    --------------  ----- \n",
      " 0   Press     781 non-null    object\n",
      " 1   Headline  781 non-null    object\n",
      " 2   Analysis  781 non-null    object\n",
      "dtypes: object(3)\n",
      "memory usage: 18.4+ KB\n"
     ]
    }
   ],
   "source": [
    "df23.info()"
   ]
  },
  {
   "cell_type": "code",
   "execution_count": 15,
   "id": "56ecda3b-9dd4-4b38-8a3c-08e4789576df",
   "metadata": {},
   "outputs": [],
   "source": [
    "sens = df23['Headline']"
   ]
  },
  {
   "cell_type": "code",
   "execution_count": 16,
   "id": "dc44cd73-5363-4d38-994b-57f0ed5aa630",
   "metadata": {},
   "outputs": [
    {
     "data": {
      "text/plain": [
       "0         '내년 첫 전기차 출시' 中샤오미 \"테슬라 따라잡을 준비됐다\"\n",
       "1                '자국 우선주의' 허들 만난 '전기차', 묘수는?\n",
       "2                애플 따라하던 中 샤오미, 전기차는 먼저 치고나가\n",
       "3           美 전기차 전환, 정부 지원에도 수요 감소로 기대보다 느려\n",
       "4                      주춤한 전기차 … 내년 보급형 몰려온다\n",
       "                       ...                  \n",
       "95      \"순식간에 1,500℃까지 발화\"...전기차 화재 진압 방법 고심\n",
       "96                전기차 사러 왔다가 하이브리드 몰고 나가는 이유\n",
       "97                        제동 걸린 전기차 전환[오후여담]\n",
       "98        캐나다, 2035년까지 모든 차량 ‘전기차 의무화’ 공식 발표\n",
       "99    '프리미엄' 볼보도 4000만원대 전기차 출시…\"높은 가격이 걸림돌\"\n",
       "Name: Headline, Length: 100, dtype: object"
      ]
     },
     "execution_count": 16,
     "metadata": {},
     "output_type": "execute_result"
    }
   ],
   "source": [
    "sens.head(100)"
   ]
  },
  {
   "cell_type": "code",
   "execution_count": 17,
   "id": "d7c332fa-795f-4d05-a600-93cbe88d7356",
   "metadata": {},
   "outputs": [
    {
     "data": {
      "text/plain": [
       "\"'자국 우선주의' 허들 만난 '전기차', 묘수는?\""
      ]
     },
     "execution_count": 17,
     "metadata": {},
     "output_type": "execute_result"
    }
   ],
   "source": [
    "i=0\n",
    "sens.iloc[1]"
   ]
  },
  {
   "cell_type": "markdown",
   "id": "cd2c8a87-3553-404a-bde8-968db42bc6e5",
   "metadata": {},
   "source": [
    "# 0.1 빈도수 정확도를 높이기 위한 튜닝"
   ]
  },
  {
   "cell_type": "code",
   "execution_count": 18,
   "id": "7c6788ed-fc94-402b-ad8a-2988b5d8245a",
   "metadata": {},
   "outputs": [],
   "source": [
    "# sens에서 지정한 패턴이 아닌 글자를 공백으로 변경하고 sens에 재할당\n",
    "sens = sens.str.replace(pat = '[^가-힣A-Za-z0-9.]|&.+;', repl = '', regex = True)\n",
    "\n",
    "# 일부 단어를 변경함\n",
    "sens = sens.str.replace(pat = 'e트론', repl = '아우디', regex = True)\n",
    "sens = sens.str.replace(pat = '中', repl = '중국', regex = True)\n",
    "sens = sens.str.replace(pat = '美', repl = '미국', regex = True)\n",
    "sens = sens.str.replace(pat = '獨', repl = '독일', regex = True)\n",
    "# sens = sens.str.replace(pat = '전기', repl = '전기차', regex = True)\n",
    "sens = sens.str.replace(pat = '전기', repl = '', regex = True)\n",
    "sens = sens.str.replace(pat = '기차', repl = '', regex = True)\n",
    "sens = sens.str.replace(pat = '차다', repl = '', regex = True)"
   ]
  },
  {
   "cell_type": "markdown",
   "id": "521eb32b-04cd-40d2-bac7-2ab0bf6110b7",
   "metadata": {},
   "source": [
    "# 1. 형태소 분석"
   ]
  },
  {
   "cell_type": "code",
   "execution_count": 19,
   "id": "29fb9af8-53aa-4075-a3a7-ec78f4be409a",
   "metadata": {},
   "outputs": [],
   "source": [
    "kiwistop = Stopwords()"
   ]
  },
  {
   "cell_type": "code",
   "execution_count": 20,
   "id": "5b960ca0-a408-4a08-a3a8-71b87e348d93",
   "metadata": {},
   "outputs": [],
   "source": [
    "kiwi = Kiwi()"
   ]
  },
  {
   "cell_type": "code",
   "execution_count": 21,
   "id": "9437c1db-ae98-4237-9388-03ad6a292323",
   "metadata": {},
   "outputs": [
    {
     "data": {
      "text/plain": [
       "'내년첫차출시샤오미테슬라따라잡을준비됐다'"
      ]
     },
     "execution_count": 21,
     "metadata": {},
     "output_type": "execute_result"
    }
   ],
   "source": [
    "sens[i]"
   ]
  },
  {
   "cell_type": "code",
   "execution_count": 22,
   "id": "bdb69fd7-57ad-46f7-9513-a3f17e752026",
   "metadata": {},
   "outputs": [
    {
     "data": {
      "text/plain": [
       "[Token(form='내년', tag='NNG', start=0, len=2),\n",
       " Token(form='첫차', tag='NNG', start=2, len=2),\n",
       " Token(form='출시', tag='NNG', start=4, len=2),\n",
       " Token(form='샤오미', tag='NNP', start=6, len=3),\n",
       " Token(form='테슬라', tag='NNP', start=9, len=3),\n",
       " Token(form='따라잡', tag='VV-R', start=12, len=3),\n",
       " Token(form='준비', tag='NNG', start=16, len=2)]"
      ]
     },
     "execution_count": 22,
     "metadata": {},
     "output_type": "execute_result"
    }
   ],
   "source": [
    "kiwi.tokenize(text = sens[i], stopwords = kiwistop)"
   ]
  },
  {
   "cell_type": "code",
   "execution_count": 23,
   "id": "9ca8c8c5-0f0d-4aeb-9725-eb07e350ef2b",
   "metadata": {},
   "outputs": [],
   "source": [
    "words = ['인도', 'e트론']"
   ]
  },
  {
   "cell_type": "code",
   "execution_count": 24,
   "id": "d40a5746-f7f4-45fd-9d4c-b66194853219",
   "metadata": {},
   "outputs": [],
   "source": [
    "for word in words:\n",
    "    kiwi.add_user_word(word = word, tag = 'NNP', score = 15)"
   ]
  },
  {
   "cell_type": "code",
   "execution_count": 25,
   "id": "a2ded76a-e36a-49d0-b5d3-45d006d67039",
   "metadata": {},
   "outputs": [
    {
     "data": {
      "text/plain": [
       "[Token(form='내년', tag='NNG', start=0, len=2),\n",
       " Token(form='첫차', tag='NNG', start=2, len=2),\n",
       " Token(form='출시', tag='NNG', start=4, len=2),\n",
       " Token(form='샤오미', tag='NNP', start=6, len=3),\n",
       " Token(form='테슬라', tag='NNP', start=9, len=3),\n",
       " Token(form='따라잡', tag='VV-R', start=12, len=3),\n",
       " Token(form='준비', tag='NNG', start=16, len=2)]"
      ]
     },
     "execution_count": 25,
     "metadata": {},
     "output_type": "execute_result"
    }
   ],
   "source": [
    "tokens = kiwi.tokenize(text = sens[i], stopwords = kiwistop)\n",
    "\n",
    "tokens"
   ]
  },
  {
   "cell_type": "code",
   "execution_count": 26,
   "id": "e734ed9e-0850-4473-b5d3-237cda155518",
   "metadata": {},
   "outputs": [
    {
     "name": "stdout",
     "output_type": "stream",
     "text": [
      "형태:따라잡\n",
      "품사:VV-R\n"
     ]
    }
   ],
   "source": [
    "print(f'형태:{tokens[5].form}')\n",
    "print(f'품사:{tokens[5].tag}')"
   ]
  },
  {
   "cell_type": "code",
   "execution_count": 27,
   "id": "18357879-28ef-445d-8a3a-98b040260250",
   "metadata": {},
   "outputs": [],
   "source": [
    "pos1, pos2 = ['VV', 'VA'], ['NNG', 'NNP']"
   ]
  },
  {
   "cell_type": "code",
   "execution_count": 28,
   "id": "064b8b8d-db3a-4dac-b5c0-650fd99e0ef0",
   "metadata": {},
   "outputs": [
    {
     "data": {
      "text/plain": [
       "['내년', '첫차', '출시', '샤오미', '테슬라', '준비']"
      ]
     },
     "execution_count": 28,
     "metadata": {},
     "output_type": "execute_result"
    }
   ],
   "source": [
    "# 형태소의 품사가 용언과 체언인 형태소만 선택하고 품사가 용언인 형태소에 \n",
    "# 종결어미 '다'를 결합하여 리스트로 반환\n",
    "\n",
    "tokens = [token.form + '다' if token.tag in pos1 else token.form \n",
    "          for token in tokens if token.tag in pos1 + pos2]\n",
    "\n",
    "tokens"
   ]
  },
  {
   "cell_type": "markdown",
   "id": "c48c0c4d-09a3-49f2-9eea-21d2772b2fab",
   "metadata": {},
   "source": [
    "# 2. 말뭉치 생성"
   ]
  },
  {
   "cell_type": "code",
   "execution_count": 29,
   "id": "1a1c5394-4326-43a0-bc95-c7afa9d18f84",
   "metadata": {},
   "outputs": [],
   "source": [
    "# 말뭉치를 저장할 빈 리스트 생성\n",
    "corpus = list()\n",
    "\n",
    "# sens의 원소(문서)를 형태소 분석하고 일부 품사를 선택하여 말뭉치에 추가\n",
    "for sen in sens:\n",
    "    tokens = kiwi.tokenize(text = sen, stopwords = kiwistop)\n",
    "    tokens = [token.form + '다' if token.tag in pos1 else token.form \n",
    "              for token in tokens if token.tag in pos1 + pos2]\n",
    "    corpus.append(tokens)"
   ]
  },
  {
   "cell_type": "code",
   "execution_count": 30,
   "id": "da9b47cb-f979-4abc-9331-67e59931abd0",
   "metadata": {},
   "outputs": [
    {
     "name": "stdout",
     "output_type": "stream",
     "text": [
      "['내년', '첫차', '출시', '샤오미', '테슬라', '준비']\n",
      "['자국', '우선주의', '허들', '만나다', '차', '묘수']\n",
      "['애플', '샤오미', '차', '치다']\n",
      "['차', '전환', '정부', '지원', '수요', '감소', '기대', '느리다']\n",
      "['차', '내년', '보급', '몰려오다']\n"
     ]
    }
   ],
   "source": [
    "# 형태소 분석 결과(corpus)의 처음 5개 원소 확인\n",
    "# [참고] 원본 문서와 결과를 비교하여 사용자 사전에 추가하는 것을 반복해야 함\n",
    "for i in range(5):\n",
    "    print(corpus[i])"
   ]
  },
  {
   "cell_type": "code",
   "execution_count": 31,
   "id": "eab3d716-6933-4733-a461-4e6ed8e1889c",
   "metadata": {},
   "outputs": [
    {
     "name": "stdout",
     "output_type": "stream",
     "text": [
      "'내년 첫 전기차 출시' 中샤오미 \"테슬라 따라잡을 준비됐다\" \n",
      "\n",
      "'자국 우선주의' 허들 만난 '전기차', 묘수는? \n",
      "\n",
      "애플 따라하던 中 샤오미, 전기차는 먼저 치고나가 \n",
      "\n",
      "美 전기차 전환, 정부 지원에도 수요 감소로 기대보다 느려 \n",
      "\n",
      "주춤한 전기차 … 내년 보급형 몰려온다 \n",
      "\n"
     ]
    }
   ],
   "source": [
    "for i in range(5):\n",
    "    print(df23['Headline'].iloc[i], '\\n')"
   ]
  },
  {
   "cell_type": "markdown",
   "id": "caa5459d-efe4-4f64-ad40-1a71e2f6fea1",
   "metadata": {},
   "source": [
    "# 3. 문서-단어 행렬 생성"
   ]
  },
  {
   "cell_type": "code",
   "execution_count": 32,
   "id": "adc15791-e148-4a41-b49d-1f881fbbd252",
   "metadata": {},
   "outputs": [
    {
     "data": {
      "text/plain": [
       "['내년 첫차 출시 샤오미 테슬라 준비',\n",
       " '자국 우선주의 허들 만나다 차 묘수',\n",
       " '애플 샤오미 차 치다',\n",
       " '차 전환 정부 지원 수요 감소 기대 느리다',\n",
       " '차 내년 보급 몰려오다']"
      ]
     },
     "execution_count": 32,
     "metadata": {},
     "output_type": "execute_result"
    }
   ],
   "source": [
    "# corpus의 각 원소(리스트)를 하나의 문자열로 결합하여 corpus에 재할당\n",
    "# [참고] 문서-단어 행렬 생성하려면 corpus 원소가 문자열이어야 함\n",
    "corpus = [' '.join(i) for i in corpus]\n",
    "\n",
    "# corpus의 처음 5개 확인\n",
    "corpus[0:5]"
   ]
  },
  {
   "cell_type": "code",
   "execution_count": 33,
   "id": "85ba1281-2767-4217-a69c-12ae42293343",
   "metadata": {},
   "outputs": [],
   "source": [
    "# 문서별 단어의 tf를 계산하는 객체 생성\n",
    "# [참고] TfidfVectorizer()는 단어의 tf-idf를 반환\n",
    "cv = CountVectorizer()"
   ]
  },
  {
   "cell_type": "code",
   "execution_count": 34,
   "id": "887ae3dc-0ef7-427a-aa92-843425f3dfef",
   "metadata": {},
   "outputs": [
    {
     "data": {
      "text/plain": [
       "array([[0, 0, 0, ..., 0, 0, 0],\n",
       "       [0, 0, 0, ..., 0, 0, 0],\n",
       "       [0, 0, 0, ..., 0, 0, 0],\n",
       "       ...,\n",
       "       [0, 0, 0, ..., 0, 0, 0],\n",
       "       [0, 0, 0, ..., 0, 0, 0],\n",
       "       [0, 0, 0, ..., 0, 0, 0]], dtype=int64)"
      ]
     },
     "execution_count": 34,
     "metadata": {},
     "output_type": "execute_result"
    }
   ],
   "source": [
    "# 단어의 tf를 성분으로 갖는 문서-단어 행렬 생성\n",
    "dtm = cv.fit_transform(raw_documents = corpus).toarray()\n",
    "\n",
    "# dtm 확인\n",
    "# [참고] dtm은 2차원 행렬임\n",
    "dtm"
   ]
  },
  {
   "cell_type": "code",
   "execution_count": 35,
   "id": "0a19957e-0764-4632-8775-bbafef1be806",
   "metadata": {},
   "outputs": [
    {
     "data": {
      "text/plain": [
       "array(['1위비야디', '3사', '3연타', ..., '흔들리다', '희토', '히터'], dtype=object)"
      ]
     },
     "execution_count": 35,
     "metadata": {},
     "output_type": "execute_result"
    }
   ],
   "source": [
    "# cv 객체에 저장된 단어 목록 확인\n",
    "# [참고] 알파벳이 모두 소문자로 바뀌었음\n",
    "cv.get_feature_names_out()"
   ]
  },
  {
   "cell_type": "code",
   "execution_count": 36,
   "id": "2719ef69-0e40-43ad-86c3-e78f5d01faf9",
   "metadata": {},
   "outputs": [],
   "source": [
    "# dtm을 데이터프레임으로 변환\n",
    "dtm = pd.DataFrame(data = dtm, columns = cv.get_feature_names_out())"
   ]
  },
  {
   "cell_type": "code",
   "execution_count": 37,
   "id": "6fbe8b45-be24-44be-b152-51e43befd117",
   "metadata": {},
   "outputs": [],
   "source": [
    "# dtm의 열이름에서 알파벳을 대문자로 변경\n",
    "dtm.columns = dtm.columns.str.upper()"
   ]
  },
  {
   "cell_type": "code",
   "execution_count": 38,
   "id": "4a6640b5-7406-43fa-8d65-d1ac37296c64",
   "metadata": {},
   "outputs": [
    {
     "data": {
      "text/html": [
       "<div>\n",
       "<style scoped>\n",
       "    .dataframe tbody tr th:only-of-type {\n",
       "        vertical-align: middle;\n",
       "    }\n",
       "\n",
       "    .dataframe tbody tr th {\n",
       "        vertical-align: top;\n",
       "    }\n",
       "\n",
       "    .dataframe thead th {\n",
       "        text-align: right;\n",
       "    }\n",
       "</style>\n",
       "<table border=\"1\" class=\"dataframe\">\n",
       "  <thead>\n",
       "    <tr style=\"text-align: right;\">\n",
       "      <th></th>\n",
       "      <th>1위비야디</th>\n",
       "      <th>3사</th>\n",
       "      <th>3연타</th>\n",
       "      <th>KG르노차</th>\n",
       "      <th>LG이노텍</th>\n",
       "      <th>LG전자</th>\n",
       "      <th>LS머트</th>\n",
       "      <th>M피소드차</th>\n",
       "      <th>W차</th>\n",
       "      <th>가격</th>\n",
       "      <th>...</th>\n",
       "      <th>후발</th>\n",
       "      <th>후진</th>\n",
       "      <th>훈풍</th>\n",
       "      <th>휘발유</th>\n",
       "      <th>휘청이다</th>\n",
       "      <th>휴대폰</th>\n",
       "      <th>흑자</th>\n",
       "      <th>흔들리다</th>\n",
       "      <th>희토</th>\n",
       "      <th>히터</th>\n",
       "    </tr>\n",
       "  </thead>\n",
       "  <tbody>\n",
       "    <tr>\n",
       "      <th>0</th>\n",
       "      <td>0</td>\n",
       "      <td>0</td>\n",
       "      <td>0</td>\n",
       "      <td>0</td>\n",
       "      <td>0</td>\n",
       "      <td>0</td>\n",
       "      <td>0</td>\n",
       "      <td>0</td>\n",
       "      <td>0</td>\n",
       "      <td>0</td>\n",
       "      <td>...</td>\n",
       "      <td>0</td>\n",
       "      <td>0</td>\n",
       "      <td>0</td>\n",
       "      <td>0</td>\n",
       "      <td>0</td>\n",
       "      <td>0</td>\n",
       "      <td>0</td>\n",
       "      <td>0</td>\n",
       "      <td>0</td>\n",
       "      <td>0</td>\n",
       "    </tr>\n",
       "    <tr>\n",
       "      <th>1</th>\n",
       "      <td>0</td>\n",
       "      <td>0</td>\n",
       "      <td>0</td>\n",
       "      <td>0</td>\n",
       "      <td>0</td>\n",
       "      <td>0</td>\n",
       "      <td>0</td>\n",
       "      <td>0</td>\n",
       "      <td>0</td>\n",
       "      <td>0</td>\n",
       "      <td>...</td>\n",
       "      <td>0</td>\n",
       "      <td>0</td>\n",
       "      <td>0</td>\n",
       "      <td>0</td>\n",
       "      <td>0</td>\n",
       "      <td>0</td>\n",
       "      <td>0</td>\n",
       "      <td>0</td>\n",
       "      <td>0</td>\n",
       "      <td>0</td>\n",
       "    </tr>\n",
       "    <tr>\n",
       "      <th>2</th>\n",
       "      <td>0</td>\n",
       "      <td>0</td>\n",
       "      <td>0</td>\n",
       "      <td>0</td>\n",
       "      <td>0</td>\n",
       "      <td>0</td>\n",
       "      <td>0</td>\n",
       "      <td>0</td>\n",
       "      <td>0</td>\n",
       "      <td>0</td>\n",
       "      <td>...</td>\n",
       "      <td>0</td>\n",
       "      <td>0</td>\n",
       "      <td>0</td>\n",
       "      <td>0</td>\n",
       "      <td>0</td>\n",
       "      <td>0</td>\n",
       "      <td>0</td>\n",
       "      <td>0</td>\n",
       "      <td>0</td>\n",
       "      <td>0</td>\n",
       "    </tr>\n",
       "    <tr>\n",
       "      <th>3</th>\n",
       "      <td>0</td>\n",
       "      <td>0</td>\n",
       "      <td>0</td>\n",
       "      <td>0</td>\n",
       "      <td>0</td>\n",
       "      <td>0</td>\n",
       "      <td>0</td>\n",
       "      <td>0</td>\n",
       "      <td>0</td>\n",
       "      <td>0</td>\n",
       "      <td>...</td>\n",
       "      <td>0</td>\n",
       "      <td>0</td>\n",
       "      <td>0</td>\n",
       "      <td>0</td>\n",
       "      <td>0</td>\n",
       "      <td>0</td>\n",
       "      <td>0</td>\n",
       "      <td>0</td>\n",
       "      <td>0</td>\n",
       "      <td>0</td>\n",
       "    </tr>\n",
       "    <tr>\n",
       "      <th>4</th>\n",
       "      <td>0</td>\n",
       "      <td>0</td>\n",
       "      <td>0</td>\n",
       "      <td>0</td>\n",
       "      <td>0</td>\n",
       "      <td>0</td>\n",
       "      <td>0</td>\n",
       "      <td>0</td>\n",
       "      <td>0</td>\n",
       "      <td>0</td>\n",
       "      <td>...</td>\n",
       "      <td>0</td>\n",
       "      <td>0</td>\n",
       "      <td>0</td>\n",
       "      <td>0</td>\n",
       "      <td>0</td>\n",
       "      <td>0</td>\n",
       "      <td>0</td>\n",
       "      <td>0</td>\n",
       "      <td>0</td>\n",
       "      <td>0</td>\n",
       "    </tr>\n",
       "  </tbody>\n",
       "</table>\n",
       "<p>5 rows × 1599 columns</p>\n",
       "</div>"
      ],
      "text/plain": [
       "   1위비야디  3사  3연타  KG르노차  LG이노텍  LG전자  LS머트  M피소드차  W차  가격  ...  후발  후진  훈풍  \\\n",
       "0      0   0    0      0      0     0     0      0   0   0  ...   0   0   0   \n",
       "1      0   0    0      0      0     0     0      0   0   0  ...   0   0   0   \n",
       "2      0   0    0      0      0     0     0      0   0   0  ...   0   0   0   \n",
       "3      0   0    0      0      0     0     0      0   0   0  ...   0   0   0   \n",
       "4      0   0    0      0      0     0     0      0   0   0  ...   0   0   0   \n",
       "\n",
       "   휘발유  휘청이다  휴대폰  흑자  흔들리다  희토  히터  \n",
       "0    0     0    0   0     0   0   0  \n",
       "1    0     0    0   0     0   0   0  \n",
       "2    0     0    0   0     0   0   0  \n",
       "3    0     0    0   0     0   0   0  \n",
       "4    0     0    0   0     0   0   0  \n",
       "\n",
       "[5 rows x 1599 columns]"
      ]
     },
     "execution_count": 38,
     "metadata": {},
     "output_type": "execute_result"
    }
   ],
   "source": [
    "dtm.head()"
   ]
  },
  {
   "cell_type": "code",
   "execution_count": 39,
   "id": "379964bc-e625-4528-b32f-ab62a41e1392",
   "metadata": {},
   "outputs": [
    {
     "data": {
      "text/plain": [
       "(781, 1599)"
      ]
     },
     "execution_count": 39,
     "metadata": {},
     "output_type": "execute_result"
    }
   ],
   "source": [
    "dtm.shape"
   ]
  },
  {
   "cell_type": "code",
   "execution_count": 40,
   "id": "9c805aa9-37d6-4fc0-9e03-19373eb4b044",
   "metadata": {},
   "outputs": [],
   "source": [
    "tfs = dtm.sum().sort_values(ascending = False)"
   ]
  },
  {
   "cell_type": "code",
   "execution_count": 41,
   "id": "557845d5-68e9-4acc-b07b-6d7800be0eea",
   "metadata": {},
   "outputs": [
    {
     "data": {
      "text/plain": [
       "배터리    101\n",
       "보조금     94\n",
       "시장      56\n",
       "테슬라     54\n",
       "충전      52\n",
       "판매      39\n",
       "중국      38\n",
       "공장      37\n",
       "가격      34\n",
       "생산      33\n",
       "dtype: int64"
      ]
     },
     "metadata": {},
     "output_type": "display_data"
    },
    {
     "data": {
      "text/plain": [
       "석준     1\n",
       "서부     1\n",
       "상하이    1\n",
       "서류     1\n",
       "서도     1\n",
       "생활     1\n",
       "생존법    1\n",
       "생산량    1\n",
       "상황     1\n",
       "히터     1\n",
       "dtype: int64"
      ]
     },
     "metadata": {},
     "output_type": "display_data"
    }
   ],
   "source": [
    "# tfs의 상위 10개 및 하위 10개 확인\n",
    "display(tfs.head(n = 10))\n",
    "display(tfs.tail(n = 10))"
   ]
  },
  {
   "cell_type": "code",
   "execution_count": 42,
   "id": "09b53429-daef-4bdc-b7bb-2dbdade4ce6c",
   "metadata": {},
   "outputs": [],
   "source": [
    "# tfs가 20 이하인 인덱스(단어)를 dtm에서 제거\n",
    "# [참고] 단어 빈도수를 높일수록 dtm의 열(차원) 개수가 감소함\n",
    "threshold = 20\n",
    "dtm = dtm.drop(columns = tfs.loc[tfs.le(threshold)].index)"
   ]
  },
  {
   "cell_type": "code",
   "execution_count": 43,
   "id": "dbf2ac5b-7e52-4bef-b2ed-996343359135",
   "metadata": {},
   "outputs": [
    {
     "data": {
      "text/plain": [
       "(781, 22)"
      ]
     },
     "execution_count": 43,
     "metadata": {},
     "output_type": "execute_result"
    }
   ],
   "source": [
    "# dtm의 행 개수와 열 개수 확인\n",
    "# [참고] 단어 빈도수가 매우 작은 일부 단어를 삭제함으로써 차원(열) 축소 가능\n",
    "# [참고] dtm의 차원을 축소하면 행렬곱 연산을 빠르게 실행할 수 있음\n",
    "dtm.shape"
   ]
  },
  {
   "cell_type": "code",
   "execution_count": 44,
   "id": "5bbc4bc5-8aca-4cdd-b2b2-2ca2736f03db",
   "metadata": {},
   "outputs": [
    {
     "data": {
      "text/plain": [
       "'C:\\\\Users\\\\kim jeongah\\\\OneDrive\\\\Desktop\\\\DMF\\\\DBR_Project\\\\DBR_Project\\\\data'"
      ]
     },
     "execution_count": 44,
     "metadata": {},
     "output_type": "execute_result"
    }
   ],
   "source": [
    "# 현재 작업 경로 확인\n",
    "os.getcwd()"
   ]
  },
  {
   "cell_type": "code",
   "execution_count": 45,
   "id": "f770fe6a-f85d-4067-ba83-d015690e3e8b",
   "metadata": {},
   "outputs": [],
   "source": [
    "# corpus, tfs 및 dtm을 하나의 pkl 파일로 저장\n",
    "pd.to_pickle(obj = [corpus, tfs, dtm], filepath_or_buffer = '23_Prep.pkl')"
   ]
  },
  {
   "cell_type": "code",
   "execution_count": 46,
   "id": "c7986849-7520-486c-9fbc-4a389d6f6ccc",
   "metadata": {},
   "outputs": [
    {
     "data": {
      "text/plain": [
       "['22_Prep.pkl',\n",
       " '23_Prep.pkl',\n",
       " 'df22.pkl',\n",
       " 'df23.pkl',\n",
       " 'Naver_News_List.pkl',\n",
       " 'Naver_News_Reply.pkl',\n",
       " 'Text_Prep.pkl']"
      ]
     },
     "execution_count": 46,
     "metadata": {},
     "output_type": "execute_result"
    }
   ],
   "source": [
    "# 현재 작업 경로에 있는 폴더명과 파일명 확인\n",
    "os.listdir()"
   ]
  },
  {
   "cell_type": "code",
   "execution_count": 47,
   "id": "b48471f2-a640-4e48-b972-7ff257648413",
   "metadata": {},
   "outputs": [
    {
     "data": {
      "text/plain": [
       "Analysis\n",
       "부정    0.386684\n",
       "중립    0.320102\n",
       "긍정    0.293214\n",
       "Name: proportion, dtype: float64"
      ]
     },
     "execution_count": 47,
     "metadata": {},
     "output_type": "execute_result"
    }
   ],
   "source": [
    "df23['Analysis'].value_counts(normalize=True)"
   ]
  },
  {
   "cell_type": "code",
   "execution_count": 76,
   "id": "4fb5c104-1a08-4018-806a-cf65d2eeea06",
   "metadata": {},
   "outputs": [
    {
     "data": {
      "text/plain": [
       "Analysis\n",
       "중립    0.358621\n",
       "긍정    0.353103\n",
       "부정    0.288276\n",
       "Name: proportion, dtype: float64"
      ]
     },
     "execution_count": 76,
     "metadata": {},
     "output_type": "execute_result"
    }
   ],
   "source": [
    "df24['Analysis'].value_counts(normalize=True)"
   ]
  },
  {
   "cell_type": "code",
   "execution_count": 78,
   "id": "4aa830f0-9a0f-4aa0-9380-461509f121d9",
   "metadata": {},
   "outputs": [
    {
     "ename": "TypeError",
     "evalue": "cannot concatenate object of type '<class 'str'>'; only Series and DataFrame objs are valid",
     "output_type": "error",
     "traceback": [
      "\u001b[1;31m---------------------------------------------------------------------------\u001b[0m",
      "\u001b[1;31mTypeError\u001b[0m                                 Traceback (most recent call last)",
      "Cell \u001b[1;32mIn[78], line 16\u001b[0m\n\u001b[0;32m     13\u001b[0m     df \u001b[38;5;241m=\u001b[39m pd\u001b[38;5;241m.\u001b[39mread_csv(file)\n\u001b[0;32m     14\u001b[0m     dfs\u001b[38;5;241m.\u001b[39mappend(df)\n\u001b[1;32m---> 16\u001b[0m merged_df \u001b[38;5;241m=\u001b[39m \u001b[43mpd\u001b[49m\u001b[38;5;241;43m.\u001b[39;49m\u001b[43mconcat\u001b[49m\u001b[43m(\u001b[49m\u001b[43mdfs\u001b[49m\u001b[43m,\u001b[49m\u001b[43m \u001b[49m\u001b[43maxis\u001b[49m\u001b[38;5;241;43m=\u001b[39;49m\u001b[38;5;241;43m0\u001b[39;49m\u001b[43m,\u001b[49m\u001b[43m \u001b[49m\u001b[43mignore_index\u001b[49m\u001b[38;5;241;43m=\u001b[39;49m\u001b[38;5;28;43;01mTrue\u001b[39;49;00m\u001b[43m)\u001b[49m\n",
      "File \u001b[1;32m~\\OneDrive\\Desktop\\DMF\\DBR_Project\\DBR_Project\\code\\venv\\Lib\\site-packages\\pandas\\core\\reshape\\concat.py:382\u001b[0m, in \u001b[0;36mconcat\u001b[1;34m(objs, axis, join, ignore_index, keys, levels, names, verify_integrity, sort, copy)\u001b[0m\n\u001b[0;32m    379\u001b[0m \u001b[38;5;28;01melif\u001b[39;00m copy \u001b[38;5;129;01mand\u001b[39;00m using_copy_on_write():\n\u001b[0;32m    380\u001b[0m     copy \u001b[38;5;241m=\u001b[39m \u001b[38;5;28;01mFalse\u001b[39;00m\n\u001b[1;32m--> 382\u001b[0m op \u001b[38;5;241m=\u001b[39m \u001b[43m_Concatenator\u001b[49m\u001b[43m(\u001b[49m\n\u001b[0;32m    383\u001b[0m \u001b[43m    \u001b[49m\u001b[43mobjs\u001b[49m\u001b[43m,\u001b[49m\n\u001b[0;32m    384\u001b[0m \u001b[43m    \u001b[49m\u001b[43maxis\u001b[49m\u001b[38;5;241;43m=\u001b[39;49m\u001b[43maxis\u001b[49m\u001b[43m,\u001b[49m\n\u001b[0;32m    385\u001b[0m \u001b[43m    \u001b[49m\u001b[43mignore_index\u001b[49m\u001b[38;5;241;43m=\u001b[39;49m\u001b[43mignore_index\u001b[49m\u001b[43m,\u001b[49m\n\u001b[0;32m    386\u001b[0m \u001b[43m    \u001b[49m\u001b[43mjoin\u001b[49m\u001b[38;5;241;43m=\u001b[39;49m\u001b[43mjoin\u001b[49m\u001b[43m,\u001b[49m\n\u001b[0;32m    387\u001b[0m \u001b[43m    \u001b[49m\u001b[43mkeys\u001b[49m\u001b[38;5;241;43m=\u001b[39;49m\u001b[43mkeys\u001b[49m\u001b[43m,\u001b[49m\n\u001b[0;32m    388\u001b[0m \u001b[43m    \u001b[49m\u001b[43mlevels\u001b[49m\u001b[38;5;241;43m=\u001b[39;49m\u001b[43mlevels\u001b[49m\u001b[43m,\u001b[49m\n\u001b[0;32m    389\u001b[0m \u001b[43m    \u001b[49m\u001b[43mnames\u001b[49m\u001b[38;5;241;43m=\u001b[39;49m\u001b[43mnames\u001b[49m\u001b[43m,\u001b[49m\n\u001b[0;32m    390\u001b[0m \u001b[43m    \u001b[49m\u001b[43mverify_integrity\u001b[49m\u001b[38;5;241;43m=\u001b[39;49m\u001b[43mverify_integrity\u001b[49m\u001b[43m,\u001b[49m\n\u001b[0;32m    391\u001b[0m \u001b[43m    \u001b[49m\u001b[43mcopy\u001b[49m\u001b[38;5;241;43m=\u001b[39;49m\u001b[43mcopy\u001b[49m\u001b[43m,\u001b[49m\n\u001b[0;32m    392\u001b[0m \u001b[43m    \u001b[49m\u001b[43msort\u001b[49m\u001b[38;5;241;43m=\u001b[39;49m\u001b[43msort\u001b[49m\u001b[43m,\u001b[49m\n\u001b[0;32m    393\u001b[0m \u001b[43m\u001b[49m\u001b[43m)\u001b[49m\n\u001b[0;32m    395\u001b[0m \u001b[38;5;28;01mreturn\u001b[39;00m op\u001b[38;5;241m.\u001b[39mget_result()\n",
      "File \u001b[1;32m~\\OneDrive\\Desktop\\DMF\\DBR_Project\\DBR_Project\\code\\venv\\Lib\\site-packages\\pandas\\core\\reshape\\concat.py:448\u001b[0m, in \u001b[0;36m_Concatenator.__init__\u001b[1;34m(self, objs, axis, join, keys, levels, names, ignore_index, verify_integrity, copy, sort)\u001b[0m\n\u001b[0;32m    445\u001b[0m objs, keys \u001b[38;5;241m=\u001b[39m \u001b[38;5;28mself\u001b[39m\u001b[38;5;241m.\u001b[39m_clean_keys_and_objs(objs, keys)\n\u001b[0;32m    447\u001b[0m \u001b[38;5;66;03m# figure out what our result ndim is going to be\u001b[39;00m\n\u001b[1;32m--> 448\u001b[0m ndims \u001b[38;5;241m=\u001b[39m \u001b[38;5;28;43mself\u001b[39;49m\u001b[38;5;241;43m.\u001b[39;49m\u001b[43m_get_ndims\u001b[49m\u001b[43m(\u001b[49m\u001b[43mobjs\u001b[49m\u001b[43m)\u001b[49m\n\u001b[0;32m    449\u001b[0m sample, objs \u001b[38;5;241m=\u001b[39m \u001b[38;5;28mself\u001b[39m\u001b[38;5;241m.\u001b[39m_get_sample_object(objs, ndims, keys, names, levels)\n\u001b[0;32m    451\u001b[0m \u001b[38;5;66;03m# Standardize axis parameter to int\u001b[39;00m\n",
      "File \u001b[1;32m~\\OneDrive\\Desktop\\DMF\\DBR_Project\\DBR_Project\\code\\venv\\Lib\\site-packages\\pandas\\core\\reshape\\concat.py:489\u001b[0m, in \u001b[0;36m_Concatenator._get_ndims\u001b[1;34m(self, objs)\u001b[0m\n\u001b[0;32m    484\u001b[0m     \u001b[38;5;28;01mif\u001b[39;00m \u001b[38;5;129;01mnot\u001b[39;00m \u001b[38;5;28misinstance\u001b[39m(obj, (ABCSeries, ABCDataFrame)):\n\u001b[0;32m    485\u001b[0m         msg \u001b[38;5;241m=\u001b[39m (\n\u001b[0;32m    486\u001b[0m             \u001b[38;5;124mf\u001b[39m\u001b[38;5;124m\"\u001b[39m\u001b[38;5;124mcannot concatenate object of type \u001b[39m\u001b[38;5;124m'\u001b[39m\u001b[38;5;132;01m{\u001b[39;00m\u001b[38;5;28mtype\u001b[39m(obj)\u001b[38;5;132;01m}\u001b[39;00m\u001b[38;5;124m'\u001b[39m\u001b[38;5;124m; \u001b[39m\u001b[38;5;124m\"\u001b[39m\n\u001b[0;32m    487\u001b[0m             \u001b[38;5;124m\"\u001b[39m\u001b[38;5;124monly Series and DataFrame objs are valid\u001b[39m\u001b[38;5;124m\"\u001b[39m\n\u001b[0;32m    488\u001b[0m         )\n\u001b[1;32m--> 489\u001b[0m         \u001b[38;5;28;01mraise\u001b[39;00m \u001b[38;5;167;01mTypeError\u001b[39;00m(msg)\n\u001b[0;32m    491\u001b[0m     ndims\u001b[38;5;241m.\u001b[39madd(obj\u001b[38;5;241m.\u001b[39mndim)\n\u001b[0;32m    492\u001b[0m \u001b[38;5;28;01mreturn\u001b[39;00m ndims\n",
      "\u001b[1;31mTypeError\u001b[0m: cannot concatenate object of type '<class 'str'>'; only Series and DataFrame objs are valid"
     ]
    }
   ],
   "source": [
    "csv_files = [\n",
    "]\n",
    "\n",
    "dfs = [\n",
    "    '/data/2020_log.csv',\n",
    "    '/data/2021_log.csv',\n",
    "    '/data/2022_log.csv',\n",
    "    '/data/2023_log.csv',\n",
    "    '/data/2024_log.csv',\n",
    "]\n",
    "\n",
    "for i, file in enumerate(csv_files):\n",
    "    df = pd.read_csv(file)\n",
    "    dfs.append(df)\n",
    "\n",
    "merged_df = pd.concat(dfs, axis=0, ignore_index=True)"
   ]
  },
  {
   "cell_type": "code",
   "execution_count": null,
   "id": "1e28ff37-c67b-4b07-aa57-6549de3f3485",
   "metadata": {},
   "outputs": [],
   "source": []
  }
 ],
 "metadata": {
  "kernelspec": {
   "display_name": "Python 3 (ipykernel)",
   "language": "python",
   "name": "python3"
  },
  "language_info": {
   "codemirror_mode": {
    "name": "ipython",
    "version": 3
   },
   "file_extension": ".py",
   "mimetype": "text/x-python",
   "name": "python",
   "nbconvert_exporter": "python",
   "pygments_lexer": "ipython3",
   "version": "3.12.4"
  }
 },
 "nbformat": 4,
 "nbformat_minor": 5
}
