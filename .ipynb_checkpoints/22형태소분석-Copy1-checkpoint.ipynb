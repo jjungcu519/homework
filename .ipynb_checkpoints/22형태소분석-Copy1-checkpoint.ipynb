{
 "cells": [
  {
   "cell_type": "markdown",
   "id": "2c145e7e-d054-43ff-abfb-af0fe6d51f14",
   "metadata": {},
   "source": [
    "# 0. 환경설정"
   ]
  },
  {
   "cell_type": "code",
   "execution_count": 1,
   "id": "9654e6bf-550b-4d78-b3e1-80d6b00d1f71",
   "metadata": {},
   "outputs": [],
   "source": [
    "import os\n",
    "import pandas as pd\n",
    "import numpy as np\n",
    "\n",
    "import requests\n",
    "from bs4 import BeautifulSoup as bts\n",
    "import json\n",
    "import re\n",
    "import time\n",
    "from tqdm.notebook import tqdm\n",
    "\n",
    "from kiwipiepy import Kiwi\n",
    "from kiwipiepy.utils import Stopwords\n",
    "from sklearn.feature_extraction.text import CountVectorizer\n",
    "from sklearn.feature_extraction.text import TfidfVectorizer"
   ]
  },
  {
   "cell_type": "code",
   "execution_count": 2,
   "id": "0ad24cf6-f2c1-44fe-9cc8-d2ffd8e9a038",
   "metadata": {},
   "outputs": [
    {
     "data": {
      "text/plain": [
       "['.DS_Store',\n",
       " '.gitignore',\n",
       " '.ipynb_checkpoints',\n",
       " '00_Library_Installation.ipynb',\n",
       " '22시각화-Copy1.ipynb',\n",
       " '22시각화.ipynb',\n",
       " '22형태소분석-Copy1.ipynb',\n",
       " '22형태소분석.ipynb',\n",
       " 'A1_Naver_News_Link_Func.ipynb',\n",
       " 'A2_Naver_News_Body_Func.ipynb',\n",
       " 'A3_Naver_News_Reply_Func.ipynb',\n",
       " 'B1_Text_Mining.ipynb',\n",
       " 'B2_Visualization.ipynb',\n",
       " 'B3_Topic_Modeling.ipynb',\n",
       " 'data',\n",
       " 'df22.pkl',\n",
       " 'df23.pkl',\n",
       " 'venv']"
      ]
     },
     "execution_count": 2,
     "metadata": {},
     "output_type": "execute_result"
    }
   ],
   "source": [
    "os.listdir()"
   ]
  },
  {
   "cell_type": "code",
   "execution_count": 48,
   "id": "9bf31a43-b1f2-414a-9610-3222035eb01d",
   "metadata": {},
   "outputs": [
    {
     "ename": "FileNotFoundError",
     "evalue": "[Errno 2] No such file or directory: 'data/2023_log.csv'",
     "output_type": "error",
     "traceback": [
      "\u001b[1;31m---------------------------------------------------------------------------\u001b[0m",
      "\u001b[1;31mFileNotFoundError\u001b[0m                         Traceback (most recent call last)",
      "Cell \u001b[1;32mIn[48], line 1\u001b[0m\n\u001b[1;32m----> 1\u001b[0m df23 \u001b[38;5;241m=\u001b[39m \u001b[43mpd\u001b[49m\u001b[38;5;241;43m.\u001b[39;49m\u001b[43mread_csv\u001b[49m\u001b[43m(\u001b[49m\u001b[38;5;124;43m'\u001b[39;49m\u001b[38;5;124;43mdata/2023_log.csv\u001b[39;49m\u001b[38;5;124;43m'\u001b[39;49m\u001b[43m)\u001b[49m\n\u001b[0;32m      2\u001b[0m df24 \u001b[38;5;241m=\u001b[39m pd\u001b[38;5;241m.\u001b[39mread_csv(\u001b[38;5;124m'\u001b[39m\u001b[38;5;124mdata/2024_log.csv\u001b[39m\u001b[38;5;124m'\u001b[39m)\n",
      "File \u001b[1;32m~\\OneDrive\\Desktop\\DMF\\DBR_Project\\DBR_Project\\code\\venv\\Lib\\site-packages\\pandas\\io\\parsers\\readers.py:1026\u001b[0m, in \u001b[0;36mread_csv\u001b[1;34m(filepath_or_buffer, sep, delimiter, header, names, index_col, usecols, dtype, engine, converters, true_values, false_values, skipinitialspace, skiprows, skipfooter, nrows, na_values, keep_default_na, na_filter, verbose, skip_blank_lines, parse_dates, infer_datetime_format, keep_date_col, date_parser, date_format, dayfirst, cache_dates, iterator, chunksize, compression, thousands, decimal, lineterminator, quotechar, quoting, doublequote, escapechar, comment, encoding, encoding_errors, dialect, on_bad_lines, delim_whitespace, low_memory, memory_map, float_precision, storage_options, dtype_backend)\u001b[0m\n\u001b[0;32m   1013\u001b[0m kwds_defaults \u001b[38;5;241m=\u001b[39m _refine_defaults_read(\n\u001b[0;32m   1014\u001b[0m     dialect,\n\u001b[0;32m   1015\u001b[0m     delimiter,\n\u001b[1;32m   (...)\u001b[0m\n\u001b[0;32m   1022\u001b[0m     dtype_backend\u001b[38;5;241m=\u001b[39mdtype_backend,\n\u001b[0;32m   1023\u001b[0m )\n\u001b[0;32m   1024\u001b[0m kwds\u001b[38;5;241m.\u001b[39mupdate(kwds_defaults)\n\u001b[1;32m-> 1026\u001b[0m \u001b[38;5;28;01mreturn\u001b[39;00m \u001b[43m_read\u001b[49m\u001b[43m(\u001b[49m\u001b[43mfilepath_or_buffer\u001b[49m\u001b[43m,\u001b[49m\u001b[43m \u001b[49m\u001b[43mkwds\u001b[49m\u001b[43m)\u001b[49m\n",
      "File \u001b[1;32m~\\OneDrive\\Desktop\\DMF\\DBR_Project\\DBR_Project\\code\\venv\\Lib\\site-packages\\pandas\\io\\parsers\\readers.py:620\u001b[0m, in \u001b[0;36m_read\u001b[1;34m(filepath_or_buffer, kwds)\u001b[0m\n\u001b[0;32m    617\u001b[0m _validate_names(kwds\u001b[38;5;241m.\u001b[39mget(\u001b[38;5;124m\"\u001b[39m\u001b[38;5;124mnames\u001b[39m\u001b[38;5;124m\"\u001b[39m, \u001b[38;5;28;01mNone\u001b[39;00m))\n\u001b[0;32m    619\u001b[0m \u001b[38;5;66;03m# Create the parser.\u001b[39;00m\n\u001b[1;32m--> 620\u001b[0m parser \u001b[38;5;241m=\u001b[39m \u001b[43mTextFileReader\u001b[49m\u001b[43m(\u001b[49m\u001b[43mfilepath_or_buffer\u001b[49m\u001b[43m,\u001b[49m\u001b[43m \u001b[49m\u001b[38;5;241;43m*\u001b[39;49m\u001b[38;5;241;43m*\u001b[39;49m\u001b[43mkwds\u001b[49m\u001b[43m)\u001b[49m\n\u001b[0;32m    622\u001b[0m \u001b[38;5;28;01mif\u001b[39;00m chunksize \u001b[38;5;129;01mor\u001b[39;00m iterator:\n\u001b[0;32m    623\u001b[0m     \u001b[38;5;28;01mreturn\u001b[39;00m parser\n",
      "File \u001b[1;32m~\\OneDrive\\Desktop\\DMF\\DBR_Project\\DBR_Project\\code\\venv\\Lib\\site-packages\\pandas\\io\\parsers\\readers.py:1620\u001b[0m, in \u001b[0;36mTextFileReader.__init__\u001b[1;34m(self, f, engine, **kwds)\u001b[0m\n\u001b[0;32m   1617\u001b[0m     \u001b[38;5;28mself\u001b[39m\u001b[38;5;241m.\u001b[39moptions[\u001b[38;5;124m\"\u001b[39m\u001b[38;5;124mhas_index_names\u001b[39m\u001b[38;5;124m\"\u001b[39m] \u001b[38;5;241m=\u001b[39m kwds[\u001b[38;5;124m\"\u001b[39m\u001b[38;5;124mhas_index_names\u001b[39m\u001b[38;5;124m\"\u001b[39m]\n\u001b[0;32m   1619\u001b[0m \u001b[38;5;28mself\u001b[39m\u001b[38;5;241m.\u001b[39mhandles: IOHandles \u001b[38;5;241m|\u001b[39m \u001b[38;5;28;01mNone\u001b[39;00m \u001b[38;5;241m=\u001b[39m \u001b[38;5;28;01mNone\u001b[39;00m\n\u001b[1;32m-> 1620\u001b[0m \u001b[38;5;28mself\u001b[39m\u001b[38;5;241m.\u001b[39m_engine \u001b[38;5;241m=\u001b[39m \u001b[38;5;28;43mself\u001b[39;49m\u001b[38;5;241;43m.\u001b[39;49m\u001b[43m_make_engine\u001b[49m\u001b[43m(\u001b[49m\u001b[43mf\u001b[49m\u001b[43m,\u001b[49m\u001b[43m \u001b[49m\u001b[38;5;28;43mself\u001b[39;49m\u001b[38;5;241;43m.\u001b[39;49m\u001b[43mengine\u001b[49m\u001b[43m)\u001b[49m\n",
      "File \u001b[1;32m~\\OneDrive\\Desktop\\DMF\\DBR_Project\\DBR_Project\\code\\venv\\Lib\\site-packages\\pandas\\io\\parsers\\readers.py:1880\u001b[0m, in \u001b[0;36mTextFileReader._make_engine\u001b[1;34m(self, f, engine)\u001b[0m\n\u001b[0;32m   1878\u001b[0m     \u001b[38;5;28;01mif\u001b[39;00m \u001b[38;5;124m\"\u001b[39m\u001b[38;5;124mb\u001b[39m\u001b[38;5;124m\"\u001b[39m \u001b[38;5;129;01mnot\u001b[39;00m \u001b[38;5;129;01min\u001b[39;00m mode:\n\u001b[0;32m   1879\u001b[0m         mode \u001b[38;5;241m+\u001b[39m\u001b[38;5;241m=\u001b[39m \u001b[38;5;124m\"\u001b[39m\u001b[38;5;124mb\u001b[39m\u001b[38;5;124m\"\u001b[39m\n\u001b[1;32m-> 1880\u001b[0m \u001b[38;5;28mself\u001b[39m\u001b[38;5;241m.\u001b[39mhandles \u001b[38;5;241m=\u001b[39m \u001b[43mget_handle\u001b[49m\u001b[43m(\u001b[49m\n\u001b[0;32m   1881\u001b[0m \u001b[43m    \u001b[49m\u001b[43mf\u001b[49m\u001b[43m,\u001b[49m\n\u001b[0;32m   1882\u001b[0m \u001b[43m    \u001b[49m\u001b[43mmode\u001b[49m\u001b[43m,\u001b[49m\n\u001b[0;32m   1883\u001b[0m \u001b[43m    \u001b[49m\u001b[43mencoding\u001b[49m\u001b[38;5;241;43m=\u001b[39;49m\u001b[38;5;28;43mself\u001b[39;49m\u001b[38;5;241;43m.\u001b[39;49m\u001b[43moptions\u001b[49m\u001b[38;5;241;43m.\u001b[39;49m\u001b[43mget\u001b[49m\u001b[43m(\u001b[49m\u001b[38;5;124;43m\"\u001b[39;49m\u001b[38;5;124;43mencoding\u001b[39;49m\u001b[38;5;124;43m\"\u001b[39;49m\u001b[43m,\u001b[49m\u001b[43m \u001b[49m\u001b[38;5;28;43;01mNone\u001b[39;49;00m\u001b[43m)\u001b[49m\u001b[43m,\u001b[49m\n\u001b[0;32m   1884\u001b[0m \u001b[43m    \u001b[49m\u001b[43mcompression\u001b[49m\u001b[38;5;241;43m=\u001b[39;49m\u001b[38;5;28;43mself\u001b[39;49m\u001b[38;5;241;43m.\u001b[39;49m\u001b[43moptions\u001b[49m\u001b[38;5;241;43m.\u001b[39;49m\u001b[43mget\u001b[49m\u001b[43m(\u001b[49m\u001b[38;5;124;43m\"\u001b[39;49m\u001b[38;5;124;43mcompression\u001b[39;49m\u001b[38;5;124;43m\"\u001b[39;49m\u001b[43m,\u001b[49m\u001b[43m \u001b[49m\u001b[38;5;28;43;01mNone\u001b[39;49;00m\u001b[43m)\u001b[49m\u001b[43m,\u001b[49m\n\u001b[0;32m   1885\u001b[0m \u001b[43m    \u001b[49m\u001b[43mmemory_map\u001b[49m\u001b[38;5;241;43m=\u001b[39;49m\u001b[38;5;28;43mself\u001b[39;49m\u001b[38;5;241;43m.\u001b[39;49m\u001b[43moptions\u001b[49m\u001b[38;5;241;43m.\u001b[39;49m\u001b[43mget\u001b[49m\u001b[43m(\u001b[49m\u001b[38;5;124;43m\"\u001b[39;49m\u001b[38;5;124;43mmemory_map\u001b[39;49m\u001b[38;5;124;43m\"\u001b[39;49m\u001b[43m,\u001b[49m\u001b[43m \u001b[49m\u001b[38;5;28;43;01mFalse\u001b[39;49;00m\u001b[43m)\u001b[49m\u001b[43m,\u001b[49m\n\u001b[0;32m   1886\u001b[0m \u001b[43m    \u001b[49m\u001b[43mis_text\u001b[49m\u001b[38;5;241;43m=\u001b[39;49m\u001b[43mis_text\u001b[49m\u001b[43m,\u001b[49m\n\u001b[0;32m   1887\u001b[0m \u001b[43m    \u001b[49m\u001b[43merrors\u001b[49m\u001b[38;5;241;43m=\u001b[39;49m\u001b[38;5;28;43mself\u001b[39;49m\u001b[38;5;241;43m.\u001b[39;49m\u001b[43moptions\u001b[49m\u001b[38;5;241;43m.\u001b[39;49m\u001b[43mget\u001b[49m\u001b[43m(\u001b[49m\u001b[38;5;124;43m\"\u001b[39;49m\u001b[38;5;124;43mencoding_errors\u001b[39;49m\u001b[38;5;124;43m\"\u001b[39;49m\u001b[43m,\u001b[49m\u001b[43m \u001b[49m\u001b[38;5;124;43m\"\u001b[39;49m\u001b[38;5;124;43mstrict\u001b[39;49m\u001b[38;5;124;43m\"\u001b[39;49m\u001b[43m)\u001b[49m\u001b[43m,\u001b[49m\n\u001b[0;32m   1888\u001b[0m \u001b[43m    \u001b[49m\u001b[43mstorage_options\u001b[49m\u001b[38;5;241;43m=\u001b[39;49m\u001b[38;5;28;43mself\u001b[39;49m\u001b[38;5;241;43m.\u001b[39;49m\u001b[43moptions\u001b[49m\u001b[38;5;241;43m.\u001b[39;49m\u001b[43mget\u001b[49m\u001b[43m(\u001b[49m\u001b[38;5;124;43m\"\u001b[39;49m\u001b[38;5;124;43mstorage_options\u001b[39;49m\u001b[38;5;124;43m\"\u001b[39;49m\u001b[43m,\u001b[49m\u001b[43m \u001b[49m\u001b[38;5;28;43;01mNone\u001b[39;49;00m\u001b[43m)\u001b[49m\u001b[43m,\u001b[49m\n\u001b[0;32m   1889\u001b[0m \u001b[43m\u001b[49m\u001b[43m)\u001b[49m\n\u001b[0;32m   1890\u001b[0m \u001b[38;5;28;01massert\u001b[39;00m \u001b[38;5;28mself\u001b[39m\u001b[38;5;241m.\u001b[39mhandles \u001b[38;5;129;01mis\u001b[39;00m \u001b[38;5;129;01mnot\u001b[39;00m \u001b[38;5;28;01mNone\u001b[39;00m\n\u001b[0;32m   1891\u001b[0m f \u001b[38;5;241m=\u001b[39m \u001b[38;5;28mself\u001b[39m\u001b[38;5;241m.\u001b[39mhandles\u001b[38;5;241m.\u001b[39mhandle\n",
      "File \u001b[1;32m~\\OneDrive\\Desktop\\DMF\\DBR_Project\\DBR_Project\\code\\venv\\Lib\\site-packages\\pandas\\io\\common.py:873\u001b[0m, in \u001b[0;36mget_handle\u001b[1;34m(path_or_buf, mode, encoding, compression, memory_map, is_text, errors, storage_options)\u001b[0m\n\u001b[0;32m    868\u001b[0m \u001b[38;5;28;01melif\u001b[39;00m \u001b[38;5;28misinstance\u001b[39m(handle, \u001b[38;5;28mstr\u001b[39m):\n\u001b[0;32m    869\u001b[0m     \u001b[38;5;66;03m# Check whether the filename is to be opened in binary mode.\u001b[39;00m\n\u001b[0;32m    870\u001b[0m     \u001b[38;5;66;03m# Binary mode does not support 'encoding' and 'newline'.\u001b[39;00m\n\u001b[0;32m    871\u001b[0m     \u001b[38;5;28;01mif\u001b[39;00m ioargs\u001b[38;5;241m.\u001b[39mencoding \u001b[38;5;129;01mand\u001b[39;00m \u001b[38;5;124m\"\u001b[39m\u001b[38;5;124mb\u001b[39m\u001b[38;5;124m\"\u001b[39m \u001b[38;5;129;01mnot\u001b[39;00m \u001b[38;5;129;01min\u001b[39;00m ioargs\u001b[38;5;241m.\u001b[39mmode:\n\u001b[0;32m    872\u001b[0m         \u001b[38;5;66;03m# Encoding\u001b[39;00m\n\u001b[1;32m--> 873\u001b[0m         handle \u001b[38;5;241m=\u001b[39m \u001b[38;5;28;43mopen\u001b[39;49m\u001b[43m(\u001b[49m\n\u001b[0;32m    874\u001b[0m \u001b[43m            \u001b[49m\u001b[43mhandle\u001b[49m\u001b[43m,\u001b[49m\n\u001b[0;32m    875\u001b[0m \u001b[43m            \u001b[49m\u001b[43mioargs\u001b[49m\u001b[38;5;241;43m.\u001b[39;49m\u001b[43mmode\u001b[49m\u001b[43m,\u001b[49m\n\u001b[0;32m    876\u001b[0m \u001b[43m            \u001b[49m\u001b[43mencoding\u001b[49m\u001b[38;5;241;43m=\u001b[39;49m\u001b[43mioargs\u001b[49m\u001b[38;5;241;43m.\u001b[39;49m\u001b[43mencoding\u001b[49m\u001b[43m,\u001b[49m\n\u001b[0;32m    877\u001b[0m \u001b[43m            \u001b[49m\u001b[43merrors\u001b[49m\u001b[38;5;241;43m=\u001b[39;49m\u001b[43merrors\u001b[49m\u001b[43m,\u001b[49m\n\u001b[0;32m    878\u001b[0m \u001b[43m            \u001b[49m\u001b[43mnewline\u001b[49m\u001b[38;5;241;43m=\u001b[39;49m\u001b[38;5;124;43m\"\u001b[39;49m\u001b[38;5;124;43m\"\u001b[39;49m\u001b[43m,\u001b[49m\n\u001b[0;32m    879\u001b[0m \u001b[43m        \u001b[49m\u001b[43m)\u001b[49m\n\u001b[0;32m    880\u001b[0m     \u001b[38;5;28;01melse\u001b[39;00m:\n\u001b[0;32m    881\u001b[0m         \u001b[38;5;66;03m# Binary mode\u001b[39;00m\n\u001b[0;32m    882\u001b[0m         handle \u001b[38;5;241m=\u001b[39m \u001b[38;5;28mopen\u001b[39m(handle, ioargs\u001b[38;5;241m.\u001b[39mmode)\n",
      "\u001b[1;31mFileNotFoundError\u001b[0m: [Errno 2] No such file or directory: 'data/2023_log.csv'"
     ]
    }
   ],
   "source": [
    "df23 = pd.read_csv('data/2023_log.csv')\n",
    "df24 = pd.read_csv('data/2024_log.csv')"
   ]
  },
  {
   "cell_type": "code",
   "execution_count": 4,
   "id": "dc3f1bf3-3e89-4949-b2bc-39258bcd1110",
   "metadata": {},
   "outputs": [
    {
     "data": {
      "text/html": [
       "<div>\n",
       "<style scoped>\n",
       "    .dataframe tbody tr th:only-of-type {\n",
       "        vertical-align: middle;\n",
       "    }\n",
       "\n",
       "    .dataframe tbody tr th {\n",
       "        vertical-align: top;\n",
       "    }\n",
       "\n",
       "    .dataframe thead th {\n",
       "        text-align: right;\n",
       "    }\n",
       "</style>\n",
       "<table border=\"1\" class=\"dataframe\">\n",
       "  <thead>\n",
       "    <tr style=\"text-align: right;\">\n",
       "      <th></th>\n",
       "      <th>Press</th>\n",
       "      <th>Headline</th>\n",
       "      <th>Analysis</th>\n",
       "    </tr>\n",
       "  </thead>\n",
       "  <tbody>\n",
       "    <tr>\n",
       "      <th>0</th>\n",
       "      <td>연합뉴스</td>\n",
       "      <td>'내년 첫 전기차 출시' 中샤오미 \"테슬라 따라잡을 준비됐다\"</td>\n",
       "      <td>긍정</td>\n",
       "    </tr>\n",
       "    <tr>\n",
       "      <th>1</th>\n",
       "      <td>YTN</td>\n",
       "      <td>'자국 우선주의' 허들 만난 '전기차', 묘수는?</td>\n",
       "      <td>중립</td>\n",
       "    </tr>\n",
       "    <tr>\n",
       "      <th>2</th>\n",
       "      <td>연합뉴스</td>\n",
       "      <td>애플 따라하던 中 샤오미, 전기차는 먼저 치고나가</td>\n",
       "      <td>긍정</td>\n",
       "    </tr>\n",
       "    <tr>\n",
       "      <th>3</th>\n",
       "      <td>연합뉴스</td>\n",
       "      <td>美 전기차 전환, 정부 지원에도 수요 감소로 기대보다 느려</td>\n",
       "      <td>부정</td>\n",
       "    </tr>\n",
       "    <tr>\n",
       "      <th>4</th>\n",
       "      <td>매일경제</td>\n",
       "      <td>주춤한 전기차 … 내년 보급형 몰려온다</td>\n",
       "      <td>중립</td>\n",
       "    </tr>\n",
       "  </tbody>\n",
       "</table>\n",
       "</div>"
      ],
      "text/plain": [
       "  Press                            Headline Analysis\n",
       "0  연합뉴스  '내년 첫 전기차 출시' 中샤오미 \"테슬라 따라잡을 준비됐다\"       긍정\n",
       "1   YTN         '자국 우선주의' 허들 만난 '전기차', 묘수는?       중립\n",
       "2  연합뉴스         애플 따라하던 中 샤오미, 전기차는 먼저 치고나가       긍정\n",
       "3  연합뉴스    美 전기차 전환, 정부 지원에도 수요 감소로 기대보다 느려       부정\n",
       "4  매일경제               주춤한 전기차 … 내년 보급형 몰려온다       중립"
      ]
     },
     "execution_count": 4,
     "metadata": {},
     "output_type": "execute_result"
    }
   ],
   "source": [
    "df23.head()"
   ]
  },
  {
   "cell_type": "code",
   "execution_count": 5,
   "id": "297d7471-8d9a-4549-a05b-260ef5b93636",
   "metadata": {},
   "outputs": [],
   "source": [
    "df23['Headline'] = df23['Headline'].str.replace(pat = '<.+?>', repl = '', regex = True)"
   ]
  },
  {
   "cell_type": "code",
   "execution_count": 6,
   "id": "493d74ca-2d73-4307-83b4-2cb763028d8e",
   "metadata": {},
   "outputs": [
    {
     "data": {
      "text/plain": [
       "0    '내년 첫 전기차 출시' 中샤오미 \"테슬라 따라잡을 준비됐다\"\n",
       "1           '자국 우선주의' 허들 만난 '전기차', 묘수는?\n",
       "2           애플 따라하던 中 샤오미, 전기차는 먼저 치고나가\n",
       "3      美 전기차 전환, 정부 지원에도 수요 감소로 기대보다 느려\n",
       "4                 주춤한 전기차 … 내년 보급형 몰려온다\n",
       "Name: Headline, dtype: object"
      ]
     },
     "execution_count": 6,
     "metadata": {},
     "output_type": "execute_result"
    }
   ],
   "source": [
    "df23['Headline'].head()"
   ]
  },
  {
   "cell_type": "code",
   "execution_count": 7,
   "id": "d4445e02-c7cd-4222-b488-ceb3a0639010",
   "metadata": {},
   "outputs": [
    {
     "data": {
      "text/plain": [
       "'C:\\\\Users\\\\kim jeongah\\\\OneDrive\\\\Desktop\\\\DMF\\\\DBR_Project\\\\DBR_Project\\\\code'"
      ]
     },
     "execution_count": 7,
     "metadata": {},
     "output_type": "execute_result"
    }
   ],
   "source": [
    "os.getcwd()"
   ]
  },
  {
   "cell_type": "code",
   "execution_count": 8,
   "id": "b28a48e6-490e-482c-915f-ab5bad3f5641",
   "metadata": {},
   "outputs": [],
   "source": [
    "pd.to_pickle(obj = df23, filepath_or_buffer = 'df23.pkl')"
   ]
  },
  {
   "cell_type": "code",
   "execution_count": 9,
   "id": "296af813-cacf-46ba-8145-80898a266a99",
   "metadata": {},
   "outputs": [
    {
     "data": {
      "text/plain": [
       "['.DS_Store',\n",
       " '.gitignore',\n",
       " '.ipynb_checkpoints',\n",
       " '00_Library_Installation.ipynb',\n",
       " '22시각화-Copy1.ipynb',\n",
       " '22시각화.ipynb',\n",
       " '22형태소분석-Copy1.ipynb',\n",
       " '22형태소분석.ipynb',\n",
       " 'A1_Naver_News_Link_Func.ipynb',\n",
       " 'A2_Naver_News_Body_Func.ipynb',\n",
       " 'A3_Naver_News_Reply_Func.ipynb',\n",
       " 'B1_Text_Mining.ipynb',\n",
       " 'B2_Visualization.ipynb',\n",
       " 'B3_Topic_Modeling.ipynb',\n",
       " 'data',\n",
       " 'df22.pkl',\n",
       " 'df23.pkl',\n",
       " 'venv']"
      ]
     },
     "execution_count": 9,
     "metadata": {},
     "output_type": "execute_result"
    }
   ],
   "source": [
    "os.listdir()"
   ]
  },
  {
   "cell_type": "code",
   "execution_count": 10,
   "id": "1016d00b-fa8a-449f-88ae-2f7600e8cab2",
   "metadata": {},
   "outputs": [],
   "source": [
    "os.chdir(path = '../data')"
   ]
  },
  {
   "cell_type": "code",
   "execution_count": 11,
   "id": "efa9cc6a-7189-4d38-820f-00486a0f3243",
   "metadata": {},
   "outputs": [
    {
     "data": {
      "text/plain": [
       "['22_Prep.pkl',\n",
       " '23_Prep.pkl',\n",
       " 'Naver_News_List.pkl',\n",
       " 'Naver_News_Reply.pkl',\n",
       " 'Text_Prep.pkl',\n",
       " 'df22.pkl',\n",
       " 'df23.pkl']"
      ]
     },
     "execution_count": 11,
     "metadata": {},
     "output_type": "execute_result"
    }
   ],
   "source": [
    "sorted(os.listdir())"
   ]
  },
  {
   "cell_type": "code",
   "execution_count": 12,
   "id": "095e0e3f-5ad0-46a9-8641-ea679c839163",
   "metadata": {},
   "outputs": [],
   "source": [
    "df23 = pd.read_pickle(filepath_or_buffer = 'df23.pkl')"
   ]
  },
  {
   "cell_type": "code",
   "execution_count": 13,
   "id": "c97e817e-9aec-4bf7-9ab6-73a55d79944e",
   "metadata": {},
   "outputs": [
    {
     "data": {
      "text/html": [
       "<div>\n",
       "<style scoped>\n",
       "    .dataframe tbody tr th:only-of-type {\n",
       "        vertical-align: middle;\n",
       "    }\n",
       "\n",
       "    .dataframe tbody tr th {\n",
       "        vertical-align: top;\n",
       "    }\n",
       "\n",
       "    .dataframe thead th {\n",
       "        text-align: right;\n",
       "    }\n",
       "</style>\n",
       "<table border=\"1\" class=\"dataframe\">\n",
       "  <thead>\n",
       "    <tr style=\"text-align: right;\">\n",
       "      <th></th>\n",
       "      <th>Press</th>\n",
       "      <th>Headline</th>\n",
       "      <th>Analysis</th>\n",
       "    </tr>\n",
       "  </thead>\n",
       "  <tbody>\n",
       "    <tr>\n",
       "      <th>0</th>\n",
       "      <td>연합뉴스</td>\n",
       "      <td>'내년 첫 전기차 출시' 中샤오미 \"테슬라 따라잡을 준비됐다\"</td>\n",
       "      <td>긍정</td>\n",
       "    </tr>\n",
       "    <tr>\n",
       "      <th>1</th>\n",
       "      <td>YTN</td>\n",
       "      <td>'자국 우선주의' 허들 만난 '전기차', 묘수는?</td>\n",
       "      <td>중립</td>\n",
       "    </tr>\n",
       "    <tr>\n",
       "      <th>2</th>\n",
       "      <td>연합뉴스</td>\n",
       "      <td>애플 따라하던 中 샤오미, 전기차는 먼저 치고나가</td>\n",
       "      <td>긍정</td>\n",
       "    </tr>\n",
       "    <tr>\n",
       "      <th>3</th>\n",
       "      <td>연합뉴스</td>\n",
       "      <td>美 전기차 전환, 정부 지원에도 수요 감소로 기대보다 느려</td>\n",
       "      <td>부정</td>\n",
       "    </tr>\n",
       "    <tr>\n",
       "      <th>4</th>\n",
       "      <td>매일경제</td>\n",
       "      <td>주춤한 전기차 … 내년 보급형 몰려온다</td>\n",
       "      <td>중립</td>\n",
       "    </tr>\n",
       "  </tbody>\n",
       "</table>\n",
       "</div>"
      ],
      "text/plain": [
       "  Press                            Headline Analysis\n",
       "0  연합뉴스  '내년 첫 전기차 출시' 中샤오미 \"테슬라 따라잡을 준비됐다\"       긍정\n",
       "1   YTN         '자국 우선주의' 허들 만난 '전기차', 묘수는?       중립\n",
       "2  연합뉴스         애플 따라하던 中 샤오미, 전기차는 먼저 치고나가       긍정\n",
       "3  연합뉴스    美 전기차 전환, 정부 지원에도 수요 감소로 기대보다 느려       부정\n",
       "4  매일경제               주춤한 전기차 … 내년 보급형 몰려온다       중립"
      ]
     },
     "execution_count": 13,
     "metadata": {},
     "output_type": "execute_result"
    }
   ],
   "source": [
    "df23.head()"
   ]
  },
  {
   "cell_type": "code",
   "execution_count": 14,
   "id": "a8e97c70-a391-471d-8dd1-cba520487067",
   "metadata": {},
   "outputs": [
    {
     "name": "stdout",
     "output_type": "stream",
     "text": [
      "<class 'pandas.core.frame.DataFrame'>\n",
      "RangeIndex: 781 entries, 0 to 780\n",
      "Data columns (total 3 columns):\n",
      " #   Column    Non-Null Count  Dtype \n",
      "---  ------    --------------  ----- \n",
      " 0   Press     781 non-null    object\n",
      " 1   Headline  781 non-null    object\n",
      " 2   Analysis  781 non-null    object\n",
      "dtypes: object(3)\n",
      "memory usage: 18.4+ KB\n"
     ]
    }
   ],
   "source": [
    "df23.info()"
   ]
  },
  {
   "cell_type": "code",
   "execution_count": 15,
   "id": "56ecda3b-9dd4-4b38-8a3c-08e4789576df",
   "metadata": {},
   "outputs": [],
   "source": [
    "sens = df23['Headline']"
   ]
  },
  {
   "cell_type": "code",
   "execution_count": 16,
   "id": "dc44cd73-5363-4d38-994b-57f0ed5aa630",
   "metadata": {},
   "outputs": [
    {
     "data": {
      "text/plain": [
       "0         '내년 첫 전기차 출시' 中샤오미 \"테슬라 따라잡을 준비됐다\"\n",
       "1                '자국 우선주의' 허들 만난 '전기차', 묘수는?\n",
       "2                애플 따라하던 中 샤오미, 전기차는 먼저 치고나가\n",
       "3           美 전기차 전환, 정부 지원에도 수요 감소로 기대보다 느려\n",
       "4                      주춤한 전기차 … 내년 보급형 몰려온다\n",
       "                       ...                  \n",
       "95      \"순식간에 1,500℃까지 발화\"...전기차 화재 진압 방법 고심\n",
       "96                전기차 사러 왔다가 하이브리드 몰고 나가는 이유\n",
       "97                        제동 걸린 전기차 전환[오후여담]\n",
       "98        캐나다, 2035년까지 모든 차량 ‘전기차 의무화’ 공식 발표\n",
       "99    '프리미엄' 볼보도 4000만원대 전기차 출시…\"높은 가격이 걸림돌\"\n",
       "Name: Headline, Length: 100, dtype: object"
      ]
     },
     "execution_count": 16,
     "metadata": {},
     "output_type": "execute_result"
    }
   ],
   "source": [
    "sens.head(100)"
   ]
  },
  {
   "cell_type": "code",
   "execution_count": 17,
   "id": "d7c332fa-795f-4d05-a600-93cbe88d7356",
   "metadata": {},
   "outputs": [
    {
     "data": {
      "text/plain": [
       "\"'자국 우선주의' 허들 만난 '전기차', 묘수는?\""
      ]
     },
     "execution_count": 17,
     "metadata": {},
     "output_type": "execute_result"
    }
   ],
   "source": [
    "i=0\n",
    "sens.iloc[1]"
   ]
  },
  {
   "cell_type": "markdown",
   "id": "cd2c8a87-3553-404a-bde8-968db42bc6e5",
   "metadata": {},
   "source": [
    "# 0.1 빈도수 정확도를 높이기 위한 튜닝"
   ]
  },
  {
   "cell_type": "code",
   "execution_count": 18,
   "id": "7c6788ed-fc94-402b-ad8a-2988b5d8245a",
   "metadata": {},
   "outputs": [],
   "source": [
    "# sens에서 지정한 패턴이 아닌 글자를 공백으로 변경하고 sens에 재할당\n",
    "sens = sens.str.replace(pat = '[^가-힣A-Za-z0-9.]|&.+;', repl = '', regex = True)\n",
    "\n",
    "# 일부 단어를 변경함\n",
    "sens = sens.str.replace(pat = 'e트론', repl = '아우디', regex = True)\n",
    "sens = sens.str.replace(pat = '中', repl = '중국', regex = True)\n",
    "sens = sens.str.replace(pat = '美', repl = '미국', regex = True)\n",
    "sens = sens.str.replace(pat = '獨', repl = '독일', regex = True)\n",
    "# sens = sens.str.replace(pat = '전기', repl = '전기차', regex = True)\n",
    "sens = sens.str.replace(pat = '전기', repl = '', regex = True)\n",
    "sens = sens.str.replace(pat = '기차', repl = '', regex = True)\n",
    "sens = sens.str.replace(pat = '차다', repl = '', regex = True)"
   ]
  },
  {
   "cell_type": "markdown",
   "id": "521eb32b-04cd-40d2-bac7-2ab0bf6110b7",
   "metadata": {},
   "source": [
    "# 1. 형태소 분석"
   ]
  },
  {
   "cell_type": "code",
   "execution_count": 19,
   "id": "29fb9af8-53aa-4075-a3a7-ec78f4be409a",
   "metadata": {},
   "outputs": [],
   "source": [
    "kiwistop = Stopwords()"
   ]
  },
  {
   "cell_type": "code",
   "execution_count": 20,
   "id": "5b960ca0-a408-4a08-a3a8-71b87e348d93",
   "metadata": {},
   "outputs": [],
   "source": [
    "kiwi = Kiwi()"
   ]
  },
  {
   "cell_type": "code",
   "execution_count": 21,
   "id": "9437c1db-ae98-4237-9388-03ad6a292323",
   "metadata": {},
   "outputs": [
    {
     "data": {
      "text/plain": [
       "'내년첫차출시샤오미테슬라따라잡을준비됐다'"
      ]
     },
     "execution_count": 21,
     "metadata": {},
     "output_type": "execute_result"
    }
   ],
   "source": [
    "sens[i]"
   ]
  },
  {
   "cell_type": "code",
   "execution_count": 22,
   "id": "bdb69fd7-57ad-46f7-9513-a3f17e752026",
   "metadata": {},
   "outputs": [
    {
     "data": {
      "text/plain": [
       "[Token(form='내년', tag='NNG', start=0, len=2),\n",
       " Token(form='첫차', tag='NNG', start=2, len=2),\n",
       " Token(form='출시', tag='NNG', start=4, len=2),\n",
       " Token(form='샤오미', tag='NNP', start=6, len=3),\n",
       " Token(form='테슬라', tag='NNP', start=9, len=3),\n",
       " Token(form='따라잡', tag='VV-R', start=12, len=3),\n",
       " Token(form='준비', tag='NNG', start=16, len=2)]"
      ]
     },
     "execution_count": 22,
     "metadata": {},
     "output_type": "execute_result"
    }
   ],
   "source": [
    "kiwi.tokenize(text = sens[i], stopwords = kiwistop)"
   ]
  },
  {
   "cell_type": "code",
   "execution_count": 23,
   "id": "9ca8c8c5-0f0d-4aeb-9725-eb07e350ef2b",
   "metadata": {},
   "outputs": [],
   "source": [
    "words = ['인도', 'e트론']"
   ]
  },
  {
   "cell_type": "code",
   "execution_count": 24,
   "id": "d40a5746-f7f4-45fd-9d4c-b66194853219",
   "metadata": {},
   "outputs": [],
   "source": [
    "for word in words:\n",
    "    kiwi.add_user_word(word = word, tag = 'NNP', score = 15)"
   ]
  },
  {
   "cell_type": "code",
   "execution_count": 25,
   "id": "a2ded76a-e36a-49d0-b5d3-45d006d67039",
   "metadata": {},
   "outputs": [
    {
     "data": {
      "text/plain": [
       "[Token(form='내년', tag='NNG', start=0, len=2),\n",
       " Token(form='첫차', tag='NNG', start=2, len=2),\n",
       " Token(form='출시', tag='NNG', start=4, len=2),\n",
       " Token(form='샤오미', tag='NNP', start=6, len=3),\n",
       " Token(form='테슬라', tag='NNP', start=9, len=3),\n",
       " Token(form='따라잡', tag='VV-R', start=12, len=3),\n",
       " Token(form='준비', tag='NNG', start=16, len=2)]"
      ]
     },
     "execution_count": 25,
     "metadata": {},
     "output_type": "execute_result"
    }
   ],
   "source": [
    "tokens = kiwi.tokenize(text = sens[i], stopwords = kiwistop)\n",
    "\n",
    "tokens"
   ]
  },
  {
   "cell_type": "code",
   "execution_count": 26,
   "id": "e734ed9e-0850-4473-b5d3-237cda155518",
   "metadata": {},
   "outputs": [
    {
     "name": "stdout",
     "output_type": "stream",
     "text": [
      "형태:따라잡\n",
      "품사:VV-R\n"
     ]
    }
   ],
   "source": [
    "print(f'형태:{tokens[5].form}')\n",
    "print(f'품사:{tokens[5].tag}')"
   ]
  },
  {
   "cell_type": "code",
   "execution_count": 27,
   "id": "18357879-28ef-445d-8a3a-98b040260250",
   "metadata": {},
   "outputs": [],
   "source": [
    "pos1, pos2 = ['VV', 'VA'], ['NNG', 'NNP']"
   ]
  },
  {
   "cell_type": "code",
   "execution_count": 28,
   "id": "064b8b8d-db3a-4dac-b5c0-650fd99e0ef0",
   "metadata": {},
   "outputs": [
    {
     "data": {
      "text/plain": [
       "['내년', '첫차', '출시', '샤오미', '테슬라', '준비']"
      ]
     },
     "execution_count": 28,
     "metadata": {},
     "output_type": "execute_result"
    }
   ],
   "source": [
    "# 형태소의 품사가 용언과 체언인 형태소만 선택하고 품사가 용언인 형태소에 \n",
    "# 종결어미 '다'를 결합하여 리스트로 반환\n",
    "\n",
    "tokens = [token.form + '다' if token.tag in pos1 else token.form \n",
    "          for token in tokens if token.tag in pos1 + pos2]\n",
    "\n",
    "tokens"
   ]
  },
  {
   "cell_type": "markdown",
   "id": "c48c0c4d-09a3-49f2-9eea-21d2772b2fab",
   "metadata": {},
   "source": [
    "# 2. 말뭉치 생성"
   ]
  },
  {
   "cell_type": "code",
   "execution_count": 29,
   "id": "1a1c5394-4326-43a0-bc95-c7afa9d18f84",
   "metadata": {},
   "outputs": [],
   "source": [
    "# 말뭉치를 저장할 빈 리스트 생성\n",
    "corpus = list()\n",
    "\n",
    "# sens의 원소(문서)를 형태소 분석하고 일부 품사를 선택하여 말뭉치에 추가\n",
    "for sen in sens:\n",
    "    tokens = kiwi.tokenize(text = sen, stopwords = kiwistop)\n",
    "    tokens = [token.form + '다' if token.tag in pos1 else token.form \n",
    "              for token in tokens if token.tag in pos1 + pos2]\n",
    "    corpus.append(tokens)"
   ]
  },
  {
   "cell_type": "code",
   "execution_count": 30,
   "id": "da9b47cb-f979-4abc-9331-67e59931abd0",
   "metadata": {},
   "outputs": [
    {
     "name": "stdout",
     "output_type": "stream",
     "text": [
      "['내년', '첫차', '출시', '샤오미', '테슬라', '준비']\n",
      "['자국', '우선주의', '허들', '만나다', '차', '묘수']\n",
      "['애플', '샤오미', '차', '치다']\n",
      "['차', '전환', '정부', '지원', '수요', '감소', '기대', '느리다']\n",
      "['차', '내년', '보급', '몰려오다']\n"
     ]
    }
   ],
   "source": [
    "# 형태소 분석 결과(corpus)의 처음 5개 원소 확인\n",
    "# [참고] 원본 문서와 결과를 비교하여 사용자 사전에 추가하는 것을 반복해야 함\n",
    "for i in range(5):\n",
    "    print(corpus[i])"
   ]
  },
  {
   "cell_type": "code",
   "execution_count": 31,
   "id": "eab3d716-6933-4733-a461-4e6ed8e1889c",
   "metadata": {},
   "outputs": [
    {
     "name": "stdout",
     "output_type": "stream",
     "text": [
      "'내년 첫 전기차 출시' 中샤오미 \"테슬라 따라잡을 준비됐다\" \n",
      "\n",
      "'자국 우선주의' 허들 만난 '전기차', 묘수는? \n",
      "\n",
      "애플 따라하던 中 샤오미, 전기차는 먼저 치고나가 \n",
      "\n",
      "美 전기차 전환, 정부 지원에도 수요 감소로 기대보다 느려 \n",
      "\n",
      "주춤한 전기차 … 내년 보급형 몰려온다 \n",
      "\n"
     ]
    }
   ],
   "source": [
    "for i in range(5):\n",
    "    print(df23['Headline'].iloc[i], '\\n')"
   ]
  },
  {
   "cell_type": "markdown",
   "id": "caa5459d-efe4-4f64-ad40-1a71e2f6fea1",
   "metadata": {},
   "source": [
    "# 3. 문서-단어 행렬 생성"
   ]
  },
  {
   "cell_type": "code",
   "execution_count": 32,
   "id": "adc15791-e148-4a41-b49d-1f881fbbd252",
   "metadata": {},
   "outputs": [
    {
     "data": {
      "text/plain": [
       "['내년 첫차 출시 샤오미 테슬라 준비',\n",
       " '자국 우선주의 허들 만나다 차 묘수',\n",
       " '애플 샤오미 차 치다',\n",
       " '차 전환 정부 지원 수요 감소 기대 느리다',\n",
       " '차 내년 보급 몰려오다']"
      ]
     },
     "execution_count": 32,
     "metadata": {},
     "output_type": "execute_result"
    }
   ],
   "source": [
    "# corpus의 각 원소(리스트)를 하나의 문자열로 결합하여 corpus에 재할당\n",
    "# [참고] 문서-단어 행렬 생성하려면 corpus 원소가 문자열이어야 함\n",
    "corpus = [' '.join(i) for i in corpus]\n",
    "\n",
    "# corpus의 처음 5개 확인\n",
    "corpus[0:5]"
   ]
  },
  {
   "cell_type": "code",
   "execution_count": 33,
   "id": "85ba1281-2767-4217-a69c-12ae42293343",
   "metadata": {},
   "outputs": [],
   "source": [
    "# 문서별 단어의 tf를 계산하는 객체 생성\n",
    "# [참고] TfidfVectorizer()는 단어의 tf-idf를 반환\n",
    "cv = CountVectorizer()"
   ]
  },
  {
   "cell_type": "code",
   "execution_count": 34,
   "id": "887ae3dc-0ef7-427a-aa92-843425f3dfef",
   "metadata": {},
   "outputs": [
    {
     "data": {
      "text/plain": [
       "array([[0, 0, 0, ..., 0, 0, 0],\n",
       "       [0, 0, 0, ..., 0, 0, 0],\n",
       "       [0, 0, 0, ..., 0, 0, 0],\n",
       "       ...,\n",
       "       [0, 0, 0, ..., 0, 0, 0],\n",
       "       [0, 0, 0, ..., 0, 0, 0],\n",
       "       [0, 0, 0, ..., 0, 0, 0]], dtype=int64)"
      ]
     },
     "execution_count": 34,
     "metadata": {},
     "output_type": "execute_result"
    }
   ],
   "source": [
    "# 단어의 tf를 성분으로 갖는 문서-단어 행렬 생성\n",
    "dtm = cv.fit_transform(raw_documents = corpus).toarray()\n",
    "\n",
    "# dtm 확인\n",
    "# [참고] dtm은 2차원 행렬임\n",
    "dtm"
   ]
  },
  {
   "cell_type": "code",
   "execution_count": 35,
   "id": "0a19957e-0764-4632-8775-bbafef1be806",
   "metadata": {},
   "outputs": [
    {
     "data": {
      "text/plain": [
       "array(['1위비야디', '3사', '3연타', ..., '흔들리다', '희토', '히터'], dtype=object)"
      ]
     },
     "execution_count": 35,
     "metadata": {},
     "output_type": "execute_result"
    }
   ],
   "source": [
    "# cv 객체에 저장된 단어 목록 확인\n",
    "# [참고] 알파벳이 모두 소문자로 바뀌었음\n",
    "cv.get_feature_names_out()"
   ]
  },
  {
   "cell_type": "code",
   "execution_count": 36,
   "id": "2719ef69-0e40-43ad-86c3-e78f5d01faf9",
   "metadata": {},
   "outputs": [],
   "source": [
    "# dtm을 데이터프레임으로 변환\n",
    "dtm = pd.DataFrame(data = dtm, columns = cv.get_feature_names_out())"
   ]
  },
  {
   "cell_type": "code",
   "execution_count": 37,
   "id": "6fbe8b45-be24-44be-b152-51e43befd117",
   "metadata": {},
   "outputs": [],
   "source": [
    "# dtm의 열이름에서 알파벳을 대문자로 변경\n",
    "dtm.columns = dtm.columns.str.upper()"
   ]
  },
  {
   "cell_type": "code",
   "execution_count": 38,
   "id": "4a6640b5-7406-43fa-8d65-d1ac37296c64",
   "metadata": {},
   "outputs": [
    {
     "data": {
      "text/html": [
       "<div>\n",
       "<style scoped>\n",
       "    .dataframe tbody tr th:only-of-type {\n",
       "        vertical-align: middle;\n",
       "    }\n",
       "\n",
       "    .dataframe tbody tr th {\n",
       "        vertical-align: top;\n",
       "    }\n",
       "\n",
       "    .dataframe thead th {\n",
       "        text-align: right;\n",
       "    }\n",
       "</style>\n",
       "<table border=\"1\" class=\"dataframe\">\n",
       "  <thead>\n",
       "    <tr style=\"text-align: right;\">\n",
       "      <th></th>\n",
       "      <th>1위비야디</th>\n",
       "      <th>3사</th>\n",
       "      <th>3연타</th>\n",
       "      <th>KG르노차</th>\n",
       "      <th>LG이노텍</th>\n",
       "      <th>LG전자</th>\n",
       "      <th>LS머트</th>\n",
       "      <th>M피소드차</th>\n",
       "      <th>W차</th>\n",
       "      <th>가격</th>\n",
       "      <th>...</th>\n",
       "      <th>후발</th>\n",
       "      <th>후진</th>\n",
       "      <th>훈풍</th>\n",
       "      <th>휘발유</th>\n",
       "      <th>휘청이다</th>\n",
       "      <th>휴대폰</th>\n",
       "      <th>흑자</th>\n",
       "      <th>흔들리다</th>\n",
       "      <th>희토</th>\n",
       "      <th>히터</th>\n",
       "    </tr>\n",
       "  </thead>\n",
       "  <tbody>\n",
       "    <tr>\n",
       "      <th>0</th>\n",
       "      <td>0</td>\n",
       "      <td>0</td>\n",
       "      <td>0</td>\n",
       "      <td>0</td>\n",
       "      <td>0</td>\n",
       "      <td>0</td>\n",
       "      <td>0</td>\n",
       "      <td>0</td>\n",
       "      <td>0</td>\n",
       "      <td>0</td>\n",
       "      <td>...</td>\n",
       "      <td>0</td>\n",
       "      <td>0</td>\n",
       "      <td>0</td>\n",
       "      <td>0</td>\n",
       "      <td>0</td>\n",
       "      <td>0</td>\n",
       "      <td>0</td>\n",
       "      <td>0</td>\n",
       "      <td>0</td>\n",
       "      <td>0</td>\n",
       "    </tr>\n",
       "    <tr>\n",
       "      <th>1</th>\n",
       "      <td>0</td>\n",
       "      <td>0</td>\n",
       "      <td>0</td>\n",
       "      <td>0</td>\n",
       "      <td>0</td>\n",
       "      <td>0</td>\n",
       "      <td>0</td>\n",
       "      <td>0</td>\n",
       "      <td>0</td>\n",
       "      <td>0</td>\n",
       "      <td>...</td>\n",
       "      <td>0</td>\n",
       "      <td>0</td>\n",
       "      <td>0</td>\n",
       "      <td>0</td>\n",
       "      <td>0</td>\n",
       "      <td>0</td>\n",
       "      <td>0</td>\n",
       "      <td>0</td>\n",
       "      <td>0</td>\n",
       "      <td>0</td>\n",
       "    </tr>\n",
       "    <tr>\n",
       "      <th>2</th>\n",
       "      <td>0</td>\n",
       "      <td>0</td>\n",
       "      <td>0</td>\n",
       "      <td>0</td>\n",
       "      <td>0</td>\n",
       "      <td>0</td>\n",
       "      <td>0</td>\n",
       "      <td>0</td>\n",
       "      <td>0</td>\n",
       "      <td>0</td>\n",
       "      <td>...</td>\n",
       "      <td>0</td>\n",
       "      <td>0</td>\n",
       "      <td>0</td>\n",
       "      <td>0</td>\n",
       "      <td>0</td>\n",
       "      <td>0</td>\n",
       "      <td>0</td>\n",
       "      <td>0</td>\n",
       "      <td>0</td>\n",
       "      <td>0</td>\n",
       "    </tr>\n",
       "    <tr>\n",
       "      <th>3</th>\n",
       "      <td>0</td>\n",
       "      <td>0</td>\n",
       "      <td>0</td>\n",
       "      <td>0</td>\n",
       "      <td>0</td>\n",
       "      <td>0</td>\n",
       "      <td>0</td>\n",
       "      <td>0</td>\n",
       "      <td>0</td>\n",
       "      <td>0</td>\n",
       "      <td>...</td>\n",
       "      <td>0</td>\n",
       "      <td>0</td>\n",
       "      <td>0</td>\n",
       "      <td>0</td>\n",
       "      <td>0</td>\n",
       "      <td>0</td>\n",
       "      <td>0</td>\n",
       "      <td>0</td>\n",
       "      <td>0</td>\n",
       "      <td>0</td>\n",
       "    </tr>\n",
       "    <tr>\n",
       "      <th>4</th>\n",
       "      <td>0</td>\n",
       "      <td>0</td>\n",
       "      <td>0</td>\n",
       "      <td>0</td>\n",
       "      <td>0</td>\n",
       "      <td>0</td>\n",
       "      <td>0</td>\n",
       "      <td>0</td>\n",
       "      <td>0</td>\n",
       "      <td>0</td>\n",
       "      <td>...</td>\n",
       "      <td>0</td>\n",
       "      <td>0</td>\n",
       "      <td>0</td>\n",
       "      <td>0</td>\n",
       "      <td>0</td>\n",
       "      <td>0</td>\n",
       "      <td>0</td>\n",
       "      <td>0</td>\n",
       "      <td>0</td>\n",
       "      <td>0</td>\n",
       "    </tr>\n",
       "  </tbody>\n",
       "</table>\n",
       "<p>5 rows × 1599 columns</p>\n",
       "</div>"
      ],
      "text/plain": [
       "   1위비야디  3사  3연타  KG르노차  LG이노텍  LG전자  LS머트  M피소드차  W차  가격  ...  후발  후진  훈풍  \\\n",
       "0      0   0    0      0      0     0     0      0   0   0  ...   0   0   0   \n",
       "1      0   0    0      0      0     0     0      0   0   0  ...   0   0   0   \n",
       "2      0   0    0      0      0     0     0      0   0   0  ...   0   0   0   \n",
       "3      0   0    0      0      0     0     0      0   0   0  ...   0   0   0   \n",
       "4      0   0    0      0      0     0     0      0   0   0  ...   0   0   0   \n",
       "\n",
       "   휘발유  휘청이다  휴대폰  흑자  흔들리다  희토  히터  \n",
       "0    0     0    0   0     0   0   0  \n",
       "1    0     0    0   0     0   0   0  \n",
       "2    0     0    0   0     0   0   0  \n",
       "3    0     0    0   0     0   0   0  \n",
       "4    0     0    0   0     0   0   0  \n",
       "\n",
       "[5 rows x 1599 columns]"
      ]
     },
     "execution_count": 38,
     "metadata": {},
     "output_type": "execute_result"
    }
   ],
   "source": [
    "dtm.head()"
   ]
  },
  {
   "cell_type": "code",
   "execution_count": 39,
   "id": "379964bc-e625-4528-b32f-ab62a41e1392",
   "metadata": {},
   "outputs": [
    {
     "data": {
      "text/plain": [
       "(781, 1599)"
      ]
     },
     "execution_count": 39,
     "metadata": {},
     "output_type": "execute_result"
    }
   ],
   "source": [
    "dtm.shape"
   ]
  },
  {
   "cell_type": "code",
   "execution_count": 40,
   "id": "9c805aa9-37d6-4fc0-9e03-19373eb4b044",
   "metadata": {},
   "outputs": [],
   "source": [
    "tfs = dtm.sum().sort_values(ascending = False)"
   ]
  },
  {
   "cell_type": "code",
   "execution_count": 41,
   "id": "557845d5-68e9-4acc-b07b-6d7800be0eea",
   "metadata": {},
   "outputs": [
    {
     "data": {
      "text/plain": [
       "배터리    101\n",
       "보조금     94\n",
       "시장      56\n",
       "테슬라     54\n",
       "충전      52\n",
       "판매      39\n",
       "중국      38\n",
       "공장      37\n",
       "가격      34\n",
       "생산      33\n",
       "dtype: int64"
      ]
     },
     "metadata": {},
     "output_type": "display_data"
    },
    {
     "data": {
      "text/plain": [
       "석준     1\n",
       "서부     1\n",
       "상하이    1\n",
       "서류     1\n",
       "서도     1\n",
       "생활     1\n",
       "생존법    1\n",
       "생산량    1\n",
       "상황     1\n",
       "히터     1\n",
       "dtype: int64"
      ]
     },
     "metadata": {},
     "output_type": "display_data"
    }
   ],
   "source": [
    "# tfs의 상위 10개 및 하위 10개 확인\n",
    "display(tfs.head(n = 10))\n",
    "display(tfs.tail(n = 10))"
   ]
  },
  {
   "cell_type": "code",
   "execution_count": 42,
   "id": "09b53429-daef-4bdc-b7bb-2dbdade4ce6c",
   "metadata": {},
   "outputs": [],
   "source": [
    "# tfs가 20 이하인 인덱스(단어)를 dtm에서 제거\n",
    "# [참고] 단어 빈도수를 높일수록 dtm의 열(차원) 개수가 감소함\n",
    "threshold = 20\n",
    "dtm = dtm.drop(columns = tfs.loc[tfs.le(threshold)].index)"
   ]
  },
  {
   "cell_type": "code",
   "execution_count": 43,
   "id": "dbf2ac5b-7e52-4bef-b2ed-996343359135",
   "metadata": {},
   "outputs": [
    {
     "data": {
      "text/plain": [
       "(781, 22)"
      ]
     },
     "execution_count": 43,
     "metadata": {},
     "output_type": "execute_result"
    }
   ],
   "source": [
    "# dtm의 행 개수와 열 개수 확인\n",
    "# [참고] 단어 빈도수가 매우 작은 일부 단어를 삭제함으로써 차원(열) 축소 가능\n",
    "# [참고] dtm의 차원을 축소하면 행렬곱 연산을 빠르게 실행할 수 있음\n",
    "dtm.shape"
   ]
  },
  {
   "cell_type": "code",
   "execution_count": 44,
   "id": "5bbc4bc5-8aca-4cdd-b2b2-2ca2736f03db",
   "metadata": {},
   "outputs": [
    {
     "data": {
      "text/plain": [
       "'C:\\\\Users\\\\kim jeongah\\\\OneDrive\\\\Desktop\\\\DMF\\\\DBR_Project\\\\DBR_Project\\\\data'"
      ]
     },
     "execution_count": 44,
     "metadata": {},
     "output_type": "execute_result"
    }
   ],
   "source": [
    "# 현재 작업 경로 확인\n",
    "os.getcwd()"
   ]
  },
  {
   "cell_type": "code",
   "execution_count": 45,
   "id": "f770fe6a-f85d-4067-ba83-d015690e3e8b",
   "metadata": {},
   "outputs": [],
   "source": [
    "# corpus, tfs 및 dtm을 하나의 pkl 파일로 저장\n",
    "pd.to_pickle(obj = [corpus, tfs, dtm], filepath_or_buffer = '23_Prep.pkl')"
   ]
  },
  {
   "cell_type": "code",
   "execution_count": 46,
   "id": "c7986849-7520-486c-9fbc-4a389d6f6ccc",
   "metadata": {},
   "outputs": [
    {
     "data": {
      "text/plain": [
       "['22_Prep.pkl',\n",
       " '23_Prep.pkl',\n",
       " 'df22.pkl',\n",
       " 'df23.pkl',\n",
       " 'Naver_News_List.pkl',\n",
       " 'Naver_News_Reply.pkl',\n",
       " 'Text_Prep.pkl']"
      ]
     },
     "execution_count": 46,
     "metadata": {},
     "output_type": "execute_result"
    }
   ],
   "source": [
    "# 현재 작업 경로에 있는 폴더명과 파일명 확인\n",
    "os.listdir()"
   ]
  },
  {
   "cell_type": "code",
   "execution_count": 47,
   "id": "b48471f2-a640-4e48-b972-7ff257648413",
   "metadata": {},
   "outputs": [
    {
     "data": {
      "text/plain": [
       "Analysis\n",
       "부정    0.386684\n",
       "중립    0.320102\n",
       "긍정    0.293214\n",
       "Name: proportion, dtype: float64"
      ]
     },
     "execution_count": 47,
     "metadata": {},
     "output_type": "execute_result"
    }
   ],
   "source": [
    "df23['Analysis'].value_counts(normalize=True)"
   ]
  },
  {
   "cell_type": "code",
   "execution_count": 49,
   "id": "4fb5c104-1a08-4018-806a-cf65d2eeea06",
   "metadata": {},
   "outputs": [
    {
     "ename": "NameError",
     "evalue": "name 'df24' is not defined",
     "output_type": "error",
     "traceback": [
      "\u001b[1;31m---------------------------------------------------------------------------\u001b[0m",
      "\u001b[1;31mNameError\u001b[0m                                 Traceback (most recent call last)",
      "Cell \u001b[1;32mIn[49], line 1\u001b[0m\n\u001b[1;32m----> 1\u001b[0m \u001b[43mdf24\u001b[49m[\u001b[38;5;124m'\u001b[39m\u001b[38;5;124mAnalysis\u001b[39m\u001b[38;5;124m'\u001b[39m]\u001b[38;5;241m.\u001b[39mvalue_counts(normalize\u001b[38;5;241m=\u001b[39m\u001b[38;5;28;01mTrue\u001b[39;00m)\n",
      "\u001b[1;31mNameError\u001b[0m: name 'df24' is not defined"
     ]
    }
   ],
   "source": [
    "df24['Analysis'].value_counts(normalize=True)"
   ]
  },
  {
   "cell_type": "code",
   "execution_count": null,
   "id": "4aa830f0-9a0f-4aa0-9380-461509f121d9",
   "metadata": {},
   "outputs": [],
   "source": []
  }
 ],
 "metadata": {
  "kernelspec": {
   "display_name": "Python 3 (ipykernel)",
   "language": "python",
   "name": "python3"
  },
  "language_info": {
   "codemirror_mode": {
    "name": "ipython",
    "version": 3
   },
   "file_extension": ".py",
   "mimetype": "text/x-python",
   "name": "python",
   "nbconvert_exporter": "python",
   "pygments_lexer": "ipython3",
   "version": "3.12.4"
  }
 },
 "nbformat": 4,
 "nbformat_minor": 5
}
