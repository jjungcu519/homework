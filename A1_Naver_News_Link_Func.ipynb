{
 "cells": [
  {
   "cell_type": "markdown",
   "id": "4411ba6e",
   "metadata": {},
   "source": [
    "## 네이버 뉴스 링크 수집 함수 생성"
   ]
  },
  {
   "cell_type": "code",
   "execution_count": 1,
   "id": "f0b1da13",
   "metadata": {},
   "outputs": [],
   "source": [
    "# 라이브러리 호출\n",
    "import requests\n",
    "import json\n",
    "from bs4 import BeautifulSoup as bts\n",
    "import pandas as pd\n",
    "import numpy as np\n",
    "import time\n",
    "from tqdm.notebook import tqdm\n",
    "import os"
   ]
  },
  {
   "cell_type": "code",
   "execution_count": 2,
   "id": "40e95fb2",
   "metadata": {},
   "outputs": [],
   "source": [
    "# 네이버뉴스 링크를 수집하고 데이터프레임으로 반환하는 함수 생성\n",
    "def NaverNewsLink(searchWord, startNo = 1):\n",
    "    \n",
    "    # HTTP 요청 실행\n",
    "    # 쿼리 문자열: 정렬(sort)-관련도순, 기간(pd)-전체\n",
    "    res = requests.get(\n",
    "        url = 'https://s.search.naver.com/p/newssearch/search.naver',         \n",
    "        params = {\n",
    "            'nqx_theme': {'theme':{'main':{'name':'sports_event'},'sub':[{'name':'issue'}]}},\n",
    "            'query': searchWord,\n",
    "            'sort': 0,\n",
    "            'spq': 3,\n",
    "            'pd': 0,\n",
    "            'start': startNo,\n",
    "            'where': 'news_tab_api',\n",
    "        }\n",
    "    )\n",
    "    \n",
    "    # JSON 형태의 문자열을 딕셔너리로 변환\n",
    "    dic = json.loads(s = res.text)\n",
    "    \n",
    "    # 딕셔너리의 각 원소를 bs4.BeautifulSoup 객체로 변환\n",
    "    # [주의] HTTP 응답 바디 문자열에 공백이 있으면 items의 원소로 추가되므로 삭제해야 함\n",
    "    items = [bts(markup = i.strip(), features = 'html.parser') for i in dic['contents']]\n",
    "    \n",
    "    # 뉴스 링크를 포함하는 HTML 요소를 원소로 갖는 links 생성\n",
    "    links = [item.select('a.info:last-child') for item in items]\n",
    "    \n",
    "    # 언론사, 제목 및 네이버뉴스 링크를 원소로 갖는 데이터프레임 생성\n",
    "    newsList = pd.DataFrame(data = {\n",
    "        'press': [item.select(selector = 'a.press')[0].text for item in items], \n",
    "        'title': [item.select(selector = 'a.news_tit')[0].text for item in items], \n",
    "        'nlink': [link[0]['href'] if len(link) >= 1 else np.nan for link in links]\n",
    "    })\n",
    "    \n",
    "    # 데이터프레임 반환\n",
    "    return newsList"
   ]
  },
  {
   "cell_type": "code",
   "execution_count": 3,
   "id": "f3fdf9ce",
   "metadata": {},
   "outputs": [],
   "source": [
    "# 검색어 설정\n",
    "searchWord = '정몽규'"
   ]
  },
  {
   "cell_type": "code",
   "execution_count": 4,
   "id": "9aa6566a",
   "metadata": {},
   "outputs": [
    {
     "data": {
      "text/html": [
       "<div>\n",
       "<style scoped>\n",
       "    .dataframe tbody tr th:only-of-type {\n",
       "        vertical-align: middle;\n",
       "    }\n",
       "\n",
       "    .dataframe tbody tr th {\n",
       "        vertical-align: top;\n",
       "    }\n",
       "\n",
       "    .dataframe thead th {\n",
       "        text-align: right;\n",
       "    }\n",
       "</style>\n",
       "<table border=\"1\" class=\"dataframe\">\n",
       "  <thead>\n",
       "    <tr style=\"text-align: right;\">\n",
       "      <th></th>\n",
       "      <th>press</th>\n",
       "      <th>title</th>\n",
       "      <th>nlink</th>\n",
       "    </tr>\n",
       "  </thead>\n",
       "  <tbody>\n",
       "    <tr>\n",
       "      <th>0</th>\n",
       "      <td>뉴시스언론사 선정</td>\n",
       "      <td>올림픽 축구 탈락했는데 파리간 정몽규…\"냄비받침 선물하러 갔나\"</td>\n",
       "      <td>https://n.news.naver.com/mnews/article/003/001...</td>\n",
       "    </tr>\n",
       "    <tr>\n",
       "      <th>1</th>\n",
       "      <td>서울신문언론사 선정</td>\n",
       "      <td>올림픽 축구 탈락했는데…정몽규, 파리서 FIFA 회장 만났다</td>\n",
       "      <td>https://n.news.naver.com/mnews/article/081/000...</td>\n",
       "    </tr>\n",
       "    <tr>\n",
       "      <th>2</th>\n",
       "      <td>SBS Biz</td>\n",
       "      <td>'국민욕받이'라는 정몽규 회장…의문의 1패 [CEO 업앤다운]</td>\n",
       "      <td>https://n.news.naver.com/mnews/article/374/000...</td>\n",
       "    </tr>\n",
       "    <tr>\n",
       "      <th>3</th>\n",
       "      <td>조선비즈언론사 선정</td>\n",
       "      <td>“축구협회장도 맡아주세요” 정의선 비교에 씁쓸한 정몽규</td>\n",
       "      <td>https://n.news.naver.com/mnews/article/366/000...</td>\n",
       "    </tr>\n",
       "    <tr>\n",
       "      <th>4</th>\n",
       "      <td>노컷뉴스언론사 선정</td>\n",
       "      <td>정몽규는 헛발질, 정의선은 백발백중[파리올림픽]</td>\n",
       "      <td>https://n.news.naver.com/mnews/article/079/000...</td>\n",
       "    </tr>\n",
       "    <tr>\n",
       "      <th>5</th>\n",
       "      <td>뉴시스언론사 선정</td>\n",
       "      <td>\"누가 '책 내도 된다'고 했을 것\"…이천수, 자서전 회장님 저격</td>\n",
       "      <td>https://n.news.naver.com/mnews/article/003/001...</td>\n",
       "    </tr>\n",
       "    <tr>\n",
       "      <th>6</th>\n",
       "      <td>TV조선언론사 선정</td>\n",
       "      <td>시민단체, 정몽규 회장 고발…\"공식사과 하고 물러나야\"</td>\n",
       "      <td>https://n.news.naver.com/mnews/article/448/000...</td>\n",
       "    </tr>\n",
       "    <tr>\n",
       "      <th>7</th>\n",
       "      <td>위키트리</td>\n",
       "      <td>\"홍명보 연봉은…\" 이천수가 정몽규 대한축구협회장 향해 거침없이 내뱉은 말</td>\n",
       "      <td>NaN</td>\n",
       "    </tr>\n",
       "    <tr>\n",
       "      <th>8</th>\n",
       "      <td>국민일보언론사 선정</td>\n",
       "      <td>정몽규 “성적 나쁘다고 회장 퇴진? 나는 국민욕받이”</td>\n",
       "      <td>https://n.news.naver.com/mnews/article/005/000...</td>\n",
       "    </tr>\n",
       "    <tr>\n",
       "      <th>9</th>\n",
       "      <td>비즈니스포스트</td>\n",
       "      <td>[Who Is ?] 최익훈 HDC현대산업개발 대표이사</td>\n",
       "      <td>NaN</td>\n",
       "    </tr>\n",
       "  </tbody>\n",
       "</table>\n",
       "</div>"
      ],
      "text/plain": [
       "        press                                      title  \\\n",
       "0   뉴시스언론사 선정        올림픽 축구 탈락했는데 파리간 정몽규…\"냄비받침 선물하러 갔나\"   \n",
       "1  서울신문언론사 선정          올림픽 축구 탈락했는데…정몽규, 파리서 FIFA 회장 만났다   \n",
       "2     SBS Biz         '국민욕받이'라는 정몽규 회장…의문의 1패 [CEO 업앤다운]   \n",
       "3  조선비즈언론사 선정             “축구협회장도 맡아주세요” 정의선 비교에 씁쓸한 정몽규   \n",
       "4  노컷뉴스언론사 선정                 정몽규는 헛발질, 정의선은 백발백중[파리올림픽]   \n",
       "5   뉴시스언론사 선정       \"누가 '책 내도 된다'고 했을 것\"…이천수, 자서전 회장님 저격   \n",
       "6  TV조선언론사 선정             시민단체, 정몽규 회장 고발…\"공식사과 하고 물러나야\"   \n",
       "7        위키트리  \"홍명보 연봉은…\" 이천수가 정몽규 대한축구협회장 향해 거침없이 내뱉은 말   \n",
       "8  국민일보언론사 선정              정몽규 “성적 나쁘다고 회장 퇴진? 나는 국민욕받이”   \n",
       "9     비즈니스포스트              [Who Is ?] 최익훈 HDC현대산업개발 대표이사   \n",
       "\n",
       "                                               nlink  \n",
       "0  https://n.news.naver.com/mnews/article/003/001...  \n",
       "1  https://n.news.naver.com/mnews/article/081/000...  \n",
       "2  https://n.news.naver.com/mnews/article/374/000...  \n",
       "3  https://n.news.naver.com/mnews/article/366/000...  \n",
       "4  https://n.news.naver.com/mnews/article/079/000...  \n",
       "5  https://n.news.naver.com/mnews/article/003/001...  \n",
       "6  https://n.news.naver.com/mnews/article/448/000...  \n",
       "7                                                NaN  \n",
       "8  https://n.news.naver.com/mnews/article/005/000...  \n",
       "9                                                NaN  "
      ]
     },
     "execution_count": 4,
     "metadata": {},
     "output_type": "execute_result"
    }
   ],
   "source": [
    "# 함수 테스트\n",
    "NaverNewsLink(searchWord = searchWord)"
   ]
  },
  {
   "cell_type": "code",
   "execution_count": 5,
   "id": "59455a8b",
   "metadata": {},
   "outputs": [],
   "source": [
    "# 수집 건수 설정\n",
    "count = 100"
   ]
  },
  {
   "cell_type": "code",
   "execution_count": 6,
   "id": "7f8401d4",
   "metadata": {},
   "outputs": [
    {
     "data": {
      "application/vnd.jupyter.widget-view+json": {
       "model_id": "1a1117c0ab5748409731c9b037e8b2d9",
       "version_major": 2,
       "version_minor": 0
      },
      "text/plain": [
       "  0%|          | 0/10 [00:00<?, ?it/s]"
      ]
     },
     "metadata": {},
     "output_type": "display_data"
    }
   ],
   "source": [
    "# 최종 결과를 저장할 빈 데이터프레임 생성\n",
    "newsList = pd.DataFrame()\n",
    "\n",
    "# 반복문으로 관련 네이버뉴스 링크 수집\n",
    "for i in tqdm(range(1, count + 1, 10)):\n",
    "    \n",
    "    # 네이버뉴스 링크를 수집하고 df에 할당\n",
    "    df = NaverNewsLink(searchWord = searchWord, startNo = i)\n",
    "    \n",
    "    # 최종 결과에 df에 추가(행이름 삭제)\n",
    "    newsList = pd.concat(objs = [newsList, df], ignore_index = True)\n",
    "    \n",
    "    # 1초간 멈춤\n",
    "    time.sleep(1)"
   ]
  },
  {
   "cell_type": "code",
   "execution_count": 7,
   "id": "dcd8d35f",
   "metadata": {},
   "outputs": [
    {
     "data": {
      "text/html": [
       "<div>\n",
       "<style scoped>\n",
       "    .dataframe tbody tr th:only-of-type {\n",
       "        vertical-align: middle;\n",
       "    }\n",
       "\n",
       "    .dataframe tbody tr th {\n",
       "        vertical-align: top;\n",
       "    }\n",
       "\n",
       "    .dataframe thead th {\n",
       "        text-align: right;\n",
       "    }\n",
       "</style>\n",
       "<table border=\"1\" class=\"dataframe\">\n",
       "  <thead>\n",
       "    <tr style=\"text-align: right;\">\n",
       "      <th></th>\n",
       "      <th>press</th>\n",
       "      <th>title</th>\n",
       "      <th>nlink</th>\n",
       "    </tr>\n",
       "  </thead>\n",
       "  <tbody>\n",
       "    <tr>\n",
       "      <th>0</th>\n",
       "      <td>뉴시스언론사 선정</td>\n",
       "      <td>올림픽 축구 탈락했는데 파리간 정몽규…\"냄비받침 선물하러 갔나\"</td>\n",
       "      <td>https://n.news.naver.com/mnews/article/003/001...</td>\n",
       "    </tr>\n",
       "    <tr>\n",
       "      <th>1</th>\n",
       "      <td>서울신문언론사 선정</td>\n",
       "      <td>올림픽 축구 탈락했는데…정몽규, 파리서 FIFA 회장 만났다</td>\n",
       "      <td>https://n.news.naver.com/mnews/article/081/000...</td>\n",
       "    </tr>\n",
       "    <tr>\n",
       "      <th>2</th>\n",
       "      <td>SBS Biz</td>\n",
       "      <td>'국민욕받이'라는 정몽규 회장…의문의 1패 [CEO 업앤다운]</td>\n",
       "      <td>https://n.news.naver.com/mnews/article/374/000...</td>\n",
       "    </tr>\n",
       "    <tr>\n",
       "      <th>3</th>\n",
       "      <td>조선비즈언론사 선정</td>\n",
       "      <td>“축구협회장도 맡아주세요” 정의선 비교에 씁쓸한 정몽규</td>\n",
       "      <td>https://n.news.naver.com/mnews/article/366/000...</td>\n",
       "    </tr>\n",
       "    <tr>\n",
       "      <th>4</th>\n",
       "      <td>노컷뉴스언론사 선정</td>\n",
       "      <td>정몽규는 헛발질, 정의선은 백발백중[파리올림픽]</td>\n",
       "      <td>https://n.news.naver.com/mnews/article/079/000...</td>\n",
       "    </tr>\n",
       "  </tbody>\n",
       "</table>\n",
       "</div>"
      ],
      "text/plain": [
       "        press                                title  \\\n",
       "0   뉴시스언론사 선정  올림픽 축구 탈락했는데 파리간 정몽규…\"냄비받침 선물하러 갔나\"   \n",
       "1  서울신문언론사 선정    올림픽 축구 탈락했는데…정몽규, 파리서 FIFA 회장 만났다   \n",
       "2     SBS Biz   '국민욕받이'라는 정몽규 회장…의문의 1패 [CEO 업앤다운]   \n",
       "3  조선비즈언론사 선정       “축구협회장도 맡아주세요” 정의선 비교에 씁쓸한 정몽규   \n",
       "4  노컷뉴스언론사 선정           정몽규는 헛발질, 정의선은 백발백중[파리올림픽]   \n",
       "\n",
       "                                               nlink  \n",
       "0  https://n.news.naver.com/mnews/article/003/001...  \n",
       "1  https://n.news.naver.com/mnews/article/081/000...  \n",
       "2  https://n.news.naver.com/mnews/article/374/000...  \n",
       "3  https://n.news.naver.com/mnews/article/366/000...  \n",
       "4  https://n.news.naver.com/mnews/article/079/000...  "
      ]
     },
     "execution_count": 7,
     "metadata": {},
     "output_type": "execute_result"
    }
   ],
   "source": [
    "# newsList의 처음 5행 확인\n",
    "newsList.head()"
   ]
  },
  {
   "cell_type": "code",
   "execution_count": 8,
   "id": "779430fb",
   "metadata": {},
   "outputs": [
    {
     "name": "stdout",
     "output_type": "stream",
     "text": [
      "<class 'pandas.core.frame.DataFrame'>\n",
      "RangeIndex: 100 entries, 0 to 99\n",
      "Data columns (total 3 columns):\n",
      " #   Column  Non-Null Count  Dtype \n",
      "---  ------  --------------  ----- \n",
      " 0   press   100 non-null    object\n",
      " 1   title   100 non-null    object\n",
      " 2   nlink   77 non-null     object\n",
      "dtypes: object(3)\n",
      "memory usage: 2.5+ KB\n"
     ]
    }
   ],
   "source": [
    "# newsList의 정보 확인\n",
    "newsList.info()"
   ]
  },
  {
   "cell_type": "code",
   "execution_count": 9,
   "id": "910ac884",
   "metadata": {},
   "outputs": [],
   "source": [
    "# press에서 '언론사 선정' 삭제\n",
    "newsList['press'] = newsList['press'].str.replace(pat = '언론사 선정', repl = '')"
   ]
  },
  {
   "cell_type": "code",
   "execution_count": 10,
   "id": "d529ac5e",
   "metadata": {},
   "outputs": [
    {
     "data": {
      "text/plain": [
       "0        뉴시스\n",
       "1       서울신문\n",
       "2    SBS Biz\n",
       "3       조선비즈\n",
       "4       노컷뉴스\n",
       "Name: press, dtype: object"
      ]
     },
     "execution_count": 10,
     "metadata": {},
     "output_type": "execute_result"
    }
   ],
   "source": [
    "# press 처음 5행 확인\n",
    "newsList['press'].head()"
   ]
  },
  {
   "cell_type": "code",
   "execution_count": 11,
   "id": "33699fc7",
   "metadata": {},
   "outputs": [],
   "source": [
    "# nlink가 결측인 행 삭제\n",
    "newsList = newsList.loc[newsList['nlink'].notna(), :]"
   ]
  },
  {
   "cell_type": "code",
   "execution_count": 12,
   "id": "7c8596b2",
   "metadata": {},
   "outputs": [
    {
     "data": {
      "text/plain": [
       "77"
      ]
     },
     "execution_count": 12,
     "metadata": {},
     "output_type": "execute_result"
    }
   ],
   "source": [
    "# newsList의 행 개수 확인\n",
    "newsList.shape[0]"
   ]
  },
  {
   "cell_type": "code",
   "execution_count": 13,
   "id": "0c1a124c",
   "metadata": {},
   "outputs": [],
   "source": [
    "# nlink의 중복 여부(True/False)를 원소로 갖는 dups 생성\n",
    "# [참고] keep 매개변수에 'first'를 지정하면 첫 번째 중복 건은 False로 반환\n",
    "dups = newsList['nlink'].duplicated(keep = 'first')"
   ]
  },
  {
   "cell_type": "code",
   "execution_count": 14,
   "id": "d22a1ad0",
   "metadata": {},
   "outputs": [
    {
     "data": {
      "text/plain": [
       "0"
      ]
     },
     "execution_count": 14,
     "metadata": {},
     "output_type": "execute_result"
    }
   ],
   "source": [
    "# nlink가 중복(dups가 True)인 건수 확인\n",
    "dups.sum()"
   ]
  },
  {
   "cell_type": "code",
   "execution_count": 15,
   "id": "ddf2efe5",
   "metadata": {},
   "outputs": [],
   "source": [
    "# nlink가 중복인 행이 있으면 해당 행을 삭제\n",
    "newsList = newsList.loc[~dups, :]"
   ]
  },
  {
   "cell_type": "code",
   "execution_count": 16,
   "id": "ccc4f4c9",
   "metadata": {},
   "outputs": [
    {
     "data": {
      "text/plain": [
       "77"
      ]
     },
     "execution_count": 16,
     "metadata": {},
     "output_type": "execute_result"
    }
   ],
   "source": [
    "# newsList의 행 개수 확인\n",
    "newsList.shape[0]"
   ]
  },
  {
   "cell_type": "code",
   "execution_count": 17,
   "id": "a0f116c1",
   "metadata": {},
   "outputs": [],
   "source": [
    "# nlink에서 쿼리 문자열 삭제\n",
    "newsList['nlink'] = newsList['nlink'].str.replace(pat = r'(\\?.+)', repl = '', regex = True)"
   ]
  },
  {
   "cell_type": "code",
   "execution_count": 18,
   "id": "1b3c1906",
   "metadata": {},
   "outputs": [
    {
     "data": {
      "text/html": [
       "<div>\n",
       "<style scoped>\n",
       "    .dataframe tbody tr th:only-of-type {\n",
       "        vertical-align: middle;\n",
       "    }\n",
       "\n",
       "    .dataframe tbody tr th {\n",
       "        vertical-align: top;\n",
       "    }\n",
       "\n",
       "    .dataframe thead th {\n",
       "        text-align: right;\n",
       "    }\n",
       "</style>\n",
       "<table border=\"1\" class=\"dataframe\">\n",
       "  <thead>\n",
       "    <tr style=\"text-align: right;\">\n",
       "      <th></th>\n",
       "      <th>press</th>\n",
       "      <th>title</th>\n",
       "      <th>nlink</th>\n",
       "    </tr>\n",
       "  </thead>\n",
       "  <tbody>\n",
       "    <tr>\n",
       "      <th>0</th>\n",
       "      <td>뉴시스</td>\n",
       "      <td>올림픽 축구 탈락했는데 파리간 정몽규…\"냄비받침 선물하러 갔나\"</td>\n",
       "      <td>https://n.news.naver.com/mnews/article/003/001...</td>\n",
       "    </tr>\n",
       "    <tr>\n",
       "      <th>1</th>\n",
       "      <td>서울신문</td>\n",
       "      <td>올림픽 축구 탈락했는데…정몽규, 파리서 FIFA 회장 만났다</td>\n",
       "      <td>https://n.news.naver.com/mnews/article/081/000...</td>\n",
       "    </tr>\n",
       "    <tr>\n",
       "      <th>2</th>\n",
       "      <td>SBS Biz</td>\n",
       "      <td>'국민욕받이'라는 정몽규 회장…의문의 1패 [CEO 업앤다운]</td>\n",
       "      <td>https://n.news.naver.com/mnews/article/374/000...</td>\n",
       "    </tr>\n",
       "    <tr>\n",
       "      <th>3</th>\n",
       "      <td>조선비즈</td>\n",
       "      <td>“축구협회장도 맡아주세요” 정의선 비교에 씁쓸한 정몽규</td>\n",
       "      <td>https://n.news.naver.com/mnews/article/366/000...</td>\n",
       "    </tr>\n",
       "    <tr>\n",
       "      <th>4</th>\n",
       "      <td>노컷뉴스</td>\n",
       "      <td>정몽규는 헛발질, 정의선은 백발백중[파리올림픽]</td>\n",
       "      <td>https://n.news.naver.com/mnews/article/079/000...</td>\n",
       "    </tr>\n",
       "  </tbody>\n",
       "</table>\n",
       "</div>"
      ],
      "text/plain": [
       "     press                                title  \\\n",
       "0      뉴시스  올림픽 축구 탈락했는데 파리간 정몽규…\"냄비받침 선물하러 갔나\"   \n",
       "1     서울신문    올림픽 축구 탈락했는데…정몽규, 파리서 FIFA 회장 만났다   \n",
       "2  SBS Biz   '국민욕받이'라는 정몽규 회장…의문의 1패 [CEO 업앤다운]   \n",
       "3     조선비즈       “축구협회장도 맡아주세요” 정의선 비교에 씁쓸한 정몽규   \n",
       "4     노컷뉴스           정몽규는 헛발질, 정의선은 백발백중[파리올림픽]   \n",
       "\n",
       "                                               nlink  \n",
       "0  https://n.news.naver.com/mnews/article/003/001...  \n",
       "1  https://n.news.naver.com/mnews/article/081/000...  \n",
       "2  https://n.news.naver.com/mnews/article/374/000...  \n",
       "3  https://n.news.naver.com/mnews/article/366/000...  \n",
       "4  https://n.news.naver.com/mnews/article/079/000...  "
      ]
     },
     "execution_count": 18,
     "metadata": {},
     "output_type": "execute_result"
    }
   ],
   "source": [
    "# newsList의 처음 5행 확인\n",
    "newsList.head()"
   ]
  },
  {
   "cell_type": "code",
   "execution_count": 19,
   "id": "5759daf1",
   "metadata": {},
   "outputs": [],
   "source": [
    "# newsList의 행이름 초기화\n",
    "newsList = newsList.reset_index(drop = True)"
   ]
  },
  {
   "cell_type": "code",
   "execution_count": 20,
   "id": "f11997a6",
   "metadata": {},
   "outputs": [
    {
     "data": {
      "text/html": [
       "<div>\n",
       "<style scoped>\n",
       "    .dataframe tbody tr th:only-of-type {\n",
       "        vertical-align: middle;\n",
       "    }\n",
       "\n",
       "    .dataframe tbody tr th {\n",
       "        vertical-align: top;\n",
       "    }\n",
       "\n",
       "    .dataframe thead th {\n",
       "        text-align: right;\n",
       "    }\n",
       "</style>\n",
       "<table border=\"1\" class=\"dataframe\">\n",
       "  <thead>\n",
       "    <tr style=\"text-align: right;\">\n",
       "      <th></th>\n",
       "      <th>press</th>\n",
       "      <th>title</th>\n",
       "      <th>nlink</th>\n",
       "    </tr>\n",
       "  </thead>\n",
       "  <tbody>\n",
       "    <tr>\n",
       "      <th>0</th>\n",
       "      <td>뉴시스</td>\n",
       "      <td>올림픽 축구 탈락했는데 파리간 정몽규…\"냄비받침 선물하러 갔나\"</td>\n",
       "      <td>https://n.news.naver.com/mnews/article/003/001...</td>\n",
       "    </tr>\n",
       "    <tr>\n",
       "      <th>1</th>\n",
       "      <td>서울신문</td>\n",
       "      <td>올림픽 축구 탈락했는데…정몽규, 파리서 FIFA 회장 만났다</td>\n",
       "      <td>https://n.news.naver.com/mnews/article/081/000...</td>\n",
       "    </tr>\n",
       "    <tr>\n",
       "      <th>2</th>\n",
       "      <td>SBS Biz</td>\n",
       "      <td>'국민욕받이'라는 정몽규 회장…의문의 1패 [CEO 업앤다운]</td>\n",
       "      <td>https://n.news.naver.com/mnews/article/374/000...</td>\n",
       "    </tr>\n",
       "    <tr>\n",
       "      <th>3</th>\n",
       "      <td>조선비즈</td>\n",
       "      <td>“축구협회장도 맡아주세요” 정의선 비교에 씁쓸한 정몽규</td>\n",
       "      <td>https://n.news.naver.com/mnews/article/366/000...</td>\n",
       "    </tr>\n",
       "    <tr>\n",
       "      <th>4</th>\n",
       "      <td>노컷뉴스</td>\n",
       "      <td>정몽규는 헛발질, 정의선은 백발백중[파리올림픽]</td>\n",
       "      <td>https://n.news.naver.com/mnews/article/079/000...</td>\n",
       "    </tr>\n",
       "  </tbody>\n",
       "</table>\n",
       "</div>"
      ],
      "text/plain": [
       "     press                                title  \\\n",
       "0      뉴시스  올림픽 축구 탈락했는데 파리간 정몽규…\"냄비받침 선물하러 갔나\"   \n",
       "1     서울신문    올림픽 축구 탈락했는데…정몽규, 파리서 FIFA 회장 만났다   \n",
       "2  SBS Biz   '국민욕받이'라는 정몽규 회장…의문의 1패 [CEO 업앤다운]   \n",
       "3     조선비즈       “축구협회장도 맡아주세요” 정의선 비교에 씁쓸한 정몽규   \n",
       "4     노컷뉴스           정몽규는 헛발질, 정의선은 백발백중[파리올림픽]   \n",
       "\n",
       "                                               nlink  \n",
       "0  https://n.news.naver.com/mnews/article/003/001...  \n",
       "1  https://n.news.naver.com/mnews/article/081/000...  \n",
       "2  https://n.news.naver.com/mnews/article/374/000...  \n",
       "3  https://n.news.naver.com/mnews/article/366/000...  \n",
       "4  https://n.news.naver.com/mnews/article/079/000...  "
      ]
     },
     "execution_count": 20,
     "metadata": {},
     "output_type": "execute_result"
    }
   ],
   "source": [
    "# newsList의 처음 5행 확인\n",
    "newsList.head()"
   ]
  },
  {
   "cell_type": "code",
   "execution_count": 21,
   "id": "1b81a3d9",
   "metadata": {},
   "outputs": [
    {
     "data": {
      "text/plain": [
       "'/Users/seonghona/Documents/Lectures/Customer/DBR/code'"
      ]
     },
     "execution_count": 21,
     "metadata": {},
     "output_type": "execute_result"
    }
   ],
   "source": [
    "# 현재 작업 경로 확인\n",
    "os.getcwd()"
   ]
  },
  {
   "cell_type": "code",
   "execution_count": 22,
   "id": "4d737bd2",
   "metadata": {},
   "outputs": [],
   "source": [
    "# data 폴더로 작업 경로 변경\n",
    "os.chdir(path = '../data')"
   ]
  },
  {
   "cell_type": "code",
   "execution_count": 23,
   "id": "c514bda8",
   "metadata": {},
   "outputs": [],
   "source": [
    "# newsList를 pkl 파일로 저장\n",
    "pd.to_pickle(obj = newsList, filepath_or_buffer = 'Naver_News_List.pkl')"
   ]
  },
  {
   "cell_type": "code",
   "execution_count": 24,
   "id": "6fbc3db5",
   "metadata": {},
   "outputs": [
    {
     "data": {
      "text/plain": [
       "['Naver_News_List.pkl']"
      ]
     },
     "execution_count": 24,
     "metadata": {},
     "output_type": "execute_result"
    }
   ],
   "source": [
    "# 현재 작업 경로에 있는 폴더명과 파일명 확인\n",
    "os.listdir()"
   ]
  },
  {
   "cell_type": "markdown",
   "id": "b550c3b3",
   "metadata": {},
   "source": [
    "## End of Document"
   ]
  }
 ],
 "metadata": {
  "kernelspec": {
   "display_name": "Python 3 (ipykernel)",
   "language": "python",
   "name": "python3"
  },
  "language_info": {
   "codemirror_mode": {
    "name": "ipython",
    "version": 3
   },
   "file_extension": ".py",
   "mimetype": "text/x-python",
   "name": "python",
   "nbconvert_exporter": "python",
   "pygments_lexer": "ipython3",
   "version": "3.12.4"
  }
 },
 "nbformat": 4,
 "nbformat_minor": 5
}
